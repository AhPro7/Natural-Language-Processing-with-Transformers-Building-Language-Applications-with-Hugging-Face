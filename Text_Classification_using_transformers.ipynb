{
  "nbformat": 4,
  "nbformat_minor": 0,
  "metadata": {
    "colab": {
      "name": "Text_Classification_using_transformers.ipynb",
      "provenance": [],
      "authorship_tag": "ABX9TyOKRw1JZAIsMq+Bf5OHAKE5",
      "include_colab_link": true
    },
    "kernelspec": {
      "name": "python3",
      "display_name": "Python 3"
    },
    "language_info": {
      "name": "python"
    },
    "accelerator": "GPU",
    "gpuClass": "standard",
    "widgets": {
      "application/vnd.jupyter.widget-state+json": {
        "e3ed0a589650461193f7012dc0c67fb7": {
          "model_module": "@jupyter-widgets/controls",
          "model_name": "HBoxModel",
          "model_module_version": "1.5.0",
          "state": {
            "_dom_classes": [],
            "_model_module": "@jupyter-widgets/controls",
            "_model_module_version": "1.5.0",
            "_model_name": "HBoxModel",
            "_view_count": null,
            "_view_module": "@jupyter-widgets/controls",
            "_view_module_version": "1.5.0",
            "_view_name": "HBoxView",
            "box_style": "",
            "children": [
              "IPY_MODEL_fac0bfdcb93a407d832099c522146373",
              "IPY_MODEL_56decf1a15714bbea258f6e03c025f15",
              "IPY_MODEL_e364d30ce47541ea8cd0fe180dd514c6"
            ],
            "layout": "IPY_MODEL_856993d5e05c44daa409146df83aa55a"
          }
        },
        "fac0bfdcb93a407d832099c522146373": {
          "model_module": "@jupyter-widgets/controls",
          "model_name": "HTMLModel",
          "model_module_version": "1.5.0",
          "state": {
            "_dom_classes": [],
            "_model_module": "@jupyter-widgets/controls",
            "_model_module_version": "1.5.0",
            "_model_name": "HTMLModel",
            "_view_count": null,
            "_view_module": "@jupyter-widgets/controls",
            "_view_module_version": "1.5.0",
            "_view_name": "HTMLView",
            "description": "",
            "description_tooltip": null,
            "layout": "IPY_MODEL_b429b9194f654f25a61c355ae1dc901d",
            "placeholder": "​",
            "style": "IPY_MODEL_5ad598380b4e43fca1253d334545df99",
            "value": "100%"
          }
        },
        "56decf1a15714bbea258f6e03c025f15": {
          "model_module": "@jupyter-widgets/controls",
          "model_name": "FloatProgressModel",
          "model_module_version": "1.5.0",
          "state": {
            "_dom_classes": [],
            "_model_module": "@jupyter-widgets/controls",
            "_model_module_version": "1.5.0",
            "_model_name": "FloatProgressModel",
            "_view_count": null,
            "_view_module": "@jupyter-widgets/controls",
            "_view_module_version": "1.5.0",
            "_view_name": "ProgressView",
            "bar_style": "success",
            "description": "",
            "description_tooltip": null,
            "layout": "IPY_MODEL_3a6a50431e124e7ea7ccfe9b388afdd0",
            "max": 3,
            "min": 0,
            "orientation": "horizontal",
            "style": "IPY_MODEL_5974fbd6660b464ab3aa0b9ee903ef27",
            "value": 3
          }
        },
        "e364d30ce47541ea8cd0fe180dd514c6": {
          "model_module": "@jupyter-widgets/controls",
          "model_name": "HTMLModel",
          "model_module_version": "1.5.0",
          "state": {
            "_dom_classes": [],
            "_model_module": "@jupyter-widgets/controls",
            "_model_module_version": "1.5.0",
            "_model_name": "HTMLModel",
            "_view_count": null,
            "_view_module": "@jupyter-widgets/controls",
            "_view_module_version": "1.5.0",
            "_view_name": "HTMLView",
            "description": "",
            "description_tooltip": null,
            "layout": "IPY_MODEL_549656d4a2e74a88bec14e0f02c56d65",
            "placeholder": "​",
            "style": "IPY_MODEL_e4ad847f91d141e88f61cb731f4bec51",
            "value": " 3/3 [00:00&lt;00:00, 68.19it/s]"
          }
        },
        "856993d5e05c44daa409146df83aa55a": {
          "model_module": "@jupyter-widgets/base",
          "model_name": "LayoutModel",
          "model_module_version": "1.2.0",
          "state": {
            "_model_module": "@jupyter-widgets/base",
            "_model_module_version": "1.2.0",
            "_model_name": "LayoutModel",
            "_view_count": null,
            "_view_module": "@jupyter-widgets/base",
            "_view_module_version": "1.2.0",
            "_view_name": "LayoutView",
            "align_content": null,
            "align_items": null,
            "align_self": null,
            "border": null,
            "bottom": null,
            "display": null,
            "flex": null,
            "flex_flow": null,
            "grid_area": null,
            "grid_auto_columns": null,
            "grid_auto_flow": null,
            "grid_auto_rows": null,
            "grid_column": null,
            "grid_gap": null,
            "grid_row": null,
            "grid_template_areas": null,
            "grid_template_columns": null,
            "grid_template_rows": null,
            "height": null,
            "justify_content": null,
            "justify_items": null,
            "left": null,
            "margin": null,
            "max_height": null,
            "max_width": null,
            "min_height": null,
            "min_width": null,
            "object_fit": null,
            "object_position": null,
            "order": null,
            "overflow": null,
            "overflow_x": null,
            "overflow_y": null,
            "padding": null,
            "right": null,
            "top": null,
            "visibility": null,
            "width": null
          }
        },
        "b429b9194f654f25a61c355ae1dc901d": {
          "model_module": "@jupyter-widgets/base",
          "model_name": "LayoutModel",
          "model_module_version": "1.2.0",
          "state": {
            "_model_module": "@jupyter-widgets/base",
            "_model_module_version": "1.2.0",
            "_model_name": "LayoutModel",
            "_view_count": null,
            "_view_module": "@jupyter-widgets/base",
            "_view_module_version": "1.2.0",
            "_view_name": "LayoutView",
            "align_content": null,
            "align_items": null,
            "align_self": null,
            "border": null,
            "bottom": null,
            "display": null,
            "flex": null,
            "flex_flow": null,
            "grid_area": null,
            "grid_auto_columns": null,
            "grid_auto_flow": null,
            "grid_auto_rows": null,
            "grid_column": null,
            "grid_gap": null,
            "grid_row": null,
            "grid_template_areas": null,
            "grid_template_columns": null,
            "grid_template_rows": null,
            "height": null,
            "justify_content": null,
            "justify_items": null,
            "left": null,
            "margin": null,
            "max_height": null,
            "max_width": null,
            "min_height": null,
            "min_width": null,
            "object_fit": null,
            "object_position": null,
            "order": null,
            "overflow": null,
            "overflow_x": null,
            "overflow_y": null,
            "padding": null,
            "right": null,
            "top": null,
            "visibility": null,
            "width": null
          }
        },
        "5ad598380b4e43fca1253d334545df99": {
          "model_module": "@jupyter-widgets/controls",
          "model_name": "DescriptionStyleModel",
          "model_module_version": "1.5.0",
          "state": {
            "_model_module": "@jupyter-widgets/controls",
            "_model_module_version": "1.5.0",
            "_model_name": "DescriptionStyleModel",
            "_view_count": null,
            "_view_module": "@jupyter-widgets/base",
            "_view_module_version": "1.2.0",
            "_view_name": "StyleView",
            "description_width": ""
          }
        },
        "3a6a50431e124e7ea7ccfe9b388afdd0": {
          "model_module": "@jupyter-widgets/base",
          "model_name": "LayoutModel",
          "model_module_version": "1.2.0",
          "state": {
            "_model_module": "@jupyter-widgets/base",
            "_model_module_version": "1.2.0",
            "_model_name": "LayoutModel",
            "_view_count": null,
            "_view_module": "@jupyter-widgets/base",
            "_view_module_version": "1.2.0",
            "_view_name": "LayoutView",
            "align_content": null,
            "align_items": null,
            "align_self": null,
            "border": null,
            "bottom": null,
            "display": null,
            "flex": null,
            "flex_flow": null,
            "grid_area": null,
            "grid_auto_columns": null,
            "grid_auto_flow": null,
            "grid_auto_rows": null,
            "grid_column": null,
            "grid_gap": null,
            "grid_row": null,
            "grid_template_areas": null,
            "grid_template_columns": null,
            "grid_template_rows": null,
            "height": null,
            "justify_content": null,
            "justify_items": null,
            "left": null,
            "margin": null,
            "max_height": null,
            "max_width": null,
            "min_height": null,
            "min_width": null,
            "object_fit": null,
            "object_position": null,
            "order": null,
            "overflow": null,
            "overflow_x": null,
            "overflow_y": null,
            "padding": null,
            "right": null,
            "top": null,
            "visibility": null,
            "width": null
          }
        },
        "5974fbd6660b464ab3aa0b9ee903ef27": {
          "model_module": "@jupyter-widgets/controls",
          "model_name": "ProgressStyleModel",
          "model_module_version": "1.5.0",
          "state": {
            "_model_module": "@jupyter-widgets/controls",
            "_model_module_version": "1.5.0",
            "_model_name": "ProgressStyleModel",
            "_view_count": null,
            "_view_module": "@jupyter-widgets/base",
            "_view_module_version": "1.2.0",
            "_view_name": "StyleView",
            "bar_color": null,
            "description_width": ""
          }
        },
        "549656d4a2e74a88bec14e0f02c56d65": {
          "model_module": "@jupyter-widgets/base",
          "model_name": "LayoutModel",
          "model_module_version": "1.2.0",
          "state": {
            "_model_module": "@jupyter-widgets/base",
            "_model_module_version": "1.2.0",
            "_model_name": "LayoutModel",
            "_view_count": null,
            "_view_module": "@jupyter-widgets/base",
            "_view_module_version": "1.2.0",
            "_view_name": "LayoutView",
            "align_content": null,
            "align_items": null,
            "align_self": null,
            "border": null,
            "bottom": null,
            "display": null,
            "flex": null,
            "flex_flow": null,
            "grid_area": null,
            "grid_auto_columns": null,
            "grid_auto_flow": null,
            "grid_auto_rows": null,
            "grid_column": null,
            "grid_gap": null,
            "grid_row": null,
            "grid_template_areas": null,
            "grid_template_columns": null,
            "grid_template_rows": null,
            "height": null,
            "justify_content": null,
            "justify_items": null,
            "left": null,
            "margin": null,
            "max_height": null,
            "max_width": null,
            "min_height": null,
            "min_width": null,
            "object_fit": null,
            "object_position": null,
            "order": null,
            "overflow": null,
            "overflow_x": null,
            "overflow_y": null,
            "padding": null,
            "right": null,
            "top": null,
            "visibility": null,
            "width": null
          }
        },
        "e4ad847f91d141e88f61cb731f4bec51": {
          "model_module": "@jupyter-widgets/controls",
          "model_name": "DescriptionStyleModel",
          "model_module_version": "1.5.0",
          "state": {
            "_model_module": "@jupyter-widgets/controls",
            "_model_module_version": "1.5.0",
            "_model_name": "DescriptionStyleModel",
            "_view_count": null,
            "_view_module": "@jupyter-widgets/base",
            "_view_module_version": "1.2.0",
            "_view_name": "StyleView",
            "description_width": ""
          }
        },
        "083430d5bed84a98b27164ac0204094e": {
          "model_module": "@jupyter-widgets/controls",
          "model_name": "HBoxModel",
          "model_module_version": "1.5.0",
          "state": {
            "_dom_classes": [],
            "_model_module": "@jupyter-widgets/controls",
            "_model_module_version": "1.5.0",
            "_model_name": "HBoxModel",
            "_view_count": null,
            "_view_module": "@jupyter-widgets/controls",
            "_view_module_version": "1.5.0",
            "_view_name": "HBoxView",
            "box_style": "",
            "children": [
              "IPY_MODEL_d6942c2d8b854a90b5c440b0a7ef9ab4",
              "IPY_MODEL_2e5533c4b8fe424db9437d003ac84f93",
              "IPY_MODEL_58ea4bf9aaac4b77947e488df2fd1a2e"
            ],
            "layout": "IPY_MODEL_0b393d37609645aeb9ea1dc3647880f5"
          }
        },
        "d6942c2d8b854a90b5c440b0a7ef9ab4": {
          "model_module": "@jupyter-widgets/controls",
          "model_name": "HTMLModel",
          "model_module_version": "1.5.0",
          "state": {
            "_dom_classes": [],
            "_model_module": "@jupyter-widgets/controls",
            "_model_module_version": "1.5.0",
            "_model_name": "HTMLModel",
            "_view_count": null,
            "_view_module": "@jupyter-widgets/controls",
            "_view_module_version": "1.5.0",
            "_view_name": "HTMLView",
            "description": "",
            "description_tooltip": null,
            "layout": "IPY_MODEL_d766658da6ed40d3a5d5b2972c837554",
            "placeholder": "​",
            "style": "IPY_MODEL_bb1cb4992e204cc880bf3b39a1a24bb6",
            "value": "100%"
          }
        },
        "2e5533c4b8fe424db9437d003ac84f93": {
          "model_module": "@jupyter-widgets/controls",
          "model_name": "FloatProgressModel",
          "model_module_version": "1.5.0",
          "state": {
            "_dom_classes": [],
            "_model_module": "@jupyter-widgets/controls",
            "_model_module_version": "1.5.0",
            "_model_name": "FloatProgressModel",
            "_view_count": null,
            "_view_module": "@jupyter-widgets/controls",
            "_view_module_version": "1.5.0",
            "_view_name": "ProgressView",
            "bar_style": "success",
            "description": "",
            "description_tooltip": null,
            "layout": "IPY_MODEL_d42f4dadafcc4d7793d38bf5dbdba767",
            "max": 1,
            "min": 0,
            "orientation": "horizontal",
            "style": "IPY_MODEL_0784d3c2fd974119a9078ba268c84c9a",
            "value": 1
          }
        },
        "58ea4bf9aaac4b77947e488df2fd1a2e": {
          "model_module": "@jupyter-widgets/controls",
          "model_name": "HTMLModel",
          "model_module_version": "1.5.0",
          "state": {
            "_dom_classes": [],
            "_model_module": "@jupyter-widgets/controls",
            "_model_module_version": "1.5.0",
            "_model_name": "HTMLModel",
            "_view_count": null,
            "_view_module": "@jupyter-widgets/controls",
            "_view_module_version": "1.5.0",
            "_view_name": "HTMLView",
            "description": "",
            "description_tooltip": null,
            "layout": "IPY_MODEL_4453ce08a3964c97923c91673377c7d2",
            "placeholder": "​",
            "style": "IPY_MODEL_70c310e3412e46e2a1e18319f2ac05c5",
            "value": " 1/1 [00:01&lt;00:00,  1.48s/ba]"
          }
        },
        "0b393d37609645aeb9ea1dc3647880f5": {
          "model_module": "@jupyter-widgets/base",
          "model_name": "LayoutModel",
          "model_module_version": "1.2.0",
          "state": {
            "_model_module": "@jupyter-widgets/base",
            "_model_module_version": "1.2.0",
            "_model_name": "LayoutModel",
            "_view_count": null,
            "_view_module": "@jupyter-widgets/base",
            "_view_module_version": "1.2.0",
            "_view_name": "LayoutView",
            "align_content": null,
            "align_items": null,
            "align_self": null,
            "border": null,
            "bottom": null,
            "display": null,
            "flex": null,
            "flex_flow": null,
            "grid_area": null,
            "grid_auto_columns": null,
            "grid_auto_flow": null,
            "grid_auto_rows": null,
            "grid_column": null,
            "grid_gap": null,
            "grid_row": null,
            "grid_template_areas": null,
            "grid_template_columns": null,
            "grid_template_rows": null,
            "height": null,
            "justify_content": null,
            "justify_items": null,
            "left": null,
            "margin": null,
            "max_height": null,
            "max_width": null,
            "min_height": null,
            "min_width": null,
            "object_fit": null,
            "object_position": null,
            "order": null,
            "overflow": null,
            "overflow_x": null,
            "overflow_y": null,
            "padding": null,
            "right": null,
            "top": null,
            "visibility": null,
            "width": null
          }
        },
        "d766658da6ed40d3a5d5b2972c837554": {
          "model_module": "@jupyter-widgets/base",
          "model_name": "LayoutModel",
          "model_module_version": "1.2.0",
          "state": {
            "_model_module": "@jupyter-widgets/base",
            "_model_module_version": "1.2.0",
            "_model_name": "LayoutModel",
            "_view_count": null,
            "_view_module": "@jupyter-widgets/base",
            "_view_module_version": "1.2.0",
            "_view_name": "LayoutView",
            "align_content": null,
            "align_items": null,
            "align_self": null,
            "border": null,
            "bottom": null,
            "display": null,
            "flex": null,
            "flex_flow": null,
            "grid_area": null,
            "grid_auto_columns": null,
            "grid_auto_flow": null,
            "grid_auto_rows": null,
            "grid_column": null,
            "grid_gap": null,
            "grid_row": null,
            "grid_template_areas": null,
            "grid_template_columns": null,
            "grid_template_rows": null,
            "height": null,
            "justify_content": null,
            "justify_items": null,
            "left": null,
            "margin": null,
            "max_height": null,
            "max_width": null,
            "min_height": null,
            "min_width": null,
            "object_fit": null,
            "object_position": null,
            "order": null,
            "overflow": null,
            "overflow_x": null,
            "overflow_y": null,
            "padding": null,
            "right": null,
            "top": null,
            "visibility": null,
            "width": null
          }
        },
        "bb1cb4992e204cc880bf3b39a1a24bb6": {
          "model_module": "@jupyter-widgets/controls",
          "model_name": "DescriptionStyleModel",
          "model_module_version": "1.5.0",
          "state": {
            "_model_module": "@jupyter-widgets/controls",
            "_model_module_version": "1.5.0",
            "_model_name": "DescriptionStyleModel",
            "_view_count": null,
            "_view_module": "@jupyter-widgets/base",
            "_view_module_version": "1.2.0",
            "_view_name": "StyleView",
            "description_width": ""
          }
        },
        "d42f4dadafcc4d7793d38bf5dbdba767": {
          "model_module": "@jupyter-widgets/base",
          "model_name": "LayoutModel",
          "model_module_version": "1.2.0",
          "state": {
            "_model_module": "@jupyter-widgets/base",
            "_model_module_version": "1.2.0",
            "_model_name": "LayoutModel",
            "_view_count": null,
            "_view_module": "@jupyter-widgets/base",
            "_view_module_version": "1.2.0",
            "_view_name": "LayoutView",
            "align_content": null,
            "align_items": null,
            "align_self": null,
            "border": null,
            "bottom": null,
            "display": null,
            "flex": null,
            "flex_flow": null,
            "grid_area": null,
            "grid_auto_columns": null,
            "grid_auto_flow": null,
            "grid_auto_rows": null,
            "grid_column": null,
            "grid_gap": null,
            "grid_row": null,
            "grid_template_areas": null,
            "grid_template_columns": null,
            "grid_template_rows": null,
            "height": null,
            "justify_content": null,
            "justify_items": null,
            "left": null,
            "margin": null,
            "max_height": null,
            "max_width": null,
            "min_height": null,
            "min_width": null,
            "object_fit": null,
            "object_position": null,
            "order": null,
            "overflow": null,
            "overflow_x": null,
            "overflow_y": null,
            "padding": null,
            "right": null,
            "top": null,
            "visibility": null,
            "width": null
          }
        },
        "0784d3c2fd974119a9078ba268c84c9a": {
          "model_module": "@jupyter-widgets/controls",
          "model_name": "ProgressStyleModel",
          "model_module_version": "1.5.0",
          "state": {
            "_model_module": "@jupyter-widgets/controls",
            "_model_module_version": "1.5.0",
            "_model_name": "ProgressStyleModel",
            "_view_count": null,
            "_view_module": "@jupyter-widgets/base",
            "_view_module_version": "1.2.0",
            "_view_name": "StyleView",
            "bar_color": null,
            "description_width": ""
          }
        },
        "4453ce08a3964c97923c91673377c7d2": {
          "model_module": "@jupyter-widgets/base",
          "model_name": "LayoutModel",
          "model_module_version": "1.2.0",
          "state": {
            "_model_module": "@jupyter-widgets/base",
            "_model_module_version": "1.2.0",
            "_model_name": "LayoutModel",
            "_view_count": null,
            "_view_module": "@jupyter-widgets/base",
            "_view_module_version": "1.2.0",
            "_view_name": "LayoutView",
            "align_content": null,
            "align_items": null,
            "align_self": null,
            "border": null,
            "bottom": null,
            "display": null,
            "flex": null,
            "flex_flow": null,
            "grid_area": null,
            "grid_auto_columns": null,
            "grid_auto_flow": null,
            "grid_auto_rows": null,
            "grid_column": null,
            "grid_gap": null,
            "grid_row": null,
            "grid_template_areas": null,
            "grid_template_columns": null,
            "grid_template_rows": null,
            "height": null,
            "justify_content": null,
            "justify_items": null,
            "left": null,
            "margin": null,
            "max_height": null,
            "max_width": null,
            "min_height": null,
            "min_width": null,
            "object_fit": null,
            "object_position": null,
            "order": null,
            "overflow": null,
            "overflow_x": null,
            "overflow_y": null,
            "padding": null,
            "right": null,
            "top": null,
            "visibility": null,
            "width": null
          }
        },
        "70c310e3412e46e2a1e18319f2ac05c5": {
          "model_module": "@jupyter-widgets/controls",
          "model_name": "DescriptionStyleModel",
          "model_module_version": "1.5.0",
          "state": {
            "_model_module": "@jupyter-widgets/controls",
            "_model_module_version": "1.5.0",
            "_model_name": "DescriptionStyleModel",
            "_view_count": null,
            "_view_module": "@jupyter-widgets/base",
            "_view_module_version": "1.2.0",
            "_view_name": "StyleView",
            "description_width": ""
          }
        },
        "425637c1ef34490abc84e980e9e40676": {
          "model_module": "@jupyter-widgets/controls",
          "model_name": "HBoxModel",
          "model_module_version": "1.5.0",
          "state": {
            "_dom_classes": [],
            "_model_module": "@jupyter-widgets/controls",
            "_model_module_version": "1.5.0",
            "_model_name": "HBoxModel",
            "_view_count": null,
            "_view_module": "@jupyter-widgets/controls",
            "_view_module_version": "1.5.0",
            "_view_name": "HBoxView",
            "box_style": "",
            "children": [
              "IPY_MODEL_216fb5f76de241b197b9dd44520f6999",
              "IPY_MODEL_313911ed0594478092056f5f2cd325ed",
              "IPY_MODEL_7e6cda21625f4e129f7c1fcefadb0462"
            ],
            "layout": "IPY_MODEL_6c2c9fcb34c142a889da9f4d015cf71e"
          }
        },
        "216fb5f76de241b197b9dd44520f6999": {
          "model_module": "@jupyter-widgets/controls",
          "model_name": "HTMLModel",
          "model_module_version": "1.5.0",
          "state": {
            "_dom_classes": [],
            "_model_module": "@jupyter-widgets/controls",
            "_model_module_version": "1.5.0",
            "_model_name": "HTMLModel",
            "_view_count": null,
            "_view_module": "@jupyter-widgets/controls",
            "_view_module_version": "1.5.0",
            "_view_name": "HTMLView",
            "description": "",
            "description_tooltip": null,
            "layout": "IPY_MODEL_877d8381632a49bdab5c2043fc19e8f8",
            "placeholder": "​",
            "style": "IPY_MODEL_c6ee839a6b1a4444ac23b9d70576403b",
            "value": "100%"
          }
        },
        "313911ed0594478092056f5f2cd325ed": {
          "model_module": "@jupyter-widgets/controls",
          "model_name": "FloatProgressModel",
          "model_module_version": "1.5.0",
          "state": {
            "_dom_classes": [],
            "_model_module": "@jupyter-widgets/controls",
            "_model_module_version": "1.5.0",
            "_model_name": "FloatProgressModel",
            "_view_count": null,
            "_view_module": "@jupyter-widgets/controls",
            "_view_module_version": "1.5.0",
            "_view_name": "ProgressView",
            "bar_style": "success",
            "description": "",
            "description_tooltip": null,
            "layout": "IPY_MODEL_9bcc92955c194538bb41e1218f1bfb8a",
            "max": 1,
            "min": 0,
            "orientation": "horizontal",
            "style": "IPY_MODEL_90d1b7a4beb4491ba89270d170bfbe1d",
            "value": 1
          }
        },
        "7e6cda21625f4e129f7c1fcefadb0462": {
          "model_module": "@jupyter-widgets/controls",
          "model_name": "HTMLModel",
          "model_module_version": "1.5.0",
          "state": {
            "_dom_classes": [],
            "_model_module": "@jupyter-widgets/controls",
            "_model_module_version": "1.5.0",
            "_model_name": "HTMLModel",
            "_view_count": null,
            "_view_module": "@jupyter-widgets/controls",
            "_view_module_version": "1.5.0",
            "_view_name": "HTMLView",
            "description": "",
            "description_tooltip": null,
            "layout": "IPY_MODEL_1c87f86665d04ba7a82285a51f951773",
            "placeholder": "​",
            "style": "IPY_MODEL_505feeaaf0374312b454a39e3c9b81c6",
            "value": " 1/1 [00:00&lt;00:00,  1.96ba/s]"
          }
        },
        "6c2c9fcb34c142a889da9f4d015cf71e": {
          "model_module": "@jupyter-widgets/base",
          "model_name": "LayoutModel",
          "model_module_version": "1.2.0",
          "state": {
            "_model_module": "@jupyter-widgets/base",
            "_model_module_version": "1.2.0",
            "_model_name": "LayoutModel",
            "_view_count": null,
            "_view_module": "@jupyter-widgets/base",
            "_view_module_version": "1.2.0",
            "_view_name": "LayoutView",
            "align_content": null,
            "align_items": null,
            "align_self": null,
            "border": null,
            "bottom": null,
            "display": null,
            "flex": null,
            "flex_flow": null,
            "grid_area": null,
            "grid_auto_columns": null,
            "grid_auto_flow": null,
            "grid_auto_rows": null,
            "grid_column": null,
            "grid_gap": null,
            "grid_row": null,
            "grid_template_areas": null,
            "grid_template_columns": null,
            "grid_template_rows": null,
            "height": null,
            "justify_content": null,
            "justify_items": null,
            "left": null,
            "margin": null,
            "max_height": null,
            "max_width": null,
            "min_height": null,
            "min_width": null,
            "object_fit": null,
            "object_position": null,
            "order": null,
            "overflow": null,
            "overflow_x": null,
            "overflow_y": null,
            "padding": null,
            "right": null,
            "top": null,
            "visibility": null,
            "width": null
          }
        },
        "877d8381632a49bdab5c2043fc19e8f8": {
          "model_module": "@jupyter-widgets/base",
          "model_name": "LayoutModel",
          "model_module_version": "1.2.0",
          "state": {
            "_model_module": "@jupyter-widgets/base",
            "_model_module_version": "1.2.0",
            "_model_name": "LayoutModel",
            "_view_count": null,
            "_view_module": "@jupyter-widgets/base",
            "_view_module_version": "1.2.0",
            "_view_name": "LayoutView",
            "align_content": null,
            "align_items": null,
            "align_self": null,
            "border": null,
            "bottom": null,
            "display": null,
            "flex": null,
            "flex_flow": null,
            "grid_area": null,
            "grid_auto_columns": null,
            "grid_auto_flow": null,
            "grid_auto_rows": null,
            "grid_column": null,
            "grid_gap": null,
            "grid_row": null,
            "grid_template_areas": null,
            "grid_template_columns": null,
            "grid_template_rows": null,
            "height": null,
            "justify_content": null,
            "justify_items": null,
            "left": null,
            "margin": null,
            "max_height": null,
            "max_width": null,
            "min_height": null,
            "min_width": null,
            "object_fit": null,
            "object_position": null,
            "order": null,
            "overflow": null,
            "overflow_x": null,
            "overflow_y": null,
            "padding": null,
            "right": null,
            "top": null,
            "visibility": null,
            "width": null
          }
        },
        "c6ee839a6b1a4444ac23b9d70576403b": {
          "model_module": "@jupyter-widgets/controls",
          "model_name": "DescriptionStyleModel",
          "model_module_version": "1.5.0",
          "state": {
            "_model_module": "@jupyter-widgets/controls",
            "_model_module_version": "1.5.0",
            "_model_name": "DescriptionStyleModel",
            "_view_count": null,
            "_view_module": "@jupyter-widgets/base",
            "_view_module_version": "1.2.0",
            "_view_name": "StyleView",
            "description_width": ""
          }
        },
        "9bcc92955c194538bb41e1218f1bfb8a": {
          "model_module": "@jupyter-widgets/base",
          "model_name": "LayoutModel",
          "model_module_version": "1.2.0",
          "state": {
            "_model_module": "@jupyter-widgets/base",
            "_model_module_version": "1.2.0",
            "_model_name": "LayoutModel",
            "_view_count": null,
            "_view_module": "@jupyter-widgets/base",
            "_view_module_version": "1.2.0",
            "_view_name": "LayoutView",
            "align_content": null,
            "align_items": null,
            "align_self": null,
            "border": null,
            "bottom": null,
            "display": null,
            "flex": null,
            "flex_flow": null,
            "grid_area": null,
            "grid_auto_columns": null,
            "grid_auto_flow": null,
            "grid_auto_rows": null,
            "grid_column": null,
            "grid_gap": null,
            "grid_row": null,
            "grid_template_areas": null,
            "grid_template_columns": null,
            "grid_template_rows": null,
            "height": null,
            "justify_content": null,
            "justify_items": null,
            "left": null,
            "margin": null,
            "max_height": null,
            "max_width": null,
            "min_height": null,
            "min_width": null,
            "object_fit": null,
            "object_position": null,
            "order": null,
            "overflow": null,
            "overflow_x": null,
            "overflow_y": null,
            "padding": null,
            "right": null,
            "top": null,
            "visibility": null,
            "width": null
          }
        },
        "90d1b7a4beb4491ba89270d170bfbe1d": {
          "model_module": "@jupyter-widgets/controls",
          "model_name": "ProgressStyleModel",
          "model_module_version": "1.5.0",
          "state": {
            "_model_module": "@jupyter-widgets/controls",
            "_model_module_version": "1.5.0",
            "_model_name": "ProgressStyleModel",
            "_view_count": null,
            "_view_module": "@jupyter-widgets/base",
            "_view_module_version": "1.2.0",
            "_view_name": "StyleView",
            "bar_color": null,
            "description_width": ""
          }
        },
        "1c87f86665d04ba7a82285a51f951773": {
          "model_module": "@jupyter-widgets/base",
          "model_name": "LayoutModel",
          "model_module_version": "1.2.0",
          "state": {
            "_model_module": "@jupyter-widgets/base",
            "_model_module_version": "1.2.0",
            "_model_name": "LayoutModel",
            "_view_count": null,
            "_view_module": "@jupyter-widgets/base",
            "_view_module_version": "1.2.0",
            "_view_name": "LayoutView",
            "align_content": null,
            "align_items": null,
            "align_self": null,
            "border": null,
            "bottom": null,
            "display": null,
            "flex": null,
            "flex_flow": null,
            "grid_area": null,
            "grid_auto_columns": null,
            "grid_auto_flow": null,
            "grid_auto_rows": null,
            "grid_column": null,
            "grid_gap": null,
            "grid_row": null,
            "grid_template_areas": null,
            "grid_template_columns": null,
            "grid_template_rows": null,
            "height": null,
            "justify_content": null,
            "justify_items": null,
            "left": null,
            "margin": null,
            "max_height": null,
            "max_width": null,
            "min_height": null,
            "min_width": null,
            "object_fit": null,
            "object_position": null,
            "order": null,
            "overflow": null,
            "overflow_x": null,
            "overflow_y": null,
            "padding": null,
            "right": null,
            "top": null,
            "visibility": null,
            "width": null
          }
        },
        "505feeaaf0374312b454a39e3c9b81c6": {
          "model_module": "@jupyter-widgets/controls",
          "model_name": "DescriptionStyleModel",
          "model_module_version": "1.5.0",
          "state": {
            "_model_module": "@jupyter-widgets/controls",
            "_model_module_version": "1.5.0",
            "_model_name": "DescriptionStyleModel",
            "_view_count": null,
            "_view_module": "@jupyter-widgets/base",
            "_view_module_version": "1.2.0",
            "_view_name": "StyleView",
            "description_width": ""
          }
        },
        "1f53e67feb874a938a07fb1222b361d7": {
          "model_module": "@jupyter-widgets/controls",
          "model_name": "HBoxModel",
          "model_module_version": "1.5.0",
          "state": {
            "_dom_classes": [],
            "_model_module": "@jupyter-widgets/controls",
            "_model_module_version": "1.5.0",
            "_model_name": "HBoxModel",
            "_view_count": null,
            "_view_module": "@jupyter-widgets/controls",
            "_view_module_version": "1.5.0",
            "_view_name": "HBoxView",
            "box_style": "",
            "children": [
              "IPY_MODEL_1fb330036a2d4b91a503b87bf4c43bf6",
              "IPY_MODEL_3bbdafbb64d547919bf53a8a2b00b89c",
              "IPY_MODEL_3796bb6a21e9405c8eacb16c720355ff"
            ],
            "layout": "IPY_MODEL_ff69934113634e8692a4fe86737adae7"
          }
        },
        "1fb330036a2d4b91a503b87bf4c43bf6": {
          "model_module": "@jupyter-widgets/controls",
          "model_name": "HTMLModel",
          "model_module_version": "1.5.0",
          "state": {
            "_dom_classes": [],
            "_model_module": "@jupyter-widgets/controls",
            "_model_module_version": "1.5.0",
            "_model_name": "HTMLModel",
            "_view_count": null,
            "_view_module": "@jupyter-widgets/controls",
            "_view_module_version": "1.5.0",
            "_view_name": "HTMLView",
            "description": "",
            "description_tooltip": null,
            "layout": "IPY_MODEL_5daf5fae838341f191330f67a64076e9",
            "placeholder": "​",
            "style": "IPY_MODEL_accc576158af42a086468e7d37687c88",
            "value": "100%"
          }
        },
        "3bbdafbb64d547919bf53a8a2b00b89c": {
          "model_module": "@jupyter-widgets/controls",
          "model_name": "FloatProgressModel",
          "model_module_version": "1.5.0",
          "state": {
            "_dom_classes": [],
            "_model_module": "@jupyter-widgets/controls",
            "_model_module_version": "1.5.0",
            "_model_name": "FloatProgressModel",
            "_view_count": null,
            "_view_module": "@jupyter-widgets/controls",
            "_view_module_version": "1.5.0",
            "_view_name": "ProgressView",
            "bar_style": "success",
            "description": "",
            "description_tooltip": null,
            "layout": "IPY_MODEL_42e6068326ac4078a0e00cb7db1d9552",
            "max": 1,
            "min": 0,
            "orientation": "horizontal",
            "style": "IPY_MODEL_9d98221b00084d3eb3789b63c20c246b",
            "value": 1
          }
        },
        "3796bb6a21e9405c8eacb16c720355ff": {
          "model_module": "@jupyter-widgets/controls",
          "model_name": "HTMLModel",
          "model_module_version": "1.5.0",
          "state": {
            "_dom_classes": [],
            "_model_module": "@jupyter-widgets/controls",
            "_model_module_version": "1.5.0",
            "_model_name": "HTMLModel",
            "_view_count": null,
            "_view_module": "@jupyter-widgets/controls",
            "_view_module_version": "1.5.0",
            "_view_name": "HTMLView",
            "description": "",
            "description_tooltip": null,
            "layout": "IPY_MODEL_3943b6b5534d46ffacaae17ea9bbd44b",
            "placeholder": "​",
            "style": "IPY_MODEL_fa862f0b671d45f2a81a421d9106ab05",
            "value": " 1/1 [00:00&lt;00:00,  4.93ba/s]"
          }
        },
        "ff69934113634e8692a4fe86737adae7": {
          "model_module": "@jupyter-widgets/base",
          "model_name": "LayoutModel",
          "model_module_version": "1.2.0",
          "state": {
            "_model_module": "@jupyter-widgets/base",
            "_model_module_version": "1.2.0",
            "_model_name": "LayoutModel",
            "_view_count": null,
            "_view_module": "@jupyter-widgets/base",
            "_view_module_version": "1.2.0",
            "_view_name": "LayoutView",
            "align_content": null,
            "align_items": null,
            "align_self": null,
            "border": null,
            "bottom": null,
            "display": null,
            "flex": null,
            "flex_flow": null,
            "grid_area": null,
            "grid_auto_columns": null,
            "grid_auto_flow": null,
            "grid_auto_rows": null,
            "grid_column": null,
            "grid_gap": null,
            "grid_row": null,
            "grid_template_areas": null,
            "grid_template_columns": null,
            "grid_template_rows": null,
            "height": null,
            "justify_content": null,
            "justify_items": null,
            "left": null,
            "margin": null,
            "max_height": null,
            "max_width": null,
            "min_height": null,
            "min_width": null,
            "object_fit": null,
            "object_position": null,
            "order": null,
            "overflow": null,
            "overflow_x": null,
            "overflow_y": null,
            "padding": null,
            "right": null,
            "top": null,
            "visibility": null,
            "width": null
          }
        },
        "5daf5fae838341f191330f67a64076e9": {
          "model_module": "@jupyter-widgets/base",
          "model_name": "LayoutModel",
          "model_module_version": "1.2.0",
          "state": {
            "_model_module": "@jupyter-widgets/base",
            "_model_module_version": "1.2.0",
            "_model_name": "LayoutModel",
            "_view_count": null,
            "_view_module": "@jupyter-widgets/base",
            "_view_module_version": "1.2.0",
            "_view_name": "LayoutView",
            "align_content": null,
            "align_items": null,
            "align_self": null,
            "border": null,
            "bottom": null,
            "display": null,
            "flex": null,
            "flex_flow": null,
            "grid_area": null,
            "grid_auto_columns": null,
            "grid_auto_flow": null,
            "grid_auto_rows": null,
            "grid_column": null,
            "grid_gap": null,
            "grid_row": null,
            "grid_template_areas": null,
            "grid_template_columns": null,
            "grid_template_rows": null,
            "height": null,
            "justify_content": null,
            "justify_items": null,
            "left": null,
            "margin": null,
            "max_height": null,
            "max_width": null,
            "min_height": null,
            "min_width": null,
            "object_fit": null,
            "object_position": null,
            "order": null,
            "overflow": null,
            "overflow_x": null,
            "overflow_y": null,
            "padding": null,
            "right": null,
            "top": null,
            "visibility": null,
            "width": null
          }
        },
        "accc576158af42a086468e7d37687c88": {
          "model_module": "@jupyter-widgets/controls",
          "model_name": "DescriptionStyleModel",
          "model_module_version": "1.5.0",
          "state": {
            "_model_module": "@jupyter-widgets/controls",
            "_model_module_version": "1.5.0",
            "_model_name": "DescriptionStyleModel",
            "_view_count": null,
            "_view_module": "@jupyter-widgets/base",
            "_view_module_version": "1.2.0",
            "_view_name": "StyleView",
            "description_width": ""
          }
        },
        "42e6068326ac4078a0e00cb7db1d9552": {
          "model_module": "@jupyter-widgets/base",
          "model_name": "LayoutModel",
          "model_module_version": "1.2.0",
          "state": {
            "_model_module": "@jupyter-widgets/base",
            "_model_module_version": "1.2.0",
            "_model_name": "LayoutModel",
            "_view_count": null,
            "_view_module": "@jupyter-widgets/base",
            "_view_module_version": "1.2.0",
            "_view_name": "LayoutView",
            "align_content": null,
            "align_items": null,
            "align_self": null,
            "border": null,
            "bottom": null,
            "display": null,
            "flex": null,
            "flex_flow": null,
            "grid_area": null,
            "grid_auto_columns": null,
            "grid_auto_flow": null,
            "grid_auto_rows": null,
            "grid_column": null,
            "grid_gap": null,
            "grid_row": null,
            "grid_template_areas": null,
            "grid_template_columns": null,
            "grid_template_rows": null,
            "height": null,
            "justify_content": null,
            "justify_items": null,
            "left": null,
            "margin": null,
            "max_height": null,
            "max_width": null,
            "min_height": null,
            "min_width": null,
            "object_fit": null,
            "object_position": null,
            "order": null,
            "overflow": null,
            "overflow_x": null,
            "overflow_y": null,
            "padding": null,
            "right": null,
            "top": null,
            "visibility": null,
            "width": null
          }
        },
        "9d98221b00084d3eb3789b63c20c246b": {
          "model_module": "@jupyter-widgets/controls",
          "model_name": "ProgressStyleModel",
          "model_module_version": "1.5.0",
          "state": {
            "_model_module": "@jupyter-widgets/controls",
            "_model_module_version": "1.5.0",
            "_model_name": "ProgressStyleModel",
            "_view_count": null,
            "_view_module": "@jupyter-widgets/base",
            "_view_module_version": "1.2.0",
            "_view_name": "StyleView",
            "bar_color": null,
            "description_width": ""
          }
        },
        "3943b6b5534d46ffacaae17ea9bbd44b": {
          "model_module": "@jupyter-widgets/base",
          "model_name": "LayoutModel",
          "model_module_version": "1.2.0",
          "state": {
            "_model_module": "@jupyter-widgets/base",
            "_model_module_version": "1.2.0",
            "_model_name": "LayoutModel",
            "_view_count": null,
            "_view_module": "@jupyter-widgets/base",
            "_view_module_version": "1.2.0",
            "_view_name": "LayoutView",
            "align_content": null,
            "align_items": null,
            "align_self": null,
            "border": null,
            "bottom": null,
            "display": null,
            "flex": null,
            "flex_flow": null,
            "grid_area": null,
            "grid_auto_columns": null,
            "grid_auto_flow": null,
            "grid_auto_rows": null,
            "grid_column": null,
            "grid_gap": null,
            "grid_row": null,
            "grid_template_areas": null,
            "grid_template_columns": null,
            "grid_template_rows": null,
            "height": null,
            "justify_content": null,
            "justify_items": null,
            "left": null,
            "margin": null,
            "max_height": null,
            "max_width": null,
            "min_height": null,
            "min_width": null,
            "object_fit": null,
            "object_position": null,
            "order": null,
            "overflow": null,
            "overflow_x": null,
            "overflow_y": null,
            "padding": null,
            "right": null,
            "top": null,
            "visibility": null,
            "width": null
          }
        },
        "fa862f0b671d45f2a81a421d9106ab05": {
          "model_module": "@jupyter-widgets/controls",
          "model_name": "DescriptionStyleModel",
          "model_module_version": "1.5.0",
          "state": {
            "_model_module": "@jupyter-widgets/controls",
            "_model_module_version": "1.5.0",
            "_model_name": "DescriptionStyleModel",
            "_view_count": null,
            "_view_module": "@jupyter-widgets/base",
            "_view_module_version": "1.2.0",
            "_view_name": "StyleView",
            "description_width": ""
          }
        },
        "a1ed66487ae047d49ac59b8c85341358": {
          "model_module": "@jupyter-widgets/controls",
          "model_name": "HBoxModel",
          "model_module_version": "1.5.0",
          "state": {
            "_dom_classes": [],
            "_model_module": "@jupyter-widgets/controls",
            "_model_module_version": "1.5.0",
            "_model_name": "HBoxModel",
            "_view_count": null,
            "_view_module": "@jupyter-widgets/controls",
            "_view_module_version": "1.5.0",
            "_view_name": "HBoxView",
            "box_style": "",
            "children": [
              "IPY_MODEL_78559063d516401d9f55988087f638b2",
              "IPY_MODEL_b2ffb9c017e44faaa10df0be07c708e1",
              "IPY_MODEL_9d9c302d8d2748f589be3f1c9f238932"
            ],
            "layout": "IPY_MODEL_50e64784795a40ee96d71ea999ca4375"
          }
        },
        "78559063d516401d9f55988087f638b2": {
          "model_module": "@jupyter-widgets/controls",
          "model_name": "HTMLModel",
          "model_module_version": "1.5.0",
          "state": {
            "_dom_classes": [],
            "_model_module": "@jupyter-widgets/controls",
            "_model_module_version": "1.5.0",
            "_model_name": "HTMLModel",
            "_view_count": null,
            "_view_module": "@jupyter-widgets/controls",
            "_view_module_version": "1.5.0",
            "_view_name": "HTMLView",
            "description": "",
            "description_tooltip": null,
            "layout": "IPY_MODEL_236c60235188462e99d971f6def63d93",
            "placeholder": "​",
            "style": "IPY_MODEL_87193f08273d4f6aa2faab1bd2f14d8f",
            "value": "100%"
          }
        },
        "b2ffb9c017e44faaa10df0be07c708e1": {
          "model_module": "@jupyter-widgets/controls",
          "model_name": "FloatProgressModel",
          "model_module_version": "1.5.0",
          "state": {
            "_dom_classes": [],
            "_model_module": "@jupyter-widgets/controls",
            "_model_module_version": "1.5.0",
            "_model_name": "FloatProgressModel",
            "_view_count": null,
            "_view_module": "@jupyter-widgets/controls",
            "_view_module_version": "1.5.0",
            "_view_name": "ProgressView",
            "bar_style": "success",
            "description": "",
            "description_tooltip": null,
            "layout": "IPY_MODEL_7e4ed386cb6f48a5b93d04cc9dc342b5",
            "max": 16,
            "min": 0,
            "orientation": "horizontal",
            "style": "IPY_MODEL_41217c0306b945f88cb5ae4395aa949d",
            "value": 16
          }
        },
        "9d9c302d8d2748f589be3f1c9f238932": {
          "model_module": "@jupyter-widgets/controls",
          "model_name": "HTMLModel",
          "model_module_version": "1.5.0",
          "state": {
            "_dom_classes": [],
            "_model_module": "@jupyter-widgets/controls",
            "_model_module_version": "1.5.0",
            "_model_name": "HTMLModel",
            "_view_count": null,
            "_view_module": "@jupyter-widgets/controls",
            "_view_module_version": "1.5.0",
            "_view_name": "HTMLView",
            "description": "",
            "description_tooltip": null,
            "layout": "IPY_MODEL_d1717577e91442fbab39c360ff7800cb",
            "placeholder": "​",
            "style": "IPY_MODEL_8203d309dd42482dad0b13855ba7030a",
            "value": " 16/16 [00:41&lt;00:00,  2.59s/ba]"
          }
        },
        "50e64784795a40ee96d71ea999ca4375": {
          "model_module": "@jupyter-widgets/base",
          "model_name": "LayoutModel",
          "model_module_version": "1.2.0",
          "state": {
            "_model_module": "@jupyter-widgets/base",
            "_model_module_version": "1.2.0",
            "_model_name": "LayoutModel",
            "_view_count": null,
            "_view_module": "@jupyter-widgets/base",
            "_view_module_version": "1.2.0",
            "_view_name": "LayoutView",
            "align_content": null,
            "align_items": null,
            "align_self": null,
            "border": null,
            "bottom": null,
            "display": null,
            "flex": null,
            "flex_flow": null,
            "grid_area": null,
            "grid_auto_columns": null,
            "grid_auto_flow": null,
            "grid_auto_rows": null,
            "grid_column": null,
            "grid_gap": null,
            "grid_row": null,
            "grid_template_areas": null,
            "grid_template_columns": null,
            "grid_template_rows": null,
            "height": null,
            "justify_content": null,
            "justify_items": null,
            "left": null,
            "margin": null,
            "max_height": null,
            "max_width": null,
            "min_height": null,
            "min_width": null,
            "object_fit": null,
            "object_position": null,
            "order": null,
            "overflow": null,
            "overflow_x": null,
            "overflow_y": null,
            "padding": null,
            "right": null,
            "top": null,
            "visibility": null,
            "width": null
          }
        },
        "236c60235188462e99d971f6def63d93": {
          "model_module": "@jupyter-widgets/base",
          "model_name": "LayoutModel",
          "model_module_version": "1.2.0",
          "state": {
            "_model_module": "@jupyter-widgets/base",
            "_model_module_version": "1.2.0",
            "_model_name": "LayoutModel",
            "_view_count": null,
            "_view_module": "@jupyter-widgets/base",
            "_view_module_version": "1.2.0",
            "_view_name": "LayoutView",
            "align_content": null,
            "align_items": null,
            "align_self": null,
            "border": null,
            "bottom": null,
            "display": null,
            "flex": null,
            "flex_flow": null,
            "grid_area": null,
            "grid_auto_columns": null,
            "grid_auto_flow": null,
            "grid_auto_rows": null,
            "grid_column": null,
            "grid_gap": null,
            "grid_row": null,
            "grid_template_areas": null,
            "grid_template_columns": null,
            "grid_template_rows": null,
            "height": null,
            "justify_content": null,
            "justify_items": null,
            "left": null,
            "margin": null,
            "max_height": null,
            "max_width": null,
            "min_height": null,
            "min_width": null,
            "object_fit": null,
            "object_position": null,
            "order": null,
            "overflow": null,
            "overflow_x": null,
            "overflow_y": null,
            "padding": null,
            "right": null,
            "top": null,
            "visibility": null,
            "width": null
          }
        },
        "87193f08273d4f6aa2faab1bd2f14d8f": {
          "model_module": "@jupyter-widgets/controls",
          "model_name": "DescriptionStyleModel",
          "model_module_version": "1.5.0",
          "state": {
            "_model_module": "@jupyter-widgets/controls",
            "_model_module_version": "1.5.0",
            "_model_name": "DescriptionStyleModel",
            "_view_count": null,
            "_view_module": "@jupyter-widgets/base",
            "_view_module_version": "1.2.0",
            "_view_name": "StyleView",
            "description_width": ""
          }
        },
        "7e4ed386cb6f48a5b93d04cc9dc342b5": {
          "model_module": "@jupyter-widgets/base",
          "model_name": "LayoutModel",
          "model_module_version": "1.2.0",
          "state": {
            "_model_module": "@jupyter-widgets/base",
            "_model_module_version": "1.2.0",
            "_model_name": "LayoutModel",
            "_view_count": null,
            "_view_module": "@jupyter-widgets/base",
            "_view_module_version": "1.2.0",
            "_view_name": "LayoutView",
            "align_content": null,
            "align_items": null,
            "align_self": null,
            "border": null,
            "bottom": null,
            "display": null,
            "flex": null,
            "flex_flow": null,
            "grid_area": null,
            "grid_auto_columns": null,
            "grid_auto_flow": null,
            "grid_auto_rows": null,
            "grid_column": null,
            "grid_gap": null,
            "grid_row": null,
            "grid_template_areas": null,
            "grid_template_columns": null,
            "grid_template_rows": null,
            "height": null,
            "justify_content": null,
            "justify_items": null,
            "left": null,
            "margin": null,
            "max_height": null,
            "max_width": null,
            "min_height": null,
            "min_width": null,
            "object_fit": null,
            "object_position": null,
            "order": null,
            "overflow": null,
            "overflow_x": null,
            "overflow_y": null,
            "padding": null,
            "right": null,
            "top": null,
            "visibility": null,
            "width": null
          }
        },
        "41217c0306b945f88cb5ae4395aa949d": {
          "model_module": "@jupyter-widgets/controls",
          "model_name": "ProgressStyleModel",
          "model_module_version": "1.5.0",
          "state": {
            "_model_module": "@jupyter-widgets/controls",
            "_model_module_version": "1.5.0",
            "_model_name": "ProgressStyleModel",
            "_view_count": null,
            "_view_module": "@jupyter-widgets/base",
            "_view_module_version": "1.2.0",
            "_view_name": "StyleView",
            "bar_color": null,
            "description_width": ""
          }
        },
        "d1717577e91442fbab39c360ff7800cb": {
          "model_module": "@jupyter-widgets/base",
          "model_name": "LayoutModel",
          "model_module_version": "1.2.0",
          "state": {
            "_model_module": "@jupyter-widgets/base",
            "_model_module_version": "1.2.0",
            "_model_name": "LayoutModel",
            "_view_count": null,
            "_view_module": "@jupyter-widgets/base",
            "_view_module_version": "1.2.0",
            "_view_name": "LayoutView",
            "align_content": null,
            "align_items": null,
            "align_self": null,
            "border": null,
            "bottom": null,
            "display": null,
            "flex": null,
            "flex_flow": null,
            "grid_area": null,
            "grid_auto_columns": null,
            "grid_auto_flow": null,
            "grid_auto_rows": null,
            "grid_column": null,
            "grid_gap": null,
            "grid_row": null,
            "grid_template_areas": null,
            "grid_template_columns": null,
            "grid_template_rows": null,
            "height": null,
            "justify_content": null,
            "justify_items": null,
            "left": null,
            "margin": null,
            "max_height": null,
            "max_width": null,
            "min_height": null,
            "min_width": null,
            "object_fit": null,
            "object_position": null,
            "order": null,
            "overflow": null,
            "overflow_x": null,
            "overflow_y": null,
            "padding": null,
            "right": null,
            "top": null,
            "visibility": null,
            "width": null
          }
        },
        "8203d309dd42482dad0b13855ba7030a": {
          "model_module": "@jupyter-widgets/controls",
          "model_name": "DescriptionStyleModel",
          "model_module_version": "1.5.0",
          "state": {
            "_model_module": "@jupyter-widgets/controls",
            "_model_module_version": "1.5.0",
            "_model_name": "DescriptionStyleModel",
            "_view_count": null,
            "_view_module": "@jupyter-widgets/base",
            "_view_module_version": "1.2.0",
            "_view_name": "StyleView",
            "description_width": ""
          }
        },
        "44419ef50a7e4e11844fd39c7033a246": {
          "model_module": "@jupyter-widgets/controls",
          "model_name": "HBoxModel",
          "model_module_version": "1.5.0",
          "state": {
            "_dom_classes": [],
            "_model_module": "@jupyter-widgets/controls",
            "_model_module_version": "1.5.0",
            "_model_name": "HBoxModel",
            "_view_count": null,
            "_view_module": "@jupyter-widgets/controls",
            "_view_module_version": "1.5.0",
            "_view_name": "HBoxView",
            "box_style": "",
            "children": [
              "IPY_MODEL_5cad6be06000400884e5273c9ff9bfc9",
              "IPY_MODEL_dbb0411352cf4894b6f24864fb561cd5",
              "IPY_MODEL_9c3d592388cb442db56f982f63d2eb0f"
            ],
            "layout": "IPY_MODEL_0cb44dad4fbe4502bc1d5c90673e4627"
          }
        },
        "5cad6be06000400884e5273c9ff9bfc9": {
          "model_module": "@jupyter-widgets/controls",
          "model_name": "HTMLModel",
          "model_module_version": "1.5.0",
          "state": {
            "_dom_classes": [],
            "_model_module": "@jupyter-widgets/controls",
            "_model_module_version": "1.5.0",
            "_model_name": "HTMLModel",
            "_view_count": null,
            "_view_module": "@jupyter-widgets/controls",
            "_view_module_version": "1.5.0",
            "_view_name": "HTMLView",
            "description": "",
            "description_tooltip": null,
            "layout": "IPY_MODEL_82c6acff115e4a0fb5cf7027638963a0",
            "placeholder": "​",
            "style": "IPY_MODEL_854bd0d4239a46f0b276aba99d284515",
            "value": "100%"
          }
        },
        "dbb0411352cf4894b6f24864fb561cd5": {
          "model_module": "@jupyter-widgets/controls",
          "model_name": "FloatProgressModel",
          "model_module_version": "1.5.0",
          "state": {
            "_dom_classes": [],
            "_model_module": "@jupyter-widgets/controls",
            "_model_module_version": "1.5.0",
            "_model_name": "FloatProgressModel",
            "_view_count": null,
            "_view_module": "@jupyter-widgets/controls",
            "_view_module_version": "1.5.0",
            "_view_name": "ProgressView",
            "bar_style": "success",
            "description": "",
            "description_tooltip": null,
            "layout": "IPY_MODEL_4eb59b40ca0b433b9eb8237b66d6fe6c",
            "max": 2,
            "min": 0,
            "orientation": "horizontal",
            "style": "IPY_MODEL_b0317665276c4495855bf8013a250187",
            "value": 2
          }
        },
        "9c3d592388cb442db56f982f63d2eb0f": {
          "model_module": "@jupyter-widgets/controls",
          "model_name": "HTMLModel",
          "model_module_version": "1.5.0",
          "state": {
            "_dom_classes": [],
            "_model_module": "@jupyter-widgets/controls",
            "_model_module_version": "1.5.0",
            "_model_name": "HTMLModel",
            "_view_count": null,
            "_view_module": "@jupyter-widgets/controls",
            "_view_module_version": "1.5.0",
            "_view_name": "HTMLView",
            "description": "",
            "description_tooltip": null,
            "layout": "IPY_MODEL_945fc5dc679b460aac587edc6db8e438",
            "placeholder": "​",
            "style": "IPY_MODEL_dbb47a7dc8364c36ab83537876299b90",
            "value": " 2/2 [00:04&lt;00:00,  2.01s/ba]"
          }
        },
        "0cb44dad4fbe4502bc1d5c90673e4627": {
          "model_module": "@jupyter-widgets/base",
          "model_name": "LayoutModel",
          "model_module_version": "1.2.0",
          "state": {
            "_model_module": "@jupyter-widgets/base",
            "_model_module_version": "1.2.0",
            "_model_name": "LayoutModel",
            "_view_count": null,
            "_view_module": "@jupyter-widgets/base",
            "_view_module_version": "1.2.0",
            "_view_name": "LayoutView",
            "align_content": null,
            "align_items": null,
            "align_self": null,
            "border": null,
            "bottom": null,
            "display": null,
            "flex": null,
            "flex_flow": null,
            "grid_area": null,
            "grid_auto_columns": null,
            "grid_auto_flow": null,
            "grid_auto_rows": null,
            "grid_column": null,
            "grid_gap": null,
            "grid_row": null,
            "grid_template_areas": null,
            "grid_template_columns": null,
            "grid_template_rows": null,
            "height": null,
            "justify_content": null,
            "justify_items": null,
            "left": null,
            "margin": null,
            "max_height": null,
            "max_width": null,
            "min_height": null,
            "min_width": null,
            "object_fit": null,
            "object_position": null,
            "order": null,
            "overflow": null,
            "overflow_x": null,
            "overflow_y": null,
            "padding": null,
            "right": null,
            "top": null,
            "visibility": null,
            "width": null
          }
        },
        "82c6acff115e4a0fb5cf7027638963a0": {
          "model_module": "@jupyter-widgets/base",
          "model_name": "LayoutModel",
          "model_module_version": "1.2.0",
          "state": {
            "_model_module": "@jupyter-widgets/base",
            "_model_module_version": "1.2.0",
            "_model_name": "LayoutModel",
            "_view_count": null,
            "_view_module": "@jupyter-widgets/base",
            "_view_module_version": "1.2.0",
            "_view_name": "LayoutView",
            "align_content": null,
            "align_items": null,
            "align_self": null,
            "border": null,
            "bottom": null,
            "display": null,
            "flex": null,
            "flex_flow": null,
            "grid_area": null,
            "grid_auto_columns": null,
            "grid_auto_flow": null,
            "grid_auto_rows": null,
            "grid_column": null,
            "grid_gap": null,
            "grid_row": null,
            "grid_template_areas": null,
            "grid_template_columns": null,
            "grid_template_rows": null,
            "height": null,
            "justify_content": null,
            "justify_items": null,
            "left": null,
            "margin": null,
            "max_height": null,
            "max_width": null,
            "min_height": null,
            "min_width": null,
            "object_fit": null,
            "object_position": null,
            "order": null,
            "overflow": null,
            "overflow_x": null,
            "overflow_y": null,
            "padding": null,
            "right": null,
            "top": null,
            "visibility": null,
            "width": null
          }
        },
        "854bd0d4239a46f0b276aba99d284515": {
          "model_module": "@jupyter-widgets/controls",
          "model_name": "DescriptionStyleModel",
          "model_module_version": "1.5.0",
          "state": {
            "_model_module": "@jupyter-widgets/controls",
            "_model_module_version": "1.5.0",
            "_model_name": "DescriptionStyleModel",
            "_view_count": null,
            "_view_module": "@jupyter-widgets/base",
            "_view_module_version": "1.2.0",
            "_view_name": "StyleView",
            "description_width": ""
          }
        },
        "4eb59b40ca0b433b9eb8237b66d6fe6c": {
          "model_module": "@jupyter-widgets/base",
          "model_name": "LayoutModel",
          "model_module_version": "1.2.0",
          "state": {
            "_model_module": "@jupyter-widgets/base",
            "_model_module_version": "1.2.0",
            "_model_name": "LayoutModel",
            "_view_count": null,
            "_view_module": "@jupyter-widgets/base",
            "_view_module_version": "1.2.0",
            "_view_name": "LayoutView",
            "align_content": null,
            "align_items": null,
            "align_self": null,
            "border": null,
            "bottom": null,
            "display": null,
            "flex": null,
            "flex_flow": null,
            "grid_area": null,
            "grid_auto_columns": null,
            "grid_auto_flow": null,
            "grid_auto_rows": null,
            "grid_column": null,
            "grid_gap": null,
            "grid_row": null,
            "grid_template_areas": null,
            "grid_template_columns": null,
            "grid_template_rows": null,
            "height": null,
            "justify_content": null,
            "justify_items": null,
            "left": null,
            "margin": null,
            "max_height": null,
            "max_width": null,
            "min_height": null,
            "min_width": null,
            "object_fit": null,
            "object_position": null,
            "order": null,
            "overflow": null,
            "overflow_x": null,
            "overflow_y": null,
            "padding": null,
            "right": null,
            "top": null,
            "visibility": null,
            "width": null
          }
        },
        "b0317665276c4495855bf8013a250187": {
          "model_module": "@jupyter-widgets/controls",
          "model_name": "ProgressStyleModel",
          "model_module_version": "1.5.0",
          "state": {
            "_model_module": "@jupyter-widgets/controls",
            "_model_module_version": "1.5.0",
            "_model_name": "ProgressStyleModel",
            "_view_count": null,
            "_view_module": "@jupyter-widgets/base",
            "_view_module_version": "1.2.0",
            "_view_name": "StyleView",
            "bar_color": null,
            "description_width": ""
          }
        },
        "945fc5dc679b460aac587edc6db8e438": {
          "model_module": "@jupyter-widgets/base",
          "model_name": "LayoutModel",
          "model_module_version": "1.2.0",
          "state": {
            "_model_module": "@jupyter-widgets/base",
            "_model_module_version": "1.2.0",
            "_model_name": "LayoutModel",
            "_view_count": null,
            "_view_module": "@jupyter-widgets/base",
            "_view_module_version": "1.2.0",
            "_view_name": "LayoutView",
            "align_content": null,
            "align_items": null,
            "align_self": null,
            "border": null,
            "bottom": null,
            "display": null,
            "flex": null,
            "flex_flow": null,
            "grid_area": null,
            "grid_auto_columns": null,
            "grid_auto_flow": null,
            "grid_auto_rows": null,
            "grid_column": null,
            "grid_gap": null,
            "grid_row": null,
            "grid_template_areas": null,
            "grid_template_columns": null,
            "grid_template_rows": null,
            "height": null,
            "justify_content": null,
            "justify_items": null,
            "left": null,
            "margin": null,
            "max_height": null,
            "max_width": null,
            "min_height": null,
            "min_width": null,
            "object_fit": null,
            "object_position": null,
            "order": null,
            "overflow": null,
            "overflow_x": null,
            "overflow_y": null,
            "padding": null,
            "right": null,
            "top": null,
            "visibility": null,
            "width": null
          }
        },
        "dbb47a7dc8364c36ab83537876299b90": {
          "model_module": "@jupyter-widgets/controls",
          "model_name": "DescriptionStyleModel",
          "model_module_version": "1.5.0",
          "state": {
            "_model_module": "@jupyter-widgets/controls",
            "_model_module_version": "1.5.0",
            "_model_name": "DescriptionStyleModel",
            "_view_count": null,
            "_view_module": "@jupyter-widgets/base",
            "_view_module_version": "1.2.0",
            "_view_name": "StyleView",
            "description_width": ""
          }
        },
        "944f51db995d4cc19dc4e8ae48d58ccf": {
          "model_module": "@jupyter-widgets/controls",
          "model_name": "HBoxModel",
          "model_module_version": "1.5.0",
          "state": {
            "_dom_classes": [],
            "_model_module": "@jupyter-widgets/controls",
            "_model_module_version": "1.5.0",
            "_model_name": "HBoxModel",
            "_view_count": null,
            "_view_module": "@jupyter-widgets/controls",
            "_view_module_version": "1.5.0",
            "_view_name": "HBoxView",
            "box_style": "",
            "children": [
              "IPY_MODEL_ba154e86908d4d7590060fb868c8673c",
              "IPY_MODEL_e3afaff313984d1e9eb65649debd779e",
              "IPY_MODEL_af3486054ecd410891e0acc4eeb710e6"
            ],
            "layout": "IPY_MODEL_c0bbb77975df452e92c368d40e1b9509"
          }
        },
        "ba154e86908d4d7590060fb868c8673c": {
          "model_module": "@jupyter-widgets/controls",
          "model_name": "HTMLModel",
          "model_module_version": "1.5.0",
          "state": {
            "_dom_classes": [],
            "_model_module": "@jupyter-widgets/controls",
            "_model_module_version": "1.5.0",
            "_model_name": "HTMLModel",
            "_view_count": null,
            "_view_module": "@jupyter-widgets/controls",
            "_view_module_version": "1.5.0",
            "_view_name": "HTMLView",
            "description": "",
            "description_tooltip": null,
            "layout": "IPY_MODEL_73ce118cbd5e48118e7341ac7917f2e9",
            "placeholder": "​",
            "style": "IPY_MODEL_1efb60f885c14189b7db96d6701fbbc5",
            "value": "100%"
          }
        },
        "e3afaff313984d1e9eb65649debd779e": {
          "model_module": "@jupyter-widgets/controls",
          "model_name": "FloatProgressModel",
          "model_module_version": "1.5.0",
          "state": {
            "_dom_classes": [],
            "_model_module": "@jupyter-widgets/controls",
            "_model_module_version": "1.5.0",
            "_model_name": "FloatProgressModel",
            "_view_count": null,
            "_view_module": "@jupyter-widgets/controls",
            "_view_module_version": "1.5.0",
            "_view_name": "ProgressView",
            "bar_style": "success",
            "description": "",
            "description_tooltip": null,
            "layout": "IPY_MODEL_784a337c67a34a03ba3ef1b52509e89c",
            "max": 2,
            "min": 0,
            "orientation": "horizontal",
            "style": "IPY_MODEL_cbf9cacd48be4549952ddcdc3e79d766",
            "value": 2
          }
        },
        "af3486054ecd410891e0acc4eeb710e6": {
          "model_module": "@jupyter-widgets/controls",
          "model_name": "HTMLModel",
          "model_module_version": "1.5.0",
          "state": {
            "_dom_classes": [],
            "_model_module": "@jupyter-widgets/controls",
            "_model_module_version": "1.5.0",
            "_model_name": "HTMLModel",
            "_view_count": null,
            "_view_module": "@jupyter-widgets/controls",
            "_view_module_version": "1.5.0",
            "_view_name": "HTMLView",
            "description": "",
            "description_tooltip": null,
            "layout": "IPY_MODEL_82ff2b0c70ff47caa53932bcb787884c",
            "placeholder": "​",
            "style": "IPY_MODEL_e57fd0b95daf4ed486f76c7e39f7e43f",
            "value": " 2/2 [00:04&lt;00:00,  2.11s/ba]"
          }
        },
        "c0bbb77975df452e92c368d40e1b9509": {
          "model_module": "@jupyter-widgets/base",
          "model_name": "LayoutModel",
          "model_module_version": "1.2.0",
          "state": {
            "_model_module": "@jupyter-widgets/base",
            "_model_module_version": "1.2.0",
            "_model_name": "LayoutModel",
            "_view_count": null,
            "_view_module": "@jupyter-widgets/base",
            "_view_module_version": "1.2.0",
            "_view_name": "LayoutView",
            "align_content": null,
            "align_items": null,
            "align_self": null,
            "border": null,
            "bottom": null,
            "display": null,
            "flex": null,
            "flex_flow": null,
            "grid_area": null,
            "grid_auto_columns": null,
            "grid_auto_flow": null,
            "grid_auto_rows": null,
            "grid_column": null,
            "grid_gap": null,
            "grid_row": null,
            "grid_template_areas": null,
            "grid_template_columns": null,
            "grid_template_rows": null,
            "height": null,
            "justify_content": null,
            "justify_items": null,
            "left": null,
            "margin": null,
            "max_height": null,
            "max_width": null,
            "min_height": null,
            "min_width": null,
            "object_fit": null,
            "object_position": null,
            "order": null,
            "overflow": null,
            "overflow_x": null,
            "overflow_y": null,
            "padding": null,
            "right": null,
            "top": null,
            "visibility": null,
            "width": null
          }
        },
        "73ce118cbd5e48118e7341ac7917f2e9": {
          "model_module": "@jupyter-widgets/base",
          "model_name": "LayoutModel",
          "model_module_version": "1.2.0",
          "state": {
            "_model_module": "@jupyter-widgets/base",
            "_model_module_version": "1.2.0",
            "_model_name": "LayoutModel",
            "_view_count": null,
            "_view_module": "@jupyter-widgets/base",
            "_view_module_version": "1.2.0",
            "_view_name": "LayoutView",
            "align_content": null,
            "align_items": null,
            "align_self": null,
            "border": null,
            "bottom": null,
            "display": null,
            "flex": null,
            "flex_flow": null,
            "grid_area": null,
            "grid_auto_columns": null,
            "grid_auto_flow": null,
            "grid_auto_rows": null,
            "grid_column": null,
            "grid_gap": null,
            "grid_row": null,
            "grid_template_areas": null,
            "grid_template_columns": null,
            "grid_template_rows": null,
            "height": null,
            "justify_content": null,
            "justify_items": null,
            "left": null,
            "margin": null,
            "max_height": null,
            "max_width": null,
            "min_height": null,
            "min_width": null,
            "object_fit": null,
            "object_position": null,
            "order": null,
            "overflow": null,
            "overflow_x": null,
            "overflow_y": null,
            "padding": null,
            "right": null,
            "top": null,
            "visibility": null,
            "width": null
          }
        },
        "1efb60f885c14189b7db96d6701fbbc5": {
          "model_module": "@jupyter-widgets/controls",
          "model_name": "DescriptionStyleModel",
          "model_module_version": "1.5.0",
          "state": {
            "_model_module": "@jupyter-widgets/controls",
            "_model_module_version": "1.5.0",
            "_model_name": "DescriptionStyleModel",
            "_view_count": null,
            "_view_module": "@jupyter-widgets/base",
            "_view_module_version": "1.2.0",
            "_view_name": "StyleView",
            "description_width": ""
          }
        },
        "784a337c67a34a03ba3ef1b52509e89c": {
          "model_module": "@jupyter-widgets/base",
          "model_name": "LayoutModel",
          "model_module_version": "1.2.0",
          "state": {
            "_model_module": "@jupyter-widgets/base",
            "_model_module_version": "1.2.0",
            "_model_name": "LayoutModel",
            "_view_count": null,
            "_view_module": "@jupyter-widgets/base",
            "_view_module_version": "1.2.0",
            "_view_name": "LayoutView",
            "align_content": null,
            "align_items": null,
            "align_self": null,
            "border": null,
            "bottom": null,
            "display": null,
            "flex": null,
            "flex_flow": null,
            "grid_area": null,
            "grid_auto_columns": null,
            "grid_auto_flow": null,
            "grid_auto_rows": null,
            "grid_column": null,
            "grid_gap": null,
            "grid_row": null,
            "grid_template_areas": null,
            "grid_template_columns": null,
            "grid_template_rows": null,
            "height": null,
            "justify_content": null,
            "justify_items": null,
            "left": null,
            "margin": null,
            "max_height": null,
            "max_width": null,
            "min_height": null,
            "min_width": null,
            "object_fit": null,
            "object_position": null,
            "order": null,
            "overflow": null,
            "overflow_x": null,
            "overflow_y": null,
            "padding": null,
            "right": null,
            "top": null,
            "visibility": null,
            "width": null
          }
        },
        "cbf9cacd48be4549952ddcdc3e79d766": {
          "model_module": "@jupyter-widgets/controls",
          "model_name": "ProgressStyleModel",
          "model_module_version": "1.5.0",
          "state": {
            "_model_module": "@jupyter-widgets/controls",
            "_model_module_version": "1.5.0",
            "_model_name": "ProgressStyleModel",
            "_view_count": null,
            "_view_module": "@jupyter-widgets/base",
            "_view_module_version": "1.2.0",
            "_view_name": "StyleView",
            "bar_color": null,
            "description_width": ""
          }
        },
        "82ff2b0c70ff47caa53932bcb787884c": {
          "model_module": "@jupyter-widgets/base",
          "model_name": "LayoutModel",
          "model_module_version": "1.2.0",
          "state": {
            "_model_module": "@jupyter-widgets/base",
            "_model_module_version": "1.2.0",
            "_model_name": "LayoutModel",
            "_view_count": null,
            "_view_module": "@jupyter-widgets/base",
            "_view_module_version": "1.2.0",
            "_view_name": "LayoutView",
            "align_content": null,
            "align_items": null,
            "align_self": null,
            "border": null,
            "bottom": null,
            "display": null,
            "flex": null,
            "flex_flow": null,
            "grid_area": null,
            "grid_auto_columns": null,
            "grid_auto_flow": null,
            "grid_auto_rows": null,
            "grid_column": null,
            "grid_gap": null,
            "grid_row": null,
            "grid_template_areas": null,
            "grid_template_columns": null,
            "grid_template_rows": null,
            "height": null,
            "justify_content": null,
            "justify_items": null,
            "left": null,
            "margin": null,
            "max_height": null,
            "max_width": null,
            "min_height": null,
            "min_width": null,
            "object_fit": null,
            "object_position": null,
            "order": null,
            "overflow": null,
            "overflow_x": null,
            "overflow_y": null,
            "padding": null,
            "right": null,
            "top": null,
            "visibility": null,
            "width": null
          }
        },
        "e57fd0b95daf4ed486f76c7e39f7e43f": {
          "model_module": "@jupyter-widgets/controls",
          "model_name": "DescriptionStyleModel",
          "model_module_version": "1.5.0",
          "state": {
            "_model_module": "@jupyter-widgets/controls",
            "_model_module_version": "1.5.0",
            "_model_name": "DescriptionStyleModel",
            "_view_count": null,
            "_view_module": "@jupyter-widgets/base",
            "_view_module_version": "1.2.0",
            "_view_name": "StyleView",
            "description_width": ""
          }
        },
        "5d2027edea784f7793073fbe81c0125a": {
          "model_module": "@jupyter-widgets/controls",
          "model_name": "VBoxModel",
          "model_module_version": "1.5.0",
          "state": {
            "_dom_classes": [],
            "_model_module": "@jupyter-widgets/controls",
            "_model_module_version": "1.5.0",
            "_model_name": "VBoxModel",
            "_view_count": null,
            "_view_module": "@jupyter-widgets/controls",
            "_view_module_version": "1.5.0",
            "_view_name": "VBoxView",
            "box_style": "",
            "children": [
              "IPY_MODEL_9046071571564c80a13bbfd8ecf3d5a6",
              "IPY_MODEL_65121e69bade4f8ba062afa05d48793a",
              "IPY_MODEL_c5c24d0f4e2746c190aec0e98f7af853",
              "IPY_MODEL_3aa3928fe23048a79b6fb04c9d2bb350"
            ],
            "layout": "IPY_MODEL_bbdd0f4a647b4ed2aaca90208259bf45"
          }
        },
        "9046071571564c80a13bbfd8ecf3d5a6": {
          "model_module": "@jupyter-widgets/controls",
          "model_name": "HTMLModel",
          "model_module_version": "1.5.0",
          "state": {
            "_dom_classes": [],
            "_model_module": "@jupyter-widgets/controls",
            "_model_module_version": "1.5.0",
            "_model_name": "HTMLModel",
            "_view_count": null,
            "_view_module": "@jupyter-widgets/controls",
            "_view_module_version": "1.5.0",
            "_view_name": "HTMLView",
            "description": "",
            "description_tooltip": null,
            "layout": "IPY_MODEL_adb092a56f9d4b299fe4d18dc2ddfd38",
            "placeholder": "​",
            "style": "IPY_MODEL_0f2a1fb770774792b3a8d22dbbea927b",
            "value": "<center> <img\nsrc=https://huggingface.co/front/assets/huggingface_logo-noborder.svg\nalt='Hugging Face'> <br> Copy a token from <a\nhref=\"https://huggingface.co/settings/tokens\" target=\"_blank\">your Hugging Face\ntokens page</a> and paste it below. <br> Immediately click login after copying\nyour token or it might be stored in plain text in this notebook file. </center>"
          }
        },
        "65121e69bade4f8ba062afa05d48793a": {
          "model_module": "@jupyter-widgets/controls",
          "model_name": "PasswordModel",
          "model_module_version": "1.5.0",
          "state": {
            "_dom_classes": [],
            "_model_module": "@jupyter-widgets/controls",
            "_model_module_version": "1.5.0",
            "_model_name": "PasswordModel",
            "_view_count": null,
            "_view_module": "@jupyter-widgets/controls",
            "_view_module_version": "1.5.0",
            "_view_name": "PasswordView",
            "continuous_update": true,
            "description": "Token:",
            "description_tooltip": null,
            "disabled": false,
            "layout": "IPY_MODEL_f3f6d084d3a649bd842fdb42b1a8e5bd",
            "placeholder": "​",
            "style": "IPY_MODEL_e1cb22f30e14434b926877b217ad8cbb",
            "value": ""
          }
        },
        "c5c24d0f4e2746c190aec0e98f7af853": {
          "model_module": "@jupyter-widgets/controls",
          "model_name": "ButtonModel",
          "model_module_version": "1.5.0",
          "state": {
            "_dom_classes": [],
            "_model_module": "@jupyter-widgets/controls",
            "_model_module_version": "1.5.0",
            "_model_name": "ButtonModel",
            "_view_count": null,
            "_view_module": "@jupyter-widgets/controls",
            "_view_module_version": "1.5.0",
            "_view_name": "ButtonView",
            "button_style": "",
            "description": "Login",
            "disabled": false,
            "icon": "",
            "layout": "IPY_MODEL_aa2486dd4b0e434191bf3982cafaf81a",
            "style": "IPY_MODEL_05be6a6b248a47e0a1a5354d438ca3a4",
            "tooltip": ""
          }
        },
        "3aa3928fe23048a79b6fb04c9d2bb350": {
          "model_module": "@jupyter-widgets/controls",
          "model_name": "HTMLModel",
          "model_module_version": "1.5.0",
          "state": {
            "_dom_classes": [],
            "_model_module": "@jupyter-widgets/controls",
            "_model_module_version": "1.5.0",
            "_model_name": "HTMLModel",
            "_view_count": null,
            "_view_module": "@jupyter-widgets/controls",
            "_view_module_version": "1.5.0",
            "_view_name": "HTMLView",
            "description": "",
            "description_tooltip": null,
            "layout": "IPY_MODEL_dd0f8ef7aae940db8b3440ff8db9c4b6",
            "placeholder": "​",
            "style": "IPY_MODEL_7a2ed5e4b48145adb94fc8731c73f581",
            "value": "\n<b>Pro Tip:</b> If you don't already have one, you can create a dedicated\n'notebooks' token with 'write' access, that you can then easily reuse for all\nnotebooks. </center>"
          }
        },
        "bbdd0f4a647b4ed2aaca90208259bf45": {
          "model_module": "@jupyter-widgets/base",
          "model_name": "LayoutModel",
          "model_module_version": "1.2.0",
          "state": {
            "_model_module": "@jupyter-widgets/base",
            "_model_module_version": "1.2.0",
            "_model_name": "LayoutModel",
            "_view_count": null,
            "_view_module": "@jupyter-widgets/base",
            "_view_module_version": "1.2.0",
            "_view_name": "LayoutView",
            "align_content": null,
            "align_items": "center",
            "align_self": null,
            "border": null,
            "bottom": null,
            "display": "flex",
            "flex": null,
            "flex_flow": "column",
            "grid_area": null,
            "grid_auto_columns": null,
            "grid_auto_flow": null,
            "grid_auto_rows": null,
            "grid_column": null,
            "grid_gap": null,
            "grid_row": null,
            "grid_template_areas": null,
            "grid_template_columns": null,
            "grid_template_rows": null,
            "height": null,
            "justify_content": null,
            "justify_items": null,
            "left": null,
            "margin": null,
            "max_height": null,
            "max_width": null,
            "min_height": null,
            "min_width": null,
            "object_fit": null,
            "object_position": null,
            "order": null,
            "overflow": null,
            "overflow_x": null,
            "overflow_y": null,
            "padding": null,
            "right": null,
            "top": null,
            "visibility": null,
            "width": "50%"
          }
        },
        "adb092a56f9d4b299fe4d18dc2ddfd38": {
          "model_module": "@jupyter-widgets/base",
          "model_name": "LayoutModel",
          "model_module_version": "1.2.0",
          "state": {
            "_model_module": "@jupyter-widgets/base",
            "_model_module_version": "1.2.0",
            "_model_name": "LayoutModel",
            "_view_count": null,
            "_view_module": "@jupyter-widgets/base",
            "_view_module_version": "1.2.0",
            "_view_name": "LayoutView",
            "align_content": null,
            "align_items": null,
            "align_self": null,
            "border": null,
            "bottom": null,
            "display": null,
            "flex": null,
            "flex_flow": null,
            "grid_area": null,
            "grid_auto_columns": null,
            "grid_auto_flow": null,
            "grid_auto_rows": null,
            "grid_column": null,
            "grid_gap": null,
            "grid_row": null,
            "grid_template_areas": null,
            "grid_template_columns": null,
            "grid_template_rows": null,
            "height": null,
            "justify_content": null,
            "justify_items": null,
            "left": null,
            "margin": null,
            "max_height": null,
            "max_width": null,
            "min_height": null,
            "min_width": null,
            "object_fit": null,
            "object_position": null,
            "order": null,
            "overflow": null,
            "overflow_x": null,
            "overflow_y": null,
            "padding": null,
            "right": null,
            "top": null,
            "visibility": null,
            "width": null
          }
        },
        "0f2a1fb770774792b3a8d22dbbea927b": {
          "model_module": "@jupyter-widgets/controls",
          "model_name": "DescriptionStyleModel",
          "model_module_version": "1.5.0",
          "state": {
            "_model_module": "@jupyter-widgets/controls",
            "_model_module_version": "1.5.0",
            "_model_name": "DescriptionStyleModel",
            "_view_count": null,
            "_view_module": "@jupyter-widgets/base",
            "_view_module_version": "1.2.0",
            "_view_name": "StyleView",
            "description_width": ""
          }
        },
        "f3f6d084d3a649bd842fdb42b1a8e5bd": {
          "model_module": "@jupyter-widgets/base",
          "model_name": "LayoutModel",
          "model_module_version": "1.2.0",
          "state": {
            "_model_module": "@jupyter-widgets/base",
            "_model_module_version": "1.2.0",
            "_model_name": "LayoutModel",
            "_view_count": null,
            "_view_module": "@jupyter-widgets/base",
            "_view_module_version": "1.2.0",
            "_view_name": "LayoutView",
            "align_content": null,
            "align_items": null,
            "align_self": null,
            "border": null,
            "bottom": null,
            "display": null,
            "flex": null,
            "flex_flow": null,
            "grid_area": null,
            "grid_auto_columns": null,
            "grid_auto_flow": null,
            "grid_auto_rows": null,
            "grid_column": null,
            "grid_gap": null,
            "grid_row": null,
            "grid_template_areas": null,
            "grid_template_columns": null,
            "grid_template_rows": null,
            "height": null,
            "justify_content": null,
            "justify_items": null,
            "left": null,
            "margin": null,
            "max_height": null,
            "max_width": null,
            "min_height": null,
            "min_width": null,
            "object_fit": null,
            "object_position": null,
            "order": null,
            "overflow": null,
            "overflow_x": null,
            "overflow_y": null,
            "padding": null,
            "right": null,
            "top": null,
            "visibility": null,
            "width": null
          }
        },
        "e1cb22f30e14434b926877b217ad8cbb": {
          "model_module": "@jupyter-widgets/controls",
          "model_name": "DescriptionStyleModel",
          "model_module_version": "1.5.0",
          "state": {
            "_model_module": "@jupyter-widgets/controls",
            "_model_module_version": "1.5.0",
            "_model_name": "DescriptionStyleModel",
            "_view_count": null,
            "_view_module": "@jupyter-widgets/base",
            "_view_module_version": "1.2.0",
            "_view_name": "StyleView",
            "description_width": ""
          }
        },
        "aa2486dd4b0e434191bf3982cafaf81a": {
          "model_module": "@jupyter-widgets/base",
          "model_name": "LayoutModel",
          "model_module_version": "1.2.0",
          "state": {
            "_model_module": "@jupyter-widgets/base",
            "_model_module_version": "1.2.0",
            "_model_name": "LayoutModel",
            "_view_count": null,
            "_view_module": "@jupyter-widgets/base",
            "_view_module_version": "1.2.0",
            "_view_name": "LayoutView",
            "align_content": null,
            "align_items": null,
            "align_self": null,
            "border": null,
            "bottom": null,
            "display": null,
            "flex": null,
            "flex_flow": null,
            "grid_area": null,
            "grid_auto_columns": null,
            "grid_auto_flow": null,
            "grid_auto_rows": null,
            "grid_column": null,
            "grid_gap": null,
            "grid_row": null,
            "grid_template_areas": null,
            "grid_template_columns": null,
            "grid_template_rows": null,
            "height": null,
            "justify_content": null,
            "justify_items": null,
            "left": null,
            "margin": null,
            "max_height": null,
            "max_width": null,
            "min_height": null,
            "min_width": null,
            "object_fit": null,
            "object_position": null,
            "order": null,
            "overflow": null,
            "overflow_x": null,
            "overflow_y": null,
            "padding": null,
            "right": null,
            "top": null,
            "visibility": null,
            "width": null
          }
        },
        "05be6a6b248a47e0a1a5354d438ca3a4": {
          "model_module": "@jupyter-widgets/controls",
          "model_name": "ButtonStyleModel",
          "model_module_version": "1.5.0",
          "state": {
            "_model_module": "@jupyter-widgets/controls",
            "_model_module_version": "1.5.0",
            "_model_name": "ButtonStyleModel",
            "_view_count": null,
            "_view_module": "@jupyter-widgets/base",
            "_view_module_version": "1.2.0",
            "_view_name": "StyleView",
            "button_color": null,
            "font_weight": ""
          }
        },
        "dd0f8ef7aae940db8b3440ff8db9c4b6": {
          "model_module": "@jupyter-widgets/base",
          "model_name": "LayoutModel",
          "model_module_version": "1.2.0",
          "state": {
            "_model_module": "@jupyter-widgets/base",
            "_model_module_version": "1.2.0",
            "_model_name": "LayoutModel",
            "_view_count": null,
            "_view_module": "@jupyter-widgets/base",
            "_view_module_version": "1.2.0",
            "_view_name": "LayoutView",
            "align_content": null,
            "align_items": null,
            "align_self": null,
            "border": null,
            "bottom": null,
            "display": null,
            "flex": null,
            "flex_flow": null,
            "grid_area": null,
            "grid_auto_columns": null,
            "grid_auto_flow": null,
            "grid_auto_rows": null,
            "grid_column": null,
            "grid_gap": null,
            "grid_row": null,
            "grid_template_areas": null,
            "grid_template_columns": null,
            "grid_template_rows": null,
            "height": null,
            "justify_content": null,
            "justify_items": null,
            "left": null,
            "margin": null,
            "max_height": null,
            "max_width": null,
            "min_height": null,
            "min_width": null,
            "object_fit": null,
            "object_position": null,
            "order": null,
            "overflow": null,
            "overflow_x": null,
            "overflow_y": null,
            "padding": null,
            "right": null,
            "top": null,
            "visibility": null,
            "width": null
          }
        },
        "7a2ed5e4b48145adb94fc8731c73f581": {
          "model_module": "@jupyter-widgets/controls",
          "model_name": "DescriptionStyleModel",
          "model_module_version": "1.5.0",
          "state": {
            "_model_module": "@jupyter-widgets/controls",
            "_model_module_version": "1.5.0",
            "_model_name": "DescriptionStyleModel",
            "_view_count": null,
            "_view_module": "@jupyter-widgets/base",
            "_view_module_version": "1.2.0",
            "_view_name": "StyleView",
            "description_width": ""
          }
        },
        "299229b6c7bd4533aed63b69c2c9d525": {
          "model_module": "@jupyter-widgets/controls",
          "model_name": "HBoxModel",
          "model_module_version": "1.5.0",
          "state": {
            "_dom_classes": [],
            "_model_module": "@jupyter-widgets/controls",
            "_model_module_version": "1.5.0",
            "_model_name": "HBoxModel",
            "_view_count": null,
            "_view_module": "@jupyter-widgets/controls",
            "_view_module_version": "1.5.0",
            "_view_name": "HBoxView",
            "box_style": "",
            "children": [
              "IPY_MODEL_e97a9d17baab44a383ce28e319cb185b",
              "IPY_MODEL_25eb6185ab3d4771949b4b84aab29266",
              "IPY_MODEL_cda08b959d6e49e2aacf16c08f2ae5c0"
            ],
            "layout": "IPY_MODEL_360cadf6ad6f408585e4de7a8cf83e0a"
          }
        },
        "e97a9d17baab44a383ce28e319cb185b": {
          "model_module": "@jupyter-widgets/controls",
          "model_name": "HTMLModel",
          "model_module_version": "1.5.0",
          "state": {
            "_dom_classes": [],
            "_model_module": "@jupyter-widgets/controls",
            "_model_module_version": "1.5.0",
            "_model_name": "HTMLModel",
            "_view_count": null,
            "_view_module": "@jupyter-widgets/controls",
            "_view_module_version": "1.5.0",
            "_view_name": "HTMLView",
            "description": "",
            "description_tooltip": null,
            "layout": "IPY_MODEL_a8db3b69035946679d34183fcb39cdb2",
            "placeholder": "​",
            "style": "IPY_MODEL_47eebc8bc5fc4bd9b1ef7678509ad686",
            "value": "Upload file pytorch_model.bin: 100%"
          }
        },
        "25eb6185ab3d4771949b4b84aab29266": {
          "model_module": "@jupyter-widgets/controls",
          "model_name": "FloatProgressModel",
          "model_module_version": "1.5.0",
          "state": {
            "_dom_classes": [],
            "_model_module": "@jupyter-widgets/controls",
            "_model_module_version": "1.5.0",
            "_model_name": "FloatProgressModel",
            "_view_count": null,
            "_view_module": "@jupyter-widgets/controls",
            "_view_module_version": "1.5.0",
            "_view_name": "ProgressView",
            "bar_style": "success",
            "description": "",
            "description_tooltip": null,
            "layout": "IPY_MODEL_7f416375d2df4074a12a02b5edfaa186",
            "max": 267866609,
            "min": 0,
            "orientation": "horizontal",
            "style": "IPY_MODEL_efc4b26feb10450da395a49f66b2928e",
            "value": 267866609
          }
        },
        "cda08b959d6e49e2aacf16c08f2ae5c0": {
          "model_module": "@jupyter-widgets/controls",
          "model_name": "HTMLModel",
          "model_module_version": "1.5.0",
          "state": {
            "_dom_classes": [],
            "_model_module": "@jupyter-widgets/controls",
            "_model_module_version": "1.5.0",
            "_model_name": "HTMLModel",
            "_view_count": null,
            "_view_module": "@jupyter-widgets/controls",
            "_view_module_version": "1.5.0",
            "_view_name": "HTMLView",
            "description": "",
            "description_tooltip": null,
            "layout": "IPY_MODEL_9bf0a63db7134a33a1f56b021efbde02",
            "placeholder": "​",
            "style": "IPY_MODEL_2ce2e5c55d354692b151670f20ea7ef9",
            "value": " 255M/255M [03:26&lt;00:00, 762kB/s]"
          }
        },
        "360cadf6ad6f408585e4de7a8cf83e0a": {
          "model_module": "@jupyter-widgets/base",
          "model_name": "LayoutModel",
          "model_module_version": "1.2.0",
          "state": {
            "_model_module": "@jupyter-widgets/base",
            "_model_module_version": "1.2.0",
            "_model_name": "LayoutModel",
            "_view_count": null,
            "_view_module": "@jupyter-widgets/base",
            "_view_module_version": "1.2.0",
            "_view_name": "LayoutView",
            "align_content": null,
            "align_items": null,
            "align_self": null,
            "border": null,
            "bottom": null,
            "display": null,
            "flex": null,
            "flex_flow": null,
            "grid_area": null,
            "grid_auto_columns": null,
            "grid_auto_flow": null,
            "grid_auto_rows": null,
            "grid_column": null,
            "grid_gap": null,
            "grid_row": null,
            "grid_template_areas": null,
            "grid_template_columns": null,
            "grid_template_rows": null,
            "height": null,
            "justify_content": null,
            "justify_items": null,
            "left": null,
            "margin": null,
            "max_height": null,
            "max_width": null,
            "min_height": null,
            "min_width": null,
            "object_fit": null,
            "object_position": null,
            "order": null,
            "overflow": null,
            "overflow_x": null,
            "overflow_y": null,
            "padding": null,
            "right": null,
            "top": null,
            "visibility": null,
            "width": null
          }
        },
        "a8db3b69035946679d34183fcb39cdb2": {
          "model_module": "@jupyter-widgets/base",
          "model_name": "LayoutModel",
          "model_module_version": "1.2.0",
          "state": {
            "_model_module": "@jupyter-widgets/base",
            "_model_module_version": "1.2.0",
            "_model_name": "LayoutModel",
            "_view_count": null,
            "_view_module": "@jupyter-widgets/base",
            "_view_module_version": "1.2.0",
            "_view_name": "LayoutView",
            "align_content": null,
            "align_items": null,
            "align_self": null,
            "border": null,
            "bottom": null,
            "display": null,
            "flex": null,
            "flex_flow": null,
            "grid_area": null,
            "grid_auto_columns": null,
            "grid_auto_flow": null,
            "grid_auto_rows": null,
            "grid_column": null,
            "grid_gap": null,
            "grid_row": null,
            "grid_template_areas": null,
            "grid_template_columns": null,
            "grid_template_rows": null,
            "height": null,
            "justify_content": null,
            "justify_items": null,
            "left": null,
            "margin": null,
            "max_height": null,
            "max_width": null,
            "min_height": null,
            "min_width": null,
            "object_fit": null,
            "object_position": null,
            "order": null,
            "overflow": null,
            "overflow_x": null,
            "overflow_y": null,
            "padding": null,
            "right": null,
            "top": null,
            "visibility": null,
            "width": null
          }
        },
        "47eebc8bc5fc4bd9b1ef7678509ad686": {
          "model_module": "@jupyter-widgets/controls",
          "model_name": "DescriptionStyleModel",
          "model_module_version": "1.5.0",
          "state": {
            "_model_module": "@jupyter-widgets/controls",
            "_model_module_version": "1.5.0",
            "_model_name": "DescriptionStyleModel",
            "_view_count": null,
            "_view_module": "@jupyter-widgets/base",
            "_view_module_version": "1.2.0",
            "_view_name": "StyleView",
            "description_width": ""
          }
        },
        "7f416375d2df4074a12a02b5edfaa186": {
          "model_module": "@jupyter-widgets/base",
          "model_name": "LayoutModel",
          "model_module_version": "1.2.0",
          "state": {
            "_model_module": "@jupyter-widgets/base",
            "_model_module_version": "1.2.0",
            "_model_name": "LayoutModel",
            "_view_count": null,
            "_view_module": "@jupyter-widgets/base",
            "_view_module_version": "1.2.0",
            "_view_name": "LayoutView",
            "align_content": null,
            "align_items": null,
            "align_self": null,
            "border": null,
            "bottom": null,
            "display": null,
            "flex": null,
            "flex_flow": null,
            "grid_area": null,
            "grid_auto_columns": null,
            "grid_auto_flow": null,
            "grid_auto_rows": null,
            "grid_column": null,
            "grid_gap": null,
            "grid_row": null,
            "grid_template_areas": null,
            "grid_template_columns": null,
            "grid_template_rows": null,
            "height": null,
            "justify_content": null,
            "justify_items": null,
            "left": null,
            "margin": null,
            "max_height": null,
            "max_width": null,
            "min_height": null,
            "min_width": null,
            "object_fit": null,
            "object_position": null,
            "order": null,
            "overflow": null,
            "overflow_x": null,
            "overflow_y": null,
            "padding": null,
            "right": null,
            "top": null,
            "visibility": null,
            "width": null
          }
        },
        "efc4b26feb10450da395a49f66b2928e": {
          "model_module": "@jupyter-widgets/controls",
          "model_name": "ProgressStyleModel",
          "model_module_version": "1.5.0",
          "state": {
            "_model_module": "@jupyter-widgets/controls",
            "_model_module_version": "1.5.0",
            "_model_name": "ProgressStyleModel",
            "_view_count": null,
            "_view_module": "@jupyter-widgets/base",
            "_view_module_version": "1.2.0",
            "_view_name": "StyleView",
            "bar_color": null,
            "description_width": ""
          }
        },
        "9bf0a63db7134a33a1f56b021efbde02": {
          "model_module": "@jupyter-widgets/base",
          "model_name": "LayoutModel",
          "model_module_version": "1.2.0",
          "state": {
            "_model_module": "@jupyter-widgets/base",
            "_model_module_version": "1.2.0",
            "_model_name": "LayoutModel",
            "_view_count": null,
            "_view_module": "@jupyter-widgets/base",
            "_view_module_version": "1.2.0",
            "_view_name": "LayoutView",
            "align_content": null,
            "align_items": null,
            "align_self": null,
            "border": null,
            "bottom": null,
            "display": null,
            "flex": null,
            "flex_flow": null,
            "grid_area": null,
            "grid_auto_columns": null,
            "grid_auto_flow": null,
            "grid_auto_rows": null,
            "grid_column": null,
            "grid_gap": null,
            "grid_row": null,
            "grid_template_areas": null,
            "grid_template_columns": null,
            "grid_template_rows": null,
            "height": null,
            "justify_content": null,
            "justify_items": null,
            "left": null,
            "margin": null,
            "max_height": null,
            "max_width": null,
            "min_height": null,
            "min_width": null,
            "object_fit": null,
            "object_position": null,
            "order": null,
            "overflow": null,
            "overflow_x": null,
            "overflow_y": null,
            "padding": null,
            "right": null,
            "top": null,
            "visibility": null,
            "width": null
          }
        },
        "2ce2e5c55d354692b151670f20ea7ef9": {
          "model_module": "@jupyter-widgets/controls",
          "model_name": "DescriptionStyleModel",
          "model_module_version": "1.5.0",
          "state": {
            "_model_module": "@jupyter-widgets/controls",
            "_model_module_version": "1.5.0",
            "_model_name": "DescriptionStyleModel",
            "_view_count": null,
            "_view_module": "@jupyter-widgets/base",
            "_view_module_version": "1.2.0",
            "_view_name": "StyleView",
            "description_width": ""
          }
        },
        "4782c6f52a384eddbac7ce170ec55c94": {
          "model_module": "@jupyter-widgets/controls",
          "model_name": "HBoxModel",
          "model_module_version": "1.5.0",
          "state": {
            "_dom_classes": [],
            "_model_module": "@jupyter-widgets/controls",
            "_model_module_version": "1.5.0",
            "_model_name": "HBoxModel",
            "_view_count": null,
            "_view_module": "@jupyter-widgets/controls",
            "_view_module_version": "1.5.0",
            "_view_name": "HBoxView",
            "box_style": "",
            "children": [
              "IPY_MODEL_f273836cdb174e12922e83255ec66a50",
              "IPY_MODEL_0a1fd44326f049a2857dfaac0b9640ad",
              "IPY_MODEL_ef50e674f2684219bf694b21ff2d3c77"
            ],
            "layout": "IPY_MODEL_48c03b7d3bc94c6886d41561ae7f21fc"
          }
        },
        "f273836cdb174e12922e83255ec66a50": {
          "model_module": "@jupyter-widgets/controls",
          "model_name": "HTMLModel",
          "model_module_version": "1.5.0",
          "state": {
            "_dom_classes": [],
            "_model_module": "@jupyter-widgets/controls",
            "_model_module_version": "1.5.0",
            "_model_name": "HTMLModel",
            "_view_count": null,
            "_view_module": "@jupyter-widgets/controls",
            "_view_module_version": "1.5.0",
            "_view_name": "HTMLView",
            "description": "",
            "description_tooltip": null,
            "layout": "IPY_MODEL_7f7ce8fb85c246f68207b43003bb92f2",
            "placeholder": "​",
            "style": "IPY_MODEL_bdf89382b6a94e7ba8199892df8c214e",
            "value": "Upload file runs/Jul11_22-11-03_7fed312e62b7/events.out.tfevents.1657577466.7fed312e62b7.72.2: 100%"
          }
        },
        "0a1fd44326f049a2857dfaac0b9640ad": {
          "model_module": "@jupyter-widgets/controls",
          "model_name": "FloatProgressModel",
          "model_module_version": "1.5.0",
          "state": {
            "_dom_classes": [],
            "_model_module": "@jupyter-widgets/controls",
            "_model_module_version": "1.5.0",
            "_model_name": "FloatProgressModel",
            "_view_count": null,
            "_view_module": "@jupyter-widgets/controls",
            "_view_module_version": "1.5.0",
            "_view_name": "ProgressView",
            "bar_style": "success",
            "description": "",
            "description_tooltip": null,
            "layout": "IPY_MODEL_cff0ebf53264422b8c6808382b1eba4d",
            "max": 6811,
            "min": 0,
            "orientation": "horizontal",
            "style": "IPY_MODEL_fee8962ec99b4f4398ece440524d5a7d",
            "value": 6811
          }
        },
        "ef50e674f2684219bf694b21ff2d3c77": {
          "model_module": "@jupyter-widgets/controls",
          "model_name": "HTMLModel",
          "model_module_version": "1.5.0",
          "state": {
            "_dom_classes": [],
            "_model_module": "@jupyter-widgets/controls",
            "_model_module_version": "1.5.0",
            "_model_name": "HTMLModel",
            "_view_count": null,
            "_view_module": "@jupyter-widgets/controls",
            "_view_module_version": "1.5.0",
            "_view_name": "HTMLView",
            "description": "",
            "description_tooltip": null,
            "layout": "IPY_MODEL_c72971e4cba54858951c674a426d0be9",
            "placeholder": "​",
            "style": "IPY_MODEL_fb645e833f3a4a7eb26f480d39670a2a",
            "value": " 6.65k/6.65k [03:26&lt;00:00, 16.4B/s]"
          }
        },
        "48c03b7d3bc94c6886d41561ae7f21fc": {
          "model_module": "@jupyter-widgets/base",
          "model_name": "LayoutModel",
          "model_module_version": "1.2.0",
          "state": {
            "_model_module": "@jupyter-widgets/base",
            "_model_module_version": "1.2.0",
            "_model_name": "LayoutModel",
            "_view_count": null,
            "_view_module": "@jupyter-widgets/base",
            "_view_module_version": "1.2.0",
            "_view_name": "LayoutView",
            "align_content": null,
            "align_items": null,
            "align_self": null,
            "border": null,
            "bottom": null,
            "display": null,
            "flex": null,
            "flex_flow": null,
            "grid_area": null,
            "grid_auto_columns": null,
            "grid_auto_flow": null,
            "grid_auto_rows": null,
            "grid_column": null,
            "grid_gap": null,
            "grid_row": null,
            "grid_template_areas": null,
            "grid_template_columns": null,
            "grid_template_rows": null,
            "height": null,
            "justify_content": null,
            "justify_items": null,
            "left": null,
            "margin": null,
            "max_height": null,
            "max_width": null,
            "min_height": null,
            "min_width": null,
            "object_fit": null,
            "object_position": null,
            "order": null,
            "overflow": null,
            "overflow_x": null,
            "overflow_y": null,
            "padding": null,
            "right": null,
            "top": null,
            "visibility": null,
            "width": null
          }
        },
        "7f7ce8fb85c246f68207b43003bb92f2": {
          "model_module": "@jupyter-widgets/base",
          "model_name": "LayoutModel",
          "model_module_version": "1.2.0",
          "state": {
            "_model_module": "@jupyter-widgets/base",
            "_model_module_version": "1.2.0",
            "_model_name": "LayoutModel",
            "_view_count": null,
            "_view_module": "@jupyter-widgets/base",
            "_view_module_version": "1.2.0",
            "_view_name": "LayoutView",
            "align_content": null,
            "align_items": null,
            "align_self": null,
            "border": null,
            "bottom": null,
            "display": null,
            "flex": null,
            "flex_flow": null,
            "grid_area": null,
            "grid_auto_columns": null,
            "grid_auto_flow": null,
            "grid_auto_rows": null,
            "grid_column": null,
            "grid_gap": null,
            "grid_row": null,
            "grid_template_areas": null,
            "grid_template_columns": null,
            "grid_template_rows": null,
            "height": null,
            "justify_content": null,
            "justify_items": null,
            "left": null,
            "margin": null,
            "max_height": null,
            "max_width": null,
            "min_height": null,
            "min_width": null,
            "object_fit": null,
            "object_position": null,
            "order": null,
            "overflow": null,
            "overflow_x": null,
            "overflow_y": null,
            "padding": null,
            "right": null,
            "top": null,
            "visibility": null,
            "width": null
          }
        },
        "bdf89382b6a94e7ba8199892df8c214e": {
          "model_module": "@jupyter-widgets/controls",
          "model_name": "DescriptionStyleModel",
          "model_module_version": "1.5.0",
          "state": {
            "_model_module": "@jupyter-widgets/controls",
            "_model_module_version": "1.5.0",
            "_model_name": "DescriptionStyleModel",
            "_view_count": null,
            "_view_module": "@jupyter-widgets/base",
            "_view_module_version": "1.2.0",
            "_view_name": "StyleView",
            "description_width": ""
          }
        },
        "cff0ebf53264422b8c6808382b1eba4d": {
          "model_module": "@jupyter-widgets/base",
          "model_name": "LayoutModel",
          "model_module_version": "1.2.0",
          "state": {
            "_model_module": "@jupyter-widgets/base",
            "_model_module_version": "1.2.0",
            "_model_name": "LayoutModel",
            "_view_count": null,
            "_view_module": "@jupyter-widgets/base",
            "_view_module_version": "1.2.0",
            "_view_name": "LayoutView",
            "align_content": null,
            "align_items": null,
            "align_self": null,
            "border": null,
            "bottom": null,
            "display": null,
            "flex": null,
            "flex_flow": null,
            "grid_area": null,
            "grid_auto_columns": null,
            "grid_auto_flow": null,
            "grid_auto_rows": null,
            "grid_column": null,
            "grid_gap": null,
            "grid_row": null,
            "grid_template_areas": null,
            "grid_template_columns": null,
            "grid_template_rows": null,
            "height": null,
            "justify_content": null,
            "justify_items": null,
            "left": null,
            "margin": null,
            "max_height": null,
            "max_width": null,
            "min_height": null,
            "min_width": null,
            "object_fit": null,
            "object_position": null,
            "order": null,
            "overflow": null,
            "overflow_x": null,
            "overflow_y": null,
            "padding": null,
            "right": null,
            "top": null,
            "visibility": null,
            "width": null
          }
        },
        "fee8962ec99b4f4398ece440524d5a7d": {
          "model_module": "@jupyter-widgets/controls",
          "model_name": "ProgressStyleModel",
          "model_module_version": "1.5.0",
          "state": {
            "_model_module": "@jupyter-widgets/controls",
            "_model_module_version": "1.5.0",
            "_model_name": "ProgressStyleModel",
            "_view_count": null,
            "_view_module": "@jupyter-widgets/base",
            "_view_module_version": "1.2.0",
            "_view_name": "StyleView",
            "bar_color": null,
            "description_width": ""
          }
        },
        "c72971e4cba54858951c674a426d0be9": {
          "model_module": "@jupyter-widgets/base",
          "model_name": "LayoutModel",
          "model_module_version": "1.2.0",
          "state": {
            "_model_module": "@jupyter-widgets/base",
            "_model_module_version": "1.2.0",
            "_model_name": "LayoutModel",
            "_view_count": null,
            "_view_module": "@jupyter-widgets/base",
            "_view_module_version": "1.2.0",
            "_view_name": "LayoutView",
            "align_content": null,
            "align_items": null,
            "align_self": null,
            "border": null,
            "bottom": null,
            "display": null,
            "flex": null,
            "flex_flow": null,
            "grid_area": null,
            "grid_auto_columns": null,
            "grid_auto_flow": null,
            "grid_auto_rows": null,
            "grid_column": null,
            "grid_gap": null,
            "grid_row": null,
            "grid_template_areas": null,
            "grid_template_columns": null,
            "grid_template_rows": null,
            "height": null,
            "justify_content": null,
            "justify_items": null,
            "left": null,
            "margin": null,
            "max_height": null,
            "max_width": null,
            "min_height": null,
            "min_width": null,
            "object_fit": null,
            "object_position": null,
            "order": null,
            "overflow": null,
            "overflow_x": null,
            "overflow_y": null,
            "padding": null,
            "right": null,
            "top": null,
            "visibility": null,
            "width": null
          }
        },
        "fb645e833f3a4a7eb26f480d39670a2a": {
          "model_module": "@jupyter-widgets/controls",
          "model_name": "DescriptionStyleModel",
          "model_module_version": "1.5.0",
          "state": {
            "_model_module": "@jupyter-widgets/controls",
            "_model_module_version": "1.5.0",
            "_model_name": "DescriptionStyleModel",
            "_view_count": null,
            "_view_module": "@jupyter-widgets/base",
            "_view_module_version": "1.2.0",
            "_view_name": "StyleView",
            "description_width": ""
          }
        }
      }
    }
  },
  "cells": [
    {
      "cell_type": "markdown",
      "metadata": {
        "id": "view-in-github",
        "colab_type": "text"
      },
      "source": [
        "<a href=\"https://colab.research.google.com/github/AhPro7/Natural-Language-Processing-with-Transformers-Building-Language-Applications-with-Hugging-Face/blob/main/Text_Classification_using_transformers.ipynb\" target=\"_parent\"><img src=\"https://colab.research.google.com/assets/colab-badge.svg\" alt=\"Open In Colab\"/></a>"
      ]
    },
    {
      "cell_type": "code",
      "source": [
        "! pip install datasets"
      ],
      "metadata": {
        "colab": {
          "base_uri": "https://localhost:8080/"
        },
        "id": "QcBnf2SM5zeD",
        "outputId": "6cd082dc-0b3a-4834-93f4-39ece81f5590"
      },
      "execution_count": 142,
      "outputs": [
        {
          "output_type": "stream",
          "name": "stdout",
          "text": [
            "Looking in indexes: https://pypi.org/simple, https://us-python.pkg.dev/colab-wheels/public/simple/\n",
            "Requirement already satisfied: datasets in /usr/local/lib/python3.7/dist-packages (2.3.2)\n",
            "Requirement already satisfied: tqdm>=4.62.1 in /usr/local/lib/python3.7/dist-packages (from datasets) (4.64.0)\n",
            "Requirement already satisfied: pyarrow>=6.0.0 in /usr/local/lib/python3.7/dist-packages (from datasets) (6.0.1)\n",
            "Requirement already satisfied: requests>=2.19.0 in /usr/local/lib/python3.7/dist-packages (from datasets) (2.23.0)\n",
            "Requirement already satisfied: packaging in /usr/local/lib/python3.7/dist-packages (from datasets) (21.3)\n",
            "Requirement already satisfied: huggingface-hub<1.0.0,>=0.1.0 in /usr/local/lib/python3.7/dist-packages (from datasets) (0.8.1)\n",
            "Requirement already satisfied: fsspec[http]>=2021.05.0 in /usr/local/lib/python3.7/dist-packages (from datasets) (2022.5.0)\n",
            "Requirement already satisfied: xxhash in /usr/local/lib/python3.7/dist-packages (from datasets) (3.0.0)\n",
            "Requirement already satisfied: pandas in /usr/local/lib/python3.7/dist-packages (from datasets) (1.3.5)\n",
            "Requirement already satisfied: aiohttp in /usr/local/lib/python3.7/dist-packages (from datasets) (3.8.1)\n",
            "Requirement already satisfied: dill<0.3.6 in /usr/local/lib/python3.7/dist-packages (from datasets) (0.3.5.1)\n",
            "Requirement already satisfied: multiprocess in /usr/local/lib/python3.7/dist-packages (from datasets) (0.70.13)\n",
            "Requirement already satisfied: responses<0.19 in /usr/local/lib/python3.7/dist-packages (from datasets) (0.18.0)\n",
            "Requirement already satisfied: importlib-metadata in /usr/local/lib/python3.7/dist-packages (from datasets) (4.11.4)\n",
            "Requirement already satisfied: numpy>=1.17 in /usr/local/lib/python3.7/dist-packages (from datasets) (1.21.6)\n",
            "Requirement already satisfied: pyyaml>=5.1 in /usr/local/lib/python3.7/dist-packages (from huggingface-hub<1.0.0,>=0.1.0->datasets) (6.0)\n",
            "Requirement already satisfied: filelock in /usr/local/lib/python3.7/dist-packages (from huggingface-hub<1.0.0,>=0.1.0->datasets) (3.7.1)\n",
            "Requirement already satisfied: typing-extensions>=3.7.4.3 in /usr/local/lib/python3.7/dist-packages (from huggingface-hub<1.0.0,>=0.1.0->datasets) (4.1.1)\n",
            "Requirement already satisfied: pyparsing!=3.0.5,>=2.0.2 in /usr/local/lib/python3.7/dist-packages (from packaging->datasets) (3.0.9)\n",
            "Requirement already satisfied: chardet<4,>=3.0.2 in /usr/local/lib/python3.7/dist-packages (from requests>=2.19.0->datasets) (3.0.4)\n",
            "Requirement already satisfied: urllib3!=1.25.0,!=1.25.1,<1.26,>=1.21.1 in /usr/local/lib/python3.7/dist-packages (from requests>=2.19.0->datasets) (1.25.11)\n",
            "Requirement already satisfied: certifi>=2017.4.17 in /usr/local/lib/python3.7/dist-packages (from requests>=2.19.0->datasets) (2022.6.15)\n",
            "Requirement already satisfied: idna<3,>=2.5 in /usr/local/lib/python3.7/dist-packages (from requests>=2.19.0->datasets) (2.10)\n",
            "Requirement already satisfied: charset-normalizer<3.0,>=2.0 in /usr/local/lib/python3.7/dist-packages (from aiohttp->datasets) (2.1.0)\n",
            "Requirement already satisfied: asynctest==0.13.0 in /usr/local/lib/python3.7/dist-packages (from aiohttp->datasets) (0.13.0)\n",
            "Requirement already satisfied: attrs>=17.3.0 in /usr/local/lib/python3.7/dist-packages (from aiohttp->datasets) (21.4.0)\n",
            "Requirement already satisfied: aiosignal>=1.1.2 in /usr/local/lib/python3.7/dist-packages (from aiohttp->datasets) (1.2.0)\n",
            "Requirement already satisfied: multidict<7.0,>=4.5 in /usr/local/lib/python3.7/dist-packages (from aiohttp->datasets) (6.0.2)\n",
            "Requirement already satisfied: frozenlist>=1.1.1 in /usr/local/lib/python3.7/dist-packages (from aiohttp->datasets) (1.3.0)\n",
            "Requirement already satisfied: async-timeout<5.0,>=4.0.0a3 in /usr/local/lib/python3.7/dist-packages (from aiohttp->datasets) (4.0.2)\n",
            "Requirement already satisfied: yarl<2.0,>=1.0 in /usr/local/lib/python3.7/dist-packages (from aiohttp->datasets) (1.7.2)\n",
            "Requirement already satisfied: zipp>=0.5 in /usr/local/lib/python3.7/dist-packages (from importlib-metadata->datasets) (3.8.0)\n",
            "Requirement already satisfied: python-dateutil>=2.7.3 in /usr/local/lib/python3.7/dist-packages (from pandas->datasets) (2.8.2)\n",
            "Requirement already satisfied: pytz>=2017.3 in /usr/local/lib/python3.7/dist-packages (from pandas->datasets) (2022.1)\n",
            "Requirement already satisfied: six>=1.5 in /usr/local/lib/python3.7/dist-packages (from python-dateutil>=2.7.3->pandas->datasets) (1.15.0)\n"
          ]
        }
      ]
    },
    {
      "cell_type": "code",
      "execution_count": 143,
      "metadata": {
        "id": "Rc0cyvOF3CBR"
      },
      "outputs": [],
      "source": [
        "from datasets import list_datasets\n",
        "all_datasets = list_datasets()"
      ]
    },
    {
      "cell_type": "code",
      "source": [
        "print(f\"There are {len(all_datasets)} datasets currently available on the Hub\")\n",
        "print(f\"The first 10 are: {all_datasets[:10]}\")"
      ],
      "metadata": {
        "colab": {
          "base_uri": "https://localhost:8080/"
        },
        "id": "mN4SLbo4592b",
        "outputId": "df928ae1-a13f-49d7-833e-916b5f997b3b"
      },
      "execution_count": 144,
      "outputs": [
        {
          "output_type": "stream",
          "name": "stdout",
          "text": [
            "There are 7151 datasets currently available on the Hub\n",
            "The first 10 are: ['acronym_identification', 'ade_corpus_v2', 'adversarial_qa', 'aeslc', 'afrikaans_ner_corpus', 'ag_news', 'ai2_arc', 'air_dialogue', 'ajgt_twitter_ar', 'allegro_reviews']\n"
          ]
        }
      ]
    },
    {
      "cell_type": "code",
      "source": [
        "# get the dataset with \"emotion\" name from above list\n",
        "\n",
        "from datasets import load_dataset\n",
        "emotions = load_dataset(\"emotion\")"
      ],
      "metadata": {
        "colab": {
          "base_uri": "https://localhost:8080/",
          "height": 85,
          "referenced_widgets": [
            "e3ed0a589650461193f7012dc0c67fb7",
            "fac0bfdcb93a407d832099c522146373",
            "56decf1a15714bbea258f6e03c025f15",
            "e364d30ce47541ea8cd0fe180dd514c6",
            "856993d5e05c44daa409146df83aa55a",
            "b429b9194f654f25a61c355ae1dc901d",
            "5ad598380b4e43fca1253d334545df99",
            "3a6a50431e124e7ea7ccfe9b388afdd0",
            "5974fbd6660b464ab3aa0b9ee903ef27",
            "549656d4a2e74a88bec14e0f02c56d65",
            "e4ad847f91d141e88f61cb731f4bec51"
          ]
        },
        "id": "mkHaKMJR6DDH",
        "outputId": "bf93b49d-a8bd-4821-9a82-968381e48136"
      },
      "execution_count": 145,
      "outputs": [
        {
          "output_type": "stream",
          "name": "stderr",
          "text": [
            "Using custom data configuration default\n",
            "Reusing dataset emotion (/root/.cache/huggingface/datasets/emotion/default/0.0.0/348f63ca8e27b3713b6c04d723efe6d824a56fb3d1449794716c0f0296072705)\n"
          ]
        },
        {
          "output_type": "display_data",
          "data": {
            "text/plain": [
              "  0%|          | 0/3 [00:00<?, ?it/s]"
            ],
            "application/vnd.jupyter.widget-view+json": {
              "version_major": 2,
              "version_minor": 0,
              "model_id": "e3ed0a589650461193f7012dc0c67fb7"
            }
          },
          "metadata": {}
        }
      ]
    },
    {
      "cell_type": "code",
      "source": [
        "# Take a look at the data\n",
        "\n",
        "print(emotions,end=\"\\n \\n \\n\")\n",
        "print('type of varible') \n",
        "type(emotions)"
      ],
      "metadata": {
        "colab": {
          "base_uri": "https://localhost:8080/"
        },
        "id": "z0EEAX8z6Q0K",
        "outputId": "c727eed0-476e-488d-bab8-7eae7fc13c51"
      },
      "execution_count": 146,
      "outputs": [
        {
          "output_type": "stream",
          "name": "stdout",
          "text": [
            "DatasetDict({\n",
            "    train: Dataset({\n",
            "        features: ['text', 'label'],\n",
            "        num_rows: 16000\n",
            "    })\n",
            "    validation: Dataset({\n",
            "        features: ['text', 'label'],\n",
            "        num_rows: 2000\n",
            "    })\n",
            "    test: Dataset({\n",
            "        features: ['text', 'label'],\n",
            "        num_rows: 2000\n",
            "    })\n",
            "})\n",
            " \n",
            " \n",
            "type of varible\n"
          ]
        },
        {
          "output_type": "execute_result",
          "data": {
            "text/plain": [
              "datasets.dataset_dict.DatasetDict"
            ]
          },
          "metadata": {},
          "execution_count": 146
        }
      ]
    },
    {
      "cell_type": "code",
      "source": [
        "#split the dic to 3 datasets\n",
        "\n",
        "train_ds = emotions[\"train\"]\n",
        "val_ds = emotions[\"validation\"]\n",
        "test_ds = emotions[\"test\"]"
      ],
      "metadata": {
        "id": "3XGxxkzL6fRZ"
      },
      "execution_count": 147,
      "outputs": []
    },
    {
      "cell_type": "code",
      "source": [
        "print(train_ds)\n",
        "print(train_ds[0])"
      ],
      "metadata": {
        "colab": {
          "base_uri": "https://localhost:8080/"
        },
        "id": "F4zuLlFB7TMR",
        "outputId": "7f087f19-b201-4687-fdc0-3faf62c879f6"
      },
      "execution_count": 148,
      "outputs": [
        {
          "output_type": "stream",
          "name": "stdout",
          "text": [
            "Dataset({\n",
            "    features: ['text', 'label'],\n",
            "    num_rows: 16000\n",
            "})\n",
            "{'text': 'i didnt feel humiliated', 'label': 0}\n"
          ]
        }
      ]
    },
    {
      "cell_type": "code",
      "source": [
        "# let's see features of  train data \n",
        "train_ds.features"
      ],
      "metadata": {
        "colab": {
          "base_uri": "https://localhost:8080/"
        },
        "id": "ePa5FLL-7z9u",
        "outputId": "589810fd-a340-4928-f282-7dddc499498c"
      },
      "execution_count": 149,
      "outputs": [
        {
          "output_type": "execute_result",
          "data": {
            "text/plain": [
              "{'label': ClassLabel(num_classes=6, names=['sadness', 'joy', 'love', 'anger', 'fear', 'surprise'], id=None),\n",
              " 'text': Value(dtype='string', id=None)}"
            ]
          },
          "metadata": {},
          "execution_count": 149
        }
      ]
    },
    {
      "cell_type": "code",
      "source": [
        "# let's change the datasets to dataframes \n",
        "import pandas as pd\n",
        "\n",
        "emotions.set_format(type=\"pandas\")\n",
        "df = emotions[\"train\"][:]\n",
        "df.head()"
      ],
      "metadata": {
        "colab": {
          "base_uri": "https://localhost:8080/",
          "height": 206
        },
        "id": "IBRxCtQt8MBx",
        "outputId": "f8dc022b-a334-49bb-967d-02da32a44b42"
      },
      "execution_count": 150,
      "outputs": [
        {
          "output_type": "execute_result",
          "data": {
            "text/plain": [
              "                                                text  label\n",
              "0                            i didnt feel humiliated      0\n",
              "1  i can go from feeling so hopeless to so damned...      0\n",
              "2   im grabbing a minute to post i feel greedy wrong      3\n",
              "3  i am ever feeling nostalgic about the fireplac...      2\n",
              "4                               i am feeling grouchy      3"
            ],
            "text/html": [
              "\n",
              "  <div id=\"df-efa02a91-99a3-4770-85eb-10851bef6b4b\">\n",
              "    <div class=\"colab-df-container\">\n",
              "      <div>\n",
              "<style scoped>\n",
              "    .dataframe tbody tr th:only-of-type {\n",
              "        vertical-align: middle;\n",
              "    }\n",
              "\n",
              "    .dataframe tbody tr th {\n",
              "        vertical-align: top;\n",
              "    }\n",
              "\n",
              "    .dataframe thead th {\n",
              "        text-align: right;\n",
              "    }\n",
              "</style>\n",
              "<table border=\"1\" class=\"dataframe\">\n",
              "  <thead>\n",
              "    <tr style=\"text-align: right;\">\n",
              "      <th></th>\n",
              "      <th>text</th>\n",
              "      <th>label</th>\n",
              "    </tr>\n",
              "  </thead>\n",
              "  <tbody>\n",
              "    <tr>\n",
              "      <th>0</th>\n",
              "      <td>i didnt feel humiliated</td>\n",
              "      <td>0</td>\n",
              "    </tr>\n",
              "    <tr>\n",
              "      <th>1</th>\n",
              "      <td>i can go from feeling so hopeless to so damned...</td>\n",
              "      <td>0</td>\n",
              "    </tr>\n",
              "    <tr>\n",
              "      <th>2</th>\n",
              "      <td>im grabbing a minute to post i feel greedy wrong</td>\n",
              "      <td>3</td>\n",
              "    </tr>\n",
              "    <tr>\n",
              "      <th>3</th>\n",
              "      <td>i am ever feeling nostalgic about the fireplac...</td>\n",
              "      <td>2</td>\n",
              "    </tr>\n",
              "    <tr>\n",
              "      <th>4</th>\n",
              "      <td>i am feeling grouchy</td>\n",
              "      <td>3</td>\n",
              "    </tr>\n",
              "  </tbody>\n",
              "</table>\n",
              "</div>\n",
              "      <button class=\"colab-df-convert\" onclick=\"convertToInteractive('df-efa02a91-99a3-4770-85eb-10851bef6b4b')\"\n",
              "              title=\"Convert this dataframe to an interactive table.\"\n",
              "              style=\"display:none;\">\n",
              "        \n",
              "  <svg xmlns=\"http://www.w3.org/2000/svg\" height=\"24px\"viewBox=\"0 0 24 24\"\n",
              "       width=\"24px\">\n",
              "    <path d=\"M0 0h24v24H0V0z\" fill=\"none\"/>\n",
              "    <path d=\"M18.56 5.44l.94 2.06.94-2.06 2.06-.94-2.06-.94-.94-2.06-.94 2.06-2.06.94zm-11 1L8.5 8.5l.94-2.06 2.06-.94-2.06-.94L8.5 2.5l-.94 2.06-2.06.94zm10 10l.94 2.06.94-2.06 2.06-.94-2.06-.94-.94-2.06-.94 2.06-2.06.94z\"/><path d=\"M17.41 7.96l-1.37-1.37c-.4-.4-.92-.59-1.43-.59-.52 0-1.04.2-1.43.59L10.3 9.45l-7.72 7.72c-.78.78-.78 2.05 0 2.83L4 21.41c.39.39.9.59 1.41.59.51 0 1.02-.2 1.41-.59l7.78-7.78 2.81-2.81c.8-.78.8-2.07 0-2.86zM5.41 20L4 18.59l7.72-7.72 1.47 1.35L5.41 20z\"/>\n",
              "  </svg>\n",
              "      </button>\n",
              "      \n",
              "  <style>\n",
              "    .colab-df-container {\n",
              "      display:flex;\n",
              "      flex-wrap:wrap;\n",
              "      gap: 12px;\n",
              "    }\n",
              "\n",
              "    .colab-df-convert {\n",
              "      background-color: #E8F0FE;\n",
              "      border: none;\n",
              "      border-radius: 50%;\n",
              "      cursor: pointer;\n",
              "      display: none;\n",
              "      fill: #1967D2;\n",
              "      height: 32px;\n",
              "      padding: 0 0 0 0;\n",
              "      width: 32px;\n",
              "    }\n",
              "\n",
              "    .colab-df-convert:hover {\n",
              "      background-color: #E2EBFA;\n",
              "      box-shadow: 0px 1px 2px rgba(60, 64, 67, 0.3), 0px 1px 3px 1px rgba(60, 64, 67, 0.15);\n",
              "      fill: #174EA6;\n",
              "    }\n",
              "\n",
              "    [theme=dark] .colab-df-convert {\n",
              "      background-color: #3B4455;\n",
              "      fill: #D2E3FC;\n",
              "    }\n",
              "\n",
              "    [theme=dark] .colab-df-convert:hover {\n",
              "      background-color: #434B5C;\n",
              "      box-shadow: 0px 1px 3px 1px rgba(0, 0, 0, 0.15);\n",
              "      filter: drop-shadow(0px 1px 2px rgba(0, 0, 0, 0.3));\n",
              "      fill: #FFFFFF;\n",
              "    }\n",
              "  </style>\n",
              "\n",
              "      <script>\n",
              "        const buttonEl =\n",
              "          document.querySelector('#df-efa02a91-99a3-4770-85eb-10851bef6b4b button.colab-df-convert');\n",
              "        buttonEl.style.display =\n",
              "          google.colab.kernel.accessAllowed ? 'block' : 'none';\n",
              "\n",
              "        async function convertToInteractive(key) {\n",
              "          const element = document.querySelector('#df-efa02a91-99a3-4770-85eb-10851bef6b4b');\n",
              "          const dataTable =\n",
              "            await google.colab.kernel.invokeFunction('convertToInteractive',\n",
              "                                                     [key], {});\n",
              "          if (!dataTable) return;\n",
              "\n",
              "          const docLinkHtml = 'Like what you see? Visit the ' +\n",
              "            '<a target=\"_blank\" href=https://colab.research.google.com/notebooks/data_table.ipynb>data table notebook</a>'\n",
              "            + ' to learn more about interactive tables.';\n",
              "          element.innerHTML = '';\n",
              "          dataTable['output_type'] = 'display_data';\n",
              "          await google.colab.output.renderOutput(dataTable, element);\n",
              "          const docLink = document.createElement('div');\n",
              "          docLink.innerHTML = docLinkHtml;\n",
              "          element.appendChild(docLink);\n",
              "        }\n",
              "      </script>\n",
              "    </div>\n",
              "  </div>\n",
              "  "
            ]
          },
          "metadata": {},
          "execution_count": 150
        }
      ]
    },
    {
      "cell_type": "code",
      "source": [
        "# chanage the labels from just number to it's name\n",
        "\n",
        "def label_int2str(row):\n",
        "  '''\n",
        "  row : from dataset\n",
        "  '''\n",
        "  return emotions[\"train\"].features[\"label\"].int2str(row)\n",
        "\n",
        "df[\"label_name\"] = df[\"label\"].apply(label_int2str)\n",
        "\n",
        "df.head()"
      ],
      "metadata": {
        "colab": {
          "base_uri": "https://localhost:8080/",
          "height": 206
        },
        "id": "XLndwJWq8pmP",
        "outputId": "e8d9f9a1-cdf8-480c-b52e-2aba0cba5d9f"
      },
      "execution_count": 151,
      "outputs": [
        {
          "output_type": "execute_result",
          "data": {
            "text/plain": [
              "                                                text  label label_name\n",
              "0                            i didnt feel humiliated      0    sadness\n",
              "1  i can go from feeling so hopeless to so damned...      0    sadness\n",
              "2   im grabbing a minute to post i feel greedy wrong      3      anger\n",
              "3  i am ever feeling nostalgic about the fireplac...      2       love\n",
              "4                               i am feeling grouchy      3      anger"
            ],
            "text/html": [
              "\n",
              "  <div id=\"df-909f3600-532a-4fd2-a117-0982646003fd\">\n",
              "    <div class=\"colab-df-container\">\n",
              "      <div>\n",
              "<style scoped>\n",
              "    .dataframe tbody tr th:only-of-type {\n",
              "        vertical-align: middle;\n",
              "    }\n",
              "\n",
              "    .dataframe tbody tr th {\n",
              "        vertical-align: top;\n",
              "    }\n",
              "\n",
              "    .dataframe thead th {\n",
              "        text-align: right;\n",
              "    }\n",
              "</style>\n",
              "<table border=\"1\" class=\"dataframe\">\n",
              "  <thead>\n",
              "    <tr style=\"text-align: right;\">\n",
              "      <th></th>\n",
              "      <th>text</th>\n",
              "      <th>label</th>\n",
              "      <th>label_name</th>\n",
              "    </tr>\n",
              "  </thead>\n",
              "  <tbody>\n",
              "    <tr>\n",
              "      <th>0</th>\n",
              "      <td>i didnt feel humiliated</td>\n",
              "      <td>0</td>\n",
              "      <td>sadness</td>\n",
              "    </tr>\n",
              "    <tr>\n",
              "      <th>1</th>\n",
              "      <td>i can go from feeling so hopeless to so damned...</td>\n",
              "      <td>0</td>\n",
              "      <td>sadness</td>\n",
              "    </tr>\n",
              "    <tr>\n",
              "      <th>2</th>\n",
              "      <td>im grabbing a minute to post i feel greedy wrong</td>\n",
              "      <td>3</td>\n",
              "      <td>anger</td>\n",
              "    </tr>\n",
              "    <tr>\n",
              "      <th>3</th>\n",
              "      <td>i am ever feeling nostalgic about the fireplac...</td>\n",
              "      <td>2</td>\n",
              "      <td>love</td>\n",
              "    </tr>\n",
              "    <tr>\n",
              "      <th>4</th>\n",
              "      <td>i am feeling grouchy</td>\n",
              "      <td>3</td>\n",
              "      <td>anger</td>\n",
              "    </tr>\n",
              "  </tbody>\n",
              "</table>\n",
              "</div>\n",
              "      <button class=\"colab-df-convert\" onclick=\"convertToInteractive('df-909f3600-532a-4fd2-a117-0982646003fd')\"\n",
              "              title=\"Convert this dataframe to an interactive table.\"\n",
              "              style=\"display:none;\">\n",
              "        \n",
              "  <svg xmlns=\"http://www.w3.org/2000/svg\" height=\"24px\"viewBox=\"0 0 24 24\"\n",
              "       width=\"24px\">\n",
              "    <path d=\"M0 0h24v24H0V0z\" fill=\"none\"/>\n",
              "    <path d=\"M18.56 5.44l.94 2.06.94-2.06 2.06-.94-2.06-.94-.94-2.06-.94 2.06-2.06.94zm-11 1L8.5 8.5l.94-2.06 2.06-.94-2.06-.94L8.5 2.5l-.94 2.06-2.06.94zm10 10l.94 2.06.94-2.06 2.06-.94-2.06-.94-.94-2.06-.94 2.06-2.06.94z\"/><path d=\"M17.41 7.96l-1.37-1.37c-.4-.4-.92-.59-1.43-.59-.52 0-1.04.2-1.43.59L10.3 9.45l-7.72 7.72c-.78.78-.78 2.05 0 2.83L4 21.41c.39.39.9.59 1.41.59.51 0 1.02-.2 1.41-.59l7.78-7.78 2.81-2.81c.8-.78.8-2.07 0-2.86zM5.41 20L4 18.59l7.72-7.72 1.47 1.35L5.41 20z\"/>\n",
              "  </svg>\n",
              "      </button>\n",
              "      \n",
              "  <style>\n",
              "    .colab-df-container {\n",
              "      display:flex;\n",
              "      flex-wrap:wrap;\n",
              "      gap: 12px;\n",
              "    }\n",
              "\n",
              "    .colab-df-convert {\n",
              "      background-color: #E8F0FE;\n",
              "      border: none;\n",
              "      border-radius: 50%;\n",
              "      cursor: pointer;\n",
              "      display: none;\n",
              "      fill: #1967D2;\n",
              "      height: 32px;\n",
              "      padding: 0 0 0 0;\n",
              "      width: 32px;\n",
              "    }\n",
              "\n",
              "    .colab-df-convert:hover {\n",
              "      background-color: #E2EBFA;\n",
              "      box-shadow: 0px 1px 2px rgba(60, 64, 67, 0.3), 0px 1px 3px 1px rgba(60, 64, 67, 0.15);\n",
              "      fill: #174EA6;\n",
              "    }\n",
              "\n",
              "    [theme=dark] .colab-df-convert {\n",
              "      background-color: #3B4455;\n",
              "      fill: #D2E3FC;\n",
              "    }\n",
              "\n",
              "    [theme=dark] .colab-df-convert:hover {\n",
              "      background-color: #434B5C;\n",
              "      box-shadow: 0px 1px 3px 1px rgba(0, 0, 0, 0.15);\n",
              "      filter: drop-shadow(0px 1px 2px rgba(0, 0, 0, 0.3));\n",
              "      fill: #FFFFFF;\n",
              "    }\n",
              "  </style>\n",
              "\n",
              "      <script>\n",
              "        const buttonEl =\n",
              "          document.querySelector('#df-909f3600-532a-4fd2-a117-0982646003fd button.colab-df-convert');\n",
              "        buttonEl.style.display =\n",
              "          google.colab.kernel.accessAllowed ? 'block' : 'none';\n",
              "\n",
              "        async function convertToInteractive(key) {\n",
              "          const element = document.querySelector('#df-909f3600-532a-4fd2-a117-0982646003fd');\n",
              "          const dataTable =\n",
              "            await google.colab.kernel.invokeFunction('convertToInteractive',\n",
              "                                                     [key], {});\n",
              "          if (!dataTable) return;\n",
              "\n",
              "          const docLinkHtml = 'Like what you see? Visit the ' +\n",
              "            '<a target=\"_blank\" href=https://colab.research.google.com/notebooks/data_table.ipynb>data table notebook</a>'\n",
              "            + ' to learn more about interactive tables.';\n",
              "          element.innerHTML = '';\n",
              "          dataTable['output_type'] = 'display_data';\n",
              "          await google.colab.output.renderOutput(dataTable, element);\n",
              "          const docLink = document.createElement('div');\n",
              "          docLink.innerHTML = docLinkHtml;\n",
              "          element.appendChild(docLink);\n",
              "        }\n",
              "      </script>\n",
              "    </div>\n",
              "  </div>\n",
              "  "
            ]
          },
          "metadata": {},
          "execution_count": 151
        }
      ]
    },
    {
      "cell_type": "code",
      "source": [
        "# let's add good theme and discover more in data\n",
        "\n",
        "! pip install mplcyberpunk\n"
      ],
      "metadata": {
        "colab": {
          "base_uri": "https://localhost:8080/"
        },
        "id": "g_B-i50U9Fje",
        "outputId": "54d709a1-4d4f-46a1-bb69-3c5abc327d4a"
      },
      "execution_count": 152,
      "outputs": [
        {
          "output_type": "stream",
          "name": "stdout",
          "text": [
            "Looking in indexes: https://pypi.org/simple, https://us-python.pkg.dev/colab-wheels/public/simple/\n",
            "Requirement already satisfied: mplcyberpunk in /usr/local/lib/python3.7/dist-packages (0.5.2)\n",
            "Requirement already satisfied: matplotlib in /usr/local/lib/python3.7/dist-packages (from mplcyberpunk) (3.2.2)\n",
            "Requirement already satisfied: numpy>=1.11 in /usr/local/lib/python3.7/dist-packages (from matplotlib->mplcyberpunk) (1.21.6)\n",
            "Requirement already satisfied: kiwisolver>=1.0.1 in /usr/local/lib/python3.7/dist-packages (from matplotlib->mplcyberpunk) (1.4.3)\n",
            "Requirement already satisfied: pyparsing!=2.0.4,!=2.1.2,!=2.1.6,>=2.0.1 in /usr/local/lib/python3.7/dist-packages (from matplotlib->mplcyberpunk) (3.0.9)\n",
            "Requirement already satisfied: python-dateutil>=2.1 in /usr/local/lib/python3.7/dist-packages (from matplotlib->mplcyberpunk) (2.8.2)\n",
            "Requirement already satisfied: cycler>=0.10 in /usr/local/lib/python3.7/dist-packages (from matplotlib->mplcyberpunk) (0.11.0)\n",
            "Requirement already satisfied: typing-extensions in /usr/local/lib/python3.7/dist-packages (from kiwisolver>=1.0.1->matplotlib->mplcyberpunk) (4.1.1)\n",
            "Requirement already satisfied: six>=1.5 in /usr/local/lib/python3.7/dist-packages (from python-dateutil>=2.1->matplotlib->mplcyberpunk) (1.15.0)\n"
          ]
        }
      ]
    },
    {
      "cell_type": "code",
      "source": [
        "import matplotlib.pyplot as plt\n",
        "import mplcyberpunk\n",
        "\n",
        "plt.style.use(\"cyberpunk\")\n"
      ],
      "metadata": {
        "id": "vvJBaYt994SU"
      },
      "execution_count": 153,
      "outputs": []
    },
    {
      "cell_type": "code",
      "source": [
        "df[\"label_name\"].value_counts(ascending=True).plot.barh()\n",
        "plt.title(\"Frequency of Classes\")\n",
        "plt.show()"
      ],
      "metadata": {
        "colab": {
          "base_uri": "https://localhost:8080/",
          "height": 277
        },
        "id": "bPTVWUat99zL",
        "outputId": "361c9bd7-2c29-49f1-9c5f-898fa6d6b9c6"
      },
      "execution_count": 154,
      "outputs": [
        {
          "output_type": "display_data",
          "data": {
            "text/plain": [
              "<Figure size 432x288 with 1 Axes>"
            ],
            "image/png": "[encoded data removed]"
          },
          "metadata": {}
        }
      ]
    },
    {
      "cell_type": "code",
      "source": [
        "# How Long Are Our Tweets?\n",
        "\n",
        "df[\"Words Per Tweet\"] = df[\"text\"].str.split().apply(len)\n",
        "df.boxplot(\"Words Per Tweet\", by=\"label_name\", grid=False,\n",
        "showfliers=False, color=\"black\")\n",
        "plt.suptitle(\"\")\n",
        "plt.xlabel(\"\")\n",
        "# mplcyberpunk.add_glow_effects()\n",
        "\n",
        "plt.show()"
      ],
      "metadata": {
        "colab": {
          "base_uri": "https://localhost:8080/",
          "height": 331
        },
        "id": "Rd-1JQkj-dTw",
        "outputId": "61650567-d5c3-4231-c709-3c2945cccc20"
      },
      "execution_count": 155,
      "outputs": [
        {
          "output_type": "stream",
          "name": "stderr",
          "text": [
            "/usr/local/lib/python3.7/dist-packages/matplotlib/cbook/__init__.py:1376: VisibleDeprecationWarning: Creating an ndarray from ragged nested sequences (which is a list-or-tuple of lists-or-tuples-or ndarrays with different lengths or shapes) is deprecated. If you meant to do this, you must specify 'dtype=object' when creating the ndarray.\n",
            "  X = np.atleast_1d(X.T if isinstance(X, np.ndarray) else np.asarray(X))\n"
          ]
        },
        {
          "output_type": "display_data",
          "data": {
            "text/plain": [
              "<Figure size 432x288 with 1 Axes>"
            ],
            "image/png": "[encoded data removed]"
          },
          "metadata": {}
        }
      ]
    },
    {
      "cell_type": "code",
      "source": [
        "# i think i will not use dataframe any more past cells just to see some info i need like classes max lenght or \"number of words\"\n",
        "# let's back\n",
        "emotions.reset_format()"
      ],
      "metadata": {
        "id": "1rRifxclCiSg"
      },
      "execution_count": 156,
      "outputs": []
    },
    {
      "cell_type": "code",
      "source": [
        "# From Text to Tokens ==> to fit the model\n",
        "# i will use Subword Tokenization\n",
        "\n",
        "! pip install transformers"
      ],
      "metadata": {
        "colab": {
          "base_uri": "https://localhost:8080/"
        },
        "id": "mdc8a1fqDKQb",
        "outputId": "73586f8f-a50c-4a3b-90cb-b826fce3420d"
      },
      "execution_count": 157,
      "outputs": [
        {
          "output_type": "stream",
          "name": "stdout",
          "text": [
            "Looking in indexes: https://pypi.org/simple, https://us-python.pkg.dev/colab-wheels/public/simple/\n",
            "Requirement already satisfied: transformers in /usr/local/lib/python3.7/dist-packages (4.20.1)\n",
            "Requirement already satisfied: numpy>=1.17 in /usr/local/lib/python3.7/dist-packages (from transformers) (1.21.6)\n",
            "Requirement already satisfied: filelock in /usr/local/lib/python3.7/dist-packages (from transformers) (3.7.1)\n",
            "Requirement already satisfied: tqdm>=4.27 in /usr/local/lib/python3.7/dist-packages (from transformers) (4.64.0)\n",
            "Requirement already satisfied: huggingface-hub<1.0,>=0.1.0 in /usr/local/lib/python3.7/dist-packages (from transformers) (0.8.1)\n",
            "Requirement already satisfied: packaging>=20.0 in /usr/local/lib/python3.7/dist-packages (from transformers) (21.3)\n",
            "Requirement already satisfied: pyyaml>=5.1 in /usr/local/lib/python3.7/dist-packages (from transformers) (6.0)\n",
            "Requirement already satisfied: importlib-metadata in /usr/local/lib/python3.7/dist-packages (from transformers) (4.11.4)\n",
            "Requirement already satisfied: requests in /usr/local/lib/python3.7/dist-packages (from transformers) (2.23.0)\n",
            "Requirement already satisfied: regex!=2019.12.17 in /usr/local/lib/python3.7/dist-packages (from transformers) (2022.6.2)\n",
            "Requirement already satisfied: tokenizers!=0.11.3,<0.13,>=0.11.1 in /usr/local/lib/python3.7/dist-packages (from transformers) (0.12.1)\n",
            "Requirement already satisfied: typing-extensions>=3.7.4.3 in /usr/local/lib/python3.7/dist-packages (from huggingface-hub<1.0,>=0.1.0->transformers) (4.1.1)\n",
            "Requirement already satisfied: pyparsing!=3.0.5,>=2.0.2 in /usr/local/lib/python3.7/dist-packages (from packaging>=20.0->transformers) (3.0.9)\n",
            "Requirement already satisfied: zipp>=0.5 in /usr/local/lib/python3.7/dist-packages (from importlib-metadata->transformers) (3.8.0)\n",
            "Requirement already satisfied: chardet<4,>=3.0.2 in /usr/local/lib/python3.7/dist-packages (from requests->transformers) (3.0.4)\n",
            "Requirement already satisfied: idna<3,>=2.5 in /usr/local/lib/python3.7/dist-packages (from requests->transformers) (2.10)\n",
            "Requirement already satisfied: urllib3!=1.25.0,!=1.25.1,<1.26,>=1.21.1 in /usr/local/lib/python3.7/dist-packages (from requests->transformers) (1.25.11)\n",
            "Requirement already satisfied: certifi>=2017.4.17 in /usr/local/lib/python3.7/dist-packages (from requests->transformers) (2022.6.15)\n"
          ]
        }
      ]
    },
    {
      "cell_type": "code",
      "source": [
        "\n",
        "from transformers import AutoTokenizer\n",
        "model_ckpt = \"distilbert-base-uncased\"\n",
        "tokenizer = AutoTokenizer.from_pretrained(model_ckpt)"
      ],
      "metadata": {
        "id": "P_fjkYmrGKSV"
      },
      "execution_count": 158,
      "outputs": []
    },
    {
      "cell_type": "code",
      "source": [
        "from transformers import DistilBertTokenizer\n",
        "distilbert_tokenizer = DistilBertTokenizer.from_pretrained(model_ckpt)"
      ],
      "metadata": {
        "id": "EkrbWQAlGjYR"
      },
      "execution_count": 159,
      "outputs": []
    },
    {
      "cell_type": "code",
      "source": [
        "def tokenize(batch):\n",
        "  return tokenizer(batch[\"text\"], padding=True, truncation=True)"
      ],
      "metadata": {
        "id": "LOCPAfS-G1F8"
      },
      "execution_count": 160,
      "outputs": []
    },
    {
      "cell_type": "code",
      "source": [
        "print(tokenize(emotions[\"train\"][:2]))"
      ],
      "metadata": {
        "colab": {
          "base_uri": "https://localhost:8080/"
        },
        "id": "Yl5NirzoG4fV",
        "outputId": "94d482aa-8d91-452f-8128-8b0590022f39"
      },
      "execution_count": 161,
      "outputs": [
        {
          "output_type": "stream",
          "name": "stdout",
          "text": [
            "{'input_ids': [[101, 1045, 2134, 2102, 2514, 26608, 102, 0, 0, 0, 0, 0, 0, 0, 0, 0, 0, 0, 0, 0, 0, 0, 0], [101, 1045, 2064, 2175, 2013, 3110, 2061, 20625, 2000, 2061, 9636, 17772, 2074, 2013, 2108, 2105, 2619, 2040, 14977, 1998, 2003, 8300, 102]], 'attention_mask': [[1, 1, 1, 1, 1, 1, 1, 0, 0, 0, 0, 0, 0, 0, 0, 0, 0, 0, 0, 0, 0, 0, 0], [1, 1, 1, 1, 1, 1, 1, 1, 1, 1, 1, 1, 1, 1, 1, 1, 1, 1, 1, 1, 1, 1, 1]]}\n"
          ]
        }
      ]
    },
    {
      "cell_type": "code",
      "source": [
        "emotions_encoded = emotions.map(tokenize, batched=True, batch_size=None)"
      ],
      "metadata": {
        "colab": {
          "base_uri": "https://localhost:8080/",
          "height": 113,
          "referenced_widgets": [
            "083430d5bed84a98b27164ac0204094e",
            "d6942c2d8b854a90b5c440b0a7ef9ab4",
            "2e5533c4b8fe424db9437d003ac84f93",
            "58ea4bf9aaac4b77947e488df2fd1a2e",
            "0b393d37609645aeb9ea1dc3647880f5",
            "d766658da6ed40d3a5d5b2972c837554",
            "bb1cb4992e204cc880bf3b39a1a24bb6",
            "d42f4dadafcc4d7793d38bf5dbdba767",
            "0784d3c2fd974119a9078ba268c84c9a",
            "4453ce08a3964c97923c91673377c7d2",
            "70c310e3412e46e2a1e18319f2ac05c5",
            "425637c1ef34490abc84e980e9e40676",
            "216fb5f76de241b197b9dd44520f6999",
            "313911ed0594478092056f5f2cd325ed",
            "7e6cda21625f4e129f7c1fcefadb0462",
            "6c2c9fcb34c142a889da9f4d015cf71e",
            "877d8381632a49bdab5c2043fc19e8f8",
            "c6ee839a6b1a4444ac23b9d70576403b",
            "9bcc92955c194538bb41e1218f1bfb8a",
            "90d1b7a4beb4491ba89270d170bfbe1d",
            "1c87f86665d04ba7a82285a51f951773",
            "505feeaaf0374312b454a39e3c9b81c6",
            "1f53e67feb874a938a07fb1222b361d7",
            "1fb330036a2d4b91a503b87bf4c43bf6",
            "3bbdafbb64d547919bf53a8a2b00b89c",
            "3796bb6a21e9405c8eacb16c720355ff",
            "ff69934113634e8692a4fe86737adae7",
            "5daf5fae838341f191330f67a64076e9",
            "accc576158af42a086468e7d37687c88",
            "42e6068326ac4078a0e00cb7db1d9552",
            "9d98221b00084d3eb3789b63c20c246b",
            "3943b6b5534d46ffacaae17ea9bbd44b",
            "fa862f0b671d45f2a81a421d9106ab05"
          ]
        },
        "id": "JjuzBmmxG7OD",
        "outputId": "781d9fb9-4fff-4bfc-c0ef-2ea4deaa444b"
      },
      "execution_count": 162,
      "outputs": [
        {
          "output_type": "display_data",
          "data": {
            "text/plain": [
              "  0%|          | 0/1 [00:00<?, ?ba/s]"
            ],
            "application/vnd.jupyter.widget-view+json": {
              "version_major": 2,
              "version_minor": 0,
              "model_id": "083430d5bed84a98b27164ac0204094e"
            }
          },
          "metadata": {}
        },
        {
          "output_type": "display_data",
          "data": {
            "text/plain": [
              "  0%|          | 0/1 [00:00<?, ?ba/s]"
            ],
            "application/vnd.jupyter.widget-view+json": {
              "version_major": 2,
              "version_minor": 0,
              "model_id": "425637c1ef34490abc84e980e9e40676"
            }
          },
          "metadata": {}
        },
        {
          "output_type": "display_data",
          "data": {
            "text/plain": [
              "  0%|          | 0/1 [00:00<?, ?ba/s]"
            ],
            "application/vnd.jupyter.widget-view+json": {
              "version_major": 2,
              "version_minor": 0,
              "model_id": "1f53e67feb874a938a07fb1222b361d7"
            }
          },
          "metadata": {}
        }
      ]
    },
    {
      "cell_type": "code",
      "source": [
        "print(emotions_encoded[\"train\"].column_names)"
      ],
      "metadata": {
        "colab": {
          "base_uri": "https://localhost:8080/"
        },
        "id": "Typ1VPW2HC4d",
        "outputId": "5dbb9da9-5ec6-454f-8ac1-26d7c53c45ee"
      },
      "execution_count": 163,
      "outputs": [
        {
          "output_type": "stream",
          "name": "stdout",
          "text": [
            "['text', 'label', 'input_ids', 'attention_mask']\n"
          ]
        }
      ]
    },
    {
      "cell_type": "markdown",
      "source": [
        "# Training a Text Classifier\n",
        "![image.png](data:image/png;base64,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)"
      ],
      "metadata": {
        "id": "-ggWBomzHTAl"
      }
    },
    {
      "cell_type": "markdown",
      "source": [
        "# Using pretrained models\n",
        "![image.png](data:image/png;base64,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)"
      ],
      "metadata": {
        "id": "ZRyUjfNlINHL"
      }
    },
    {
      "cell_type": "code",
      "source": [
        "import torch\n",
        "model_ckpt = \"distilbert-base-uncased\"\n",
        "device = torch.device(\"cuda\" if torch.cuda.is_available() else \"cpu\")\n",
        "model = AutoModel.from_pretrained(model_ckpt).to(device)"
      ],
      "metadata": {
        "id": "-npCKNY3HGpV"
      },
      "execution_count": 164,
      "outputs": []
    },
    {
      "cell_type": "code",
      "source": [
        "# Extracting the last hidden states\n",
        "\n",
        "text = \"this is a test\"\n",
        "inputs = tokenizer(text, return_tensors=\"pt\")\n",
        "print(f\"Input tensor shape: {inputs['input_ids'].size()}\")"
      ],
      "metadata": {
        "colab": {
          "base_uri": "https://localhost:8080/"
        },
        "id": "eJZJVB1oIZWj",
        "outputId": "287fcb03-a568-40ea-c199-64c3005ac769"
      },
      "execution_count": 165,
      "outputs": [
        {
          "output_type": "stream",
          "name": "stdout",
          "text": [
            "Input tensor shape: torch.Size([1, 6])\n"
          ]
        }
      ]
    },
    {
      "cell_type": "code",
      "source": [
        "inputs = {k:v.to(device) for k,v in inputs.items()}\n",
        "with torch.no_grad():\n",
        "  outputs = model(**inputs)\n",
        "print(outputs)"
      ],
      "metadata": {
        "colab": {
          "base_uri": "https://localhost:8080/"
        },
        "id": "enVvI5G1I5yv",
        "outputId": "3b33a34c-1528-44d4-b68d-629012a8872a"
      },
      "execution_count": 166,
      "outputs": [
        {
          "output_type": "stream",
          "name": "stdout",
          "text": [
            "BaseModelOutput(last_hidden_state=tensor([[[-0.1565, -0.1862,  0.0528,  ..., -0.1188,  0.0662,  0.5470],\n",
            "         [-0.3575, -0.6484, -0.0618,  ..., -0.3040,  0.3508,  0.5221],\n",
            "         [-0.2772, -0.4459,  0.1818,  ..., -0.0948, -0.0076,  0.9958],\n",
            "         [-0.2841, -0.3917,  0.3753,  ..., -0.2151, -0.1173,  1.0526],\n",
            "         [ 0.2661, -0.5094, -0.3180,  ..., -0.4203,  0.0144, -0.2149],\n",
            "         [ 0.9441,  0.0112, -0.4714,  ...,  0.1439, -0.7288, -0.1619]]],\n",
            "       device='cuda:0'), hidden_states=None, attentions=None)\n"
          ]
        }
      ]
    },
    {
      "cell_type": "code",
      "source": [
        "outputs.last_hidden_state.size()"
      ],
      "metadata": {
        "colab": {
          "base_uri": "https://localhost:8080/"
        },
        "id": "1DWURDoHI_lS",
        "outputId": "aa1b63f2-2e96-474f-882c-7c408a3169bf"
      },
      "execution_count": 167,
      "outputs": [
        {
          "output_type": "execute_result",
          "data": {
            "text/plain": [
              "torch.Size([1, 6, 768])"
            ]
          },
          "metadata": {},
          "execution_count": 167
        }
      ]
    },
    {
      "cell_type": "code",
      "source": [
        "outputs.last_hidden_state[:,0].size()"
      ],
      "metadata": {
        "colab": {
          "base_uri": "https://localhost:8080/"
        },
        "id": "dimwhNy5JK3J",
        "outputId": "8b4db8f2-df49-43d2-c5b5-e5ec35e8c3f2"
      },
      "execution_count": 168,
      "outputs": [
        {
          "output_type": "execute_result",
          "data": {
            "text/plain": [
              "torch.Size([1, 768])"
            ]
          },
          "metadata": {},
          "execution_count": 168
        }
      ]
    },
    {
      "cell_type": "code",
      "source": [
        "def extract_hidden_states(batch):\n",
        "# Place model inputs on the GPU\n",
        "  inputs = {k:v.to(device) for k,v in batch.items()\n",
        "  if k in tokenizer.model_input_names}\n",
        "# Extract last hidden states\n",
        "  with torch.no_grad():\n",
        "    last_hidden_state = model(**inputs).last_hidden_state\n",
        "# Return vector for [CLS] token\n",
        "  return {\"hidden_state\": last_hidden_state[:,0].cpu().numpy()}"
      ],
      "metadata": {
        "id": "r5VfncsuJP2q"
      },
      "execution_count": 169,
      "outputs": []
    },
    {
      "cell_type": "code",
      "source": [
        "emotions_encoded.set_format(\"torch\",\n",
        "columns=[\"input_ids\", \"attention_mask\", \"label\"])"
      ],
      "metadata": {
        "id": "TrEhZFwEJTkl"
      },
      "execution_count": 170,
      "outputs": []
    },
    {
      "cell_type": "code",
      "source": [
        "emotions_hidden = emotions_encoded.map(extract_hidden_states, batched=True)"
      ],
      "metadata": {
        "colab": {
          "base_uri": "https://localhost:8080/",
          "height": 113,
          "referenced_widgets": [
            "a1ed66487ae047d49ac59b8c85341358",
            "78559063d516401d9f55988087f638b2",
            "b2ffb9c017e44faaa10df0be07c708e1",
            "9d9c302d8d2748f589be3f1c9f238932",
            "50e64784795a40ee96d71ea999ca4375",
            "236c60235188462e99d971f6def63d93",
            "87193f08273d4f6aa2faab1bd2f14d8f",
            "7e4ed386cb6f48a5b93d04cc9dc342b5",
            "41217c0306b945f88cb5ae4395aa949d",
            "d1717577e91442fbab39c360ff7800cb",
            "8203d309dd42482dad0b13855ba7030a",
            "44419ef50a7e4e11844fd39c7033a246",
            "5cad6be06000400884e5273c9ff9bfc9",
            "dbb0411352cf4894b6f24864fb561cd5",
            "9c3d592388cb442db56f982f63d2eb0f",
            "0cb44dad4fbe4502bc1d5c90673e4627",
            "82c6acff115e4a0fb5cf7027638963a0",
            "854bd0d4239a46f0b276aba99d284515",
            "4eb59b40ca0b433b9eb8237b66d6fe6c",
            "b0317665276c4495855bf8013a250187",
            "945fc5dc679b460aac587edc6db8e438",
            "dbb47a7dc8364c36ab83537876299b90",
            "944f51db995d4cc19dc4e8ae48d58ccf",
            "ba154e86908d4d7590060fb868c8673c",
            "e3afaff313984d1e9eb65649debd779e",
            "af3486054ecd410891e0acc4eeb710e6",
            "c0bbb77975df452e92c368d40e1b9509",
            "73ce118cbd5e48118e7341ac7917f2e9",
            "1efb60f885c14189b7db96d6701fbbc5",
            "784a337c67a34a03ba3ef1b52509e89c",
            "cbf9cacd48be4549952ddcdc3e79d766",
            "82ff2b0c70ff47caa53932bcb787884c",
            "e57fd0b95daf4ed486f76c7e39f7e43f"
          ]
        },
        "id": "U_6Vb-2gJjdR",
        "outputId": "6dff7275-df20-46fa-b305-9f4a271d004a"
      },
      "execution_count": 171,
      "outputs": [
        {
          "output_type": "display_data",
          "data": {
            "text/plain": [
              "  0%|          | 0/16 [00:00<?, ?ba/s]"
            ],
            "application/vnd.jupyter.widget-view+json": {
              "version_major": 2,
              "version_minor": 0,
              "model_id": "a1ed66487ae047d49ac59b8c85341358"
            }
          },
          "metadata": {}
        },
        {
          "output_type": "display_data",
          "data": {
            "text/plain": [
              "  0%|          | 0/2 [00:00<?, ?ba/s]"
            ],
            "application/vnd.jupyter.widget-view+json": {
              "version_major": 2,
              "version_minor": 0,
              "model_id": "44419ef50a7e4e11844fd39c7033a246"
            }
          },
          "metadata": {}
        },
        {
          "output_type": "display_data",
          "data": {
            "text/plain": [
              "  0%|          | 0/2 [00:00<?, ?ba/s]"
            ],
            "application/vnd.jupyter.widget-view+json": {
              "version_major": 2,
              "version_minor": 0,
              "model_id": "944f51db995d4cc19dc4e8ae48d58ccf"
            }
          },
          "metadata": {}
        }
      ]
    },
    {
      "cell_type": "code",
      "source": [
        "emotions_hidden[\"train\"].column_names"
      ],
      "metadata": {
        "colab": {
          "base_uri": "https://localhost:8080/"
        },
        "id": "1td4QDTWJlwz",
        "outputId": "b4ad19ad-ce4c-44f6-c68e-df8592728550"
      },
      "execution_count": 172,
      "outputs": [
        {
          "output_type": "execute_result",
          "data": {
            "text/plain": [
              "['text', 'label', 'input_ids', 'attention_mask', 'hidden_state']"
            ]
          },
          "metadata": {},
          "execution_count": 172
        }
      ]
    },
    {
      "cell_type": "code",
      "source": [
        "import numpy as np\n",
        "X_train = np.array(emotions_hidden[\"train\"][\"hidden_state\"])\n",
        "X_valid = np.array(emotions_hidden[\"validation\"][\"hidden_state\"])\n",
        "y_train = np.array(emotions_hidden[\"train\"][\"label\"])\n",
        "y_valid = np.array(emotions_hidden[\"validation\"][\"label\"])\n",
        "X_train.shape, X_valid.shape"
      ],
      "metadata": {
        "colab": {
          "base_uri": "https://localhost:8080/"
        },
        "id": "r-15WZ_KJ2sU",
        "outputId": "cb56bf41-5e72-4c65-b157-7d7dd60ef397"
      },
      "execution_count": 173,
      "outputs": [
        {
          "output_type": "execute_result",
          "data": {
            "text/plain": [
              "((16000, 768), (2000, 768))"
            ]
          },
          "metadata": {},
          "execution_count": 173
        }
      ]
    },
    {
      "cell_type": "code",
      "source": [
        "# train simple classifier\n",
        "from sklearn.linear_model import LogisticRegression\n",
        "# We increase `max_iter` to guarantee convergence\n",
        "lr_clf = LogisticRegression(max_iter=3000)\n",
        "lr_clf.fit(X_train, y_train)\n",
        "lr_clf.score(X_valid, y_valid)"
      ],
      "metadata": {
        "colab": {
          "base_uri": "https://localhost:8080/"
        },
        "id": "rcFDQlY4J5Lv",
        "outputId": "ab89102f-5bff-4c57-e363-98bc94032d63"
      },
      "execution_count": 174,
      "outputs": [
        {
          "output_type": "execute_result",
          "data": {
            "text/plain": [
              "0.6335"
            ]
          },
          "metadata": {},
          "execution_count": 174
        }
      ]
    },
    {
      "cell_type": "code",
      "source": [
        "from sklearn.dummy import DummyClassifier\n",
        "dummy_clf = DummyClassifier(strategy=\"most_frequent\")\n",
        "dummy_clf.fit(X_train, y_train)\n",
        "dummy_clf.score(X_valid, y_valid)"
      ],
      "metadata": {
        "colab": {
          "base_uri": "https://localhost:8080/"
        },
        "id": "IVEfEQ3fJ9m6",
        "outputId": "2f14724c-5e99-4c06-fff3-9dbb0112de02"
      },
      "execution_count": 175,
      "outputs": [
        {
          "output_type": "execute_result",
          "data": {
            "text/plain": [
              "0.352"
            ]
          },
          "metadata": {},
          "execution_count": 175
        }
      ]
    },
    {
      "cell_type": "code",
      "source": [
        "from sklearn.metrics import ConfusionMatrixDisplay, confusion_matrix\n",
        "def plot_confusion_matrix(y_preds, y_true, labels):\n",
        "  cm = confusion_matrix(y_true, y_preds, normalize=\"true\")\n",
        "  fig, ax = plt.subplots(figsize=(6, 6))\n",
        "  disp = ConfusionMatrixDisplay(confusion_matrix=cm, display_labels=labels)\n",
        "  disp.plot(cmap=\"Blues\", values_format=\".2f\", ax=ax, colorbar=False)\n",
        "  plt.title(\"Normalized confusion matrix\")\n",
        "  plt.show()\n",
        "\n",
        "labels=['sadness', 'joy', 'love', 'anger', 'fear', 'surprise']\n",
        "y_preds = lr_clf.predict(X_valid)\n",
        "plot_confusion_matrix(y_preds, y_valid, labels)"
      ],
      "metadata": {
        "colab": {
          "base_uri": "https://localhost:8080/",
          "height": 400
        },
        "id": "CFBujedALOFG",
        "outputId": "2b286010-0b32-4dfc-f917-0317ffe84cfd"
      },
      "execution_count": 176,
      "outputs": [
        {
          "output_type": "display_data",
          "data": {
            "text/plain": [
              "<Figure size 432x432 with 1 Axes>"
            ],
            "image/png": "[encoded data removed]"
          },
          "metadata": {}
        }
      ]
    },
    {
      "cell_type": "markdown",
      "source": [
        "# Fine-Tuning Transformers\n",
        "\n",
        "![image.png](data:image/png;base64,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)"
      ],
      "metadata": {
        "id": "2eblDoUwNE3D"
      }
    },
    {
      "cell_type": "markdown",
      "source": [
        "The first thing we need is a pretrained DistilBERT model like the one we used in the\n",
        "feature-based approach. The only slight modification is that we use the AutoModelFor\n",
        "SequenceClassification model instead of AutoModel. The difference is that the\n",
        "AutoModelForSequenceClassification model has a classification head on top of the\n",
        "pretrained model outputs, which can be easily trained with the base model. We just\n",
        "need to specify how many labels the model has to predict (six in our case), since this\n",
        "dictates the number of outputs the classification head has"
      ],
      "metadata": {
        "id": "7K89xKH_OHGK"
      }
    },
    {
      "cell_type": "code",
      "source": [
        "#Loading a pretrained model DistilBERT model like the one we used in thefeature-based approach\n",
        "\n",
        "from transformers import AutoModelForSequenceClassification\n",
        "num_labels = 6\n",
        "model = (AutoModelForSequenceClassification\n",
        ".from_pretrained(model_ckpt, num_labels=num_labels)\n",
        ".to(device))"
      ],
      "metadata": {
        "id": "rklILgknMvPe"
      },
      "execution_count": 177,
      "outputs": []
    },
    {
      "cell_type": "code",
      "source": [
        "# Defining the performance metrics\n",
        "\n",
        "from sklearn.metrics import accuracy_score, f1_score\n",
        "def compute_metrics(pred):\n",
        "  labels = pred.label_ids\n",
        "  preds = pred.predictions.argmax(-1)\n",
        "  f1 = f1_score(labels, preds, average=\"weighted\")\n",
        "  acc = accuracy_score(labels, preds)\n",
        "  return {\"accuracy\": acc, \"f1\": f1}"
      ],
      "metadata": {
        "id": "3C4SIrklOIzY"
      },
      "execution_count": 178,
      "outputs": []
    },
    {
      "cell_type": "code",
      "source": [
        "# log in huggingface_hub\n",
        "from huggingface_hub import notebook_login\n",
        "notebook_login()"
      ],
      "metadata": {
        "colab": {
          "base_uri": "https://localhost:8080/",
          "height": 299,
          "referenced_widgets": [
            "5d2027edea784f7793073fbe81c0125a",
            "9046071571564c80a13bbfd8ecf3d5a6",
            "65121e69bade4f8ba062afa05d48793a",
            "c5c24d0f4e2746c190aec0e98f7af853",
            "3aa3928fe23048a79b6fb04c9d2bb350",
            "bbdd0f4a647b4ed2aaca90208259bf45",
            "adb092a56f9d4b299fe4d18dc2ddfd38",
            "0f2a1fb770774792b3a8d22dbbea927b",
            "f3f6d084d3a649bd842fdb42b1a8e5bd",
            "e1cb22f30e14434b926877b217ad8cbb",
            "aa2486dd4b0e434191bf3982cafaf81a",
            "05be6a6b248a47e0a1a5354d438ca3a4",
            "dd0f8ef7aae940db8b3440ff8db9c4b6",
            "7a2ed5e4b48145adb94fc8731c73f581"
          ]
        },
        "id": "BeR7UxKJOdAD",
        "outputId": "f49ac04f-51c0-4497-b98b-f888e6fad8e0"
      },
      "execution_count": 179,
      "outputs": [
        {
          "output_type": "display_data",
          "data": {
            "text/plain": [
              "VBox(children=(HTML(value='<center> <img\\nsrc=https://huggingface.co/front/assets/huggingface_logo-noborder.sv…"
            ],
            "application/vnd.jupyter.widget-view+json": {
              "version_major": 2,
              "version_minor": 0,
              "model_id": "5d2027edea784f7793073fbe81c0125a"
            }
          },
          "metadata": {}
        }
      ]
    },
    {
      "cell_type": "code",
      "source": [
        "from transformers import Trainer, TrainingArguments\n",
        "batch_size = 64\n",
        "logging_steps = len(emotions_encoded[\"train\"]) // batch_size\n",
        "\n",
        "model_name = f\"{model_ckpt}-finetuned-emotion\"\n",
        "\n",
        "training_args = TrainingArguments(output_dir=model_name,\n",
        "                                  num_train_epochs=5,\n",
        "                                  learning_rate=2e-5,\n",
        "                                  per_device_train_batch_size=batch_size,\n",
        "                                  per_device_eval_batch_size=batch_size,\n",
        "                                  weight_decay=0.01,\n",
        "                                  evaluation_strategy=\"epoch\",\n",
        "                                  disable_tqdm=False,\n",
        "                                  logging_steps=logging_steps,\n",
        "                                  push_to_hub=True,\n",
        "                                  log_level=\"error\")"
      ],
      "metadata": {
        "id": "zG-OBNMFOqaf"
      },
      "execution_count": 180,
      "outputs": []
    },
    {
      "cell_type": "code",
      "source": [
        "from transformers import Trainer\n",
        "trainer = Trainer(model=model, args=training_args,\n",
        "                  compute_metrics=compute_metrics,\n",
        "                  train_dataset=emotions_encoded[\"train\"],\n",
        "                  eval_dataset=emotions_encoded[\"validation\"],\n",
        "                  tokenizer=tokenizer)\n",
        "trainer.train();"
      ],
      "metadata": {
        "colab": {
          "base_uri": "https://localhost:8080/",
          "height": 307
        },
        "id": "3ftwQN1kPEMv",
        "outputId": "6672c2b5-d016-4461-c924-fb5f147967b0"
      },
      "execution_count": 181,
      "outputs": [
        {
          "output_type": "stream",
          "name": "stderr",
          "text": [
            "/content/distilbert-base-uncased-finetuned-emotion is already a clone of https://huggingface.co/Ahmed007/distilbert-base-uncased-finetuned-emotion. Make sure you pull the latest changes with `repo.git_pull()`.\n",
            "/usr/local/lib/python3.7/dist-packages/transformers/optimization.py:310: FutureWarning: This implementation of AdamW is deprecated and will be removed in a future version. Use the PyTorch implementation torch.optim.AdamW instead, or set `no_deprecation_warning=True` to disable this warning\n",
            "  FutureWarning,\n"
          ]
        },
        {
          "output_type": "display_data",
          "data": {
            "text/plain": [
              "<IPython.core.display.HTML object>"
            ],
            "text/html": [
              "\n",
              "    <div>\n",
              "      \n",
              "      <progress value='1250' max='1250' style='width:300px; height:20px; vertical-align: middle;'></progress>\n",
              "      [1250/1250 10:09, Epoch 5/5]\n",
              "    </div>\n",
              "    <table border=\"1\" class=\"dataframe\">\n",
              "  <thead>\n",
              " <tr style=\"text-align: left;\">\n",
              "      <th>Epoch</th>\n",
              "      <th>Training Loss</th>\n",
              "      <th>Validation Loss</th>\n",
              "      <th>Accuracy</th>\n",
              "      <th>F1</th>\n",
              "    </tr>\n",
              "  </thead>\n",
              "  <tbody>\n",
              "    <tr>\n",
              "      <td>1</td>\n",
              "      <td>0.762800</td>\n",
              "      <td>0.248851</td>\n",
              "      <td>0.915500</td>\n",
              "      <td>0.914140</td>\n",
              "    </tr>\n",
              "    <tr>\n",
              "      <td>2</td>\n",
              "      <td>0.201400</td>\n",
              "      <td>0.171600</td>\n",
              "      <td>0.928000</td>\n",
              "      <td>0.928289</td>\n",
              "    </tr>\n",
              "    <tr>\n",
              "      <td>3</td>\n",
              "      <td>0.135100</td>\n",
              "      <td>0.145583</td>\n",
              "      <td>0.937000</td>\n",
              "      <td>0.937439</td>\n",
              "    </tr>\n",
              "    <tr>\n",
              "      <td>4</td>\n",
              "      <td>0.104600</td>\n",
              "      <td>0.143983</td>\n",
              "      <td>0.935500</td>\n",
              "      <td>0.934877</td>\n",
              "    </tr>\n",
              "    <tr>\n",
              "      <td>5</td>\n",
              "      <td>0.087700</td>\n",
              "      <td>0.141274</td>\n",
              "      <td>0.937000</td>\n",
              "      <td>0.937233</td>\n",
              "    </tr>\n",
              "  </tbody>\n",
              "</table><p>"
            ]
          },
          "metadata": {}
        }
      ]
    },
    {
      "cell_type": "code",
      "source": [
        "preds_output = trainer.predict(emotions_encoded[\"validation\"])"
      ],
      "metadata": {
        "colab": {
          "base_uri": "https://localhost:8080/",
          "height": 37
        },
        "id": "NPOy24RcPJ-H",
        "outputId": "e23c6a45-260c-4ba0-fbfd-4f230a7af8c4"
      },
      "execution_count": 182,
      "outputs": [
        {
          "output_type": "display_data",
          "data": {
            "text/plain": [
              "<IPython.core.display.HTML object>"
            ],
            "text/html": [
              "\n",
              "    <div>\n",
              "      \n",
              "      <progress value='32' max='32' style='width:300px; height:20px; vertical-align: middle;'></progress>\n",
              "      [32/32 00:04]\n",
              "    </div>\n",
              "    "
            ]
          },
          "metadata": {}
        }
      ]
    },
    {
      "cell_type": "code",
      "source": [
        "preds_output.metrics"
      ],
      "metadata": {
        "colab": {
          "base_uri": "https://localhost:8080/"
        },
        "id": "rDTRLKKsQU4I",
        "outputId": "49d00b27-29bd-4d82-f033-a40103848ffe"
      },
      "execution_count": 183,
      "outputs": [
        {
          "output_type": "execute_result",
          "data": {
            "text/plain": [
              "{'test_accuracy': 0.937,\n",
              " 'test_f1': 0.9372331942198677,\n",
              " 'test_loss': 0.14127442240715027,\n",
              " 'test_runtime': 4.521,\n",
              " 'test_samples_per_second': 442.378,\n",
              " 'test_steps_per_second': 7.078}"
            ]
          },
          "metadata": {},
          "execution_count": 183
        }
      ]
    },
    {
      "cell_type": "code",
      "source": [
        "y_preds = np.argmax(preds_output.predictions, axis=1)"
      ],
      "metadata": {
        "id": "6zNu5YFoQfmE"
      },
      "execution_count": 184,
      "outputs": []
    },
    {
      "cell_type": "code",
      "source": [
        "plot_confusion_matrix(y_preds, y_valid, labels)"
      ],
      "metadata": {
        "colab": {
          "base_uri": "https://localhost:8080/",
          "height": 400
        },
        "id": "laopr72IQvn_",
        "outputId": "696f7c07-5983-4223-ecf9-cdf7275b7103"
      },
      "execution_count": 185,
      "outputs": [
        {
          "output_type": "display_data",
          "data": {
            "text/plain": [
              "<Figure size 432x432 with 1 Axes>"
            ],
            "image/png": "[encoded data removed]"
          },
          "metadata": {}
        }
      ]
    },
    {
      "cell_type": "code",
      "source": [
        "# Error analysis\n",
        "\n",
        "from torch.nn.functional import cross_entropy\n",
        "def forward_pass_with_label(batch):\n",
        "  # Place all input tensors on the same device as the model\n",
        "  inputs = {k:v.to(device) for k,v in batch.items()\n",
        "  if k in tokenizer.model_input_names}\n",
        "  with torch.no_grad():\n",
        "    output = model(**inputs)\n",
        "  pred_label = torch.argmax(output.logits, axis=-1)\n",
        "  loss = cross_entropy(output.logits, batch[\"label\"].to(device),\n",
        "  reduction=\"none\")\n",
        "  # Place outputs on CPU for compatibility with other dataset columns\n",
        "  return {\"loss\": loss.cpu().numpy(),\n",
        "  \"predicted_label\": pred_label.cpu().numpy()}"
      ],
      "metadata": {
        "id": "QbPjNSRNQypI"
      },
      "execution_count": 186,
      "outputs": []
    },
    {
      "cell_type": "code",
      "source": [
        "# Convert our dataset back to PyTorch tensors\n",
        "emotions_encoded.set_format(\"torch\",\n",
        "columns=[\"input_ids\", \"attention_mask\", \"label\"])\n",
        "# Compute loss values\n",
        "emotions_encoded[\"validation\"] = emotions_encoded[\"validation\"].map(\n",
        "forward_pass_with_label, batched=True, batch_size=16)"
      ],
      "metadata": {
        "colab": {
          "base_uri": "https://localhost:8080/"
        },
        "id": "wFj8Kwe9RE2U",
        "outputId": "0899fa79-8df2-4a3c-adc7-93acaa4dbb8d"
      },
      "execution_count": 187,
      "outputs": [
        {
          "output_type": "stream",
          "name": "stderr",
          "text": [
            "Loading cached processed dataset at /root/.cache/huggingface/datasets/emotion/default/0.0.0/348f63ca8e27b3713b6c04d723efe6d824a56fb3d1449794716c0f0296072705/cache-1c80317fa3b1799d.arrow\n"
          ]
        }
      ]
    },
    {
      "cell_type": "code",
      "source": [
        "emotions_encoded.set_format(\"pandas\")\n",
        "cols = [\"text\", \"label\", \"predicted_label\", \"loss\"]\n",
        "df_test = emotions_encoded[\"validation\"][:][cols]\n",
        "df_test[\"label\"] = df_test[\"label\"].apply(label_int2str)\n",
        "df_test[\"predicted_label\"] = (df_test[\"predicted_label\"].apply(label_int2str))"
      ],
      "metadata": {
        "id": "XrTllOeeRJJB"
      },
      "execution_count": 188,
      "outputs": []
    },
    {
      "cell_type": "code",
      "source": [
        "df_test.sort_values(\"loss\", ascending=False).head(10)"
      ],
      "metadata": {
        "colab": {
          "base_uri": "https://localhost:8080/",
          "height": 363
        },
        "id": "7xeDDAL4RLG-",
        "outputId": "fba82e02-4581-4e8d-8284-fd86f8224086"
      },
      "execution_count": 189,
      "outputs": [
        {
          "output_type": "execute_result",
          "data": {
            "text/plain": [
              "                                                   text     label  \\\n",
              "1274  i am going to several holiday parties and i ca...       joy   \n",
              "1950  i as representative of everything thats wrong ...  surprise   \n",
              "882   i feel badly about reneging on my commitment t...      love   \n",
              "1801  i feel that he was being overshadowed by the s...      love   \n",
              "1963  i called myself pro life and voted for perry w...       joy   \n",
              "465   i would eventually go in to these stores but i...       joy   \n",
              "1509  i guess this is a memoir so it feels like that...       joy   \n",
              "1870  i guess i feel betrayed because i admired him ...       joy   \n",
              "765     i feel super awkward and out of place right now       joy   \n",
              "1500  i guess we would naturally feel a sense of lon...     anger   \n",
              "\n",
              "     predicted_label      loss  \n",
              "1274         sadness  5.185748  \n",
              "1950         sadness  5.182365  \n",
              "882          sadness  5.158078  \n",
              "1801         sadness  5.141613  \n",
              "1963         sadness  4.980229  \n",
              "465             fear  4.975656  \n",
              "1509            fear  4.807631  \n",
              "1870         sadness  4.787856  \n",
              "765          sadness  4.731141  \n",
              "1500         sadness  4.620309  "
            ],
            "text/html": [
              "\n",
              "  <div id=\"df-13af4107-a7ea-439b-bf16-383edd6c688f\">\n",
              "    <div class=\"colab-df-container\">\n",
              "      <div>\n",
              "<style scoped>\n",
              "    .dataframe tbody tr th:only-of-type {\n",
              "        vertical-align: middle;\n",
              "    }\n",
              "\n",
              "    .dataframe tbody tr th {\n",
              "        vertical-align: top;\n",
              "    }\n",
              "\n",
              "    .dataframe thead th {\n",
              "        text-align: right;\n",
              "    }\n",
              "</style>\n",
              "<table border=\"1\" class=\"dataframe\">\n",
              "  <thead>\n",
              "    <tr style=\"text-align: right;\">\n",
              "      <th></th>\n",
              "      <th>text</th>\n",
              "      <th>label</th>\n",
              "      <th>predicted_label</th>\n",
              "      <th>loss</th>\n",
              "    </tr>\n",
              "  </thead>\n",
              "  <tbody>\n",
              "    <tr>\n",
              "      <th>1274</th>\n",
              "      <td>i am going to several holiday parties and i ca...</td>\n",
              "      <td>joy</td>\n",
              "      <td>sadness</td>\n",
              "      <td>5.185748</td>\n",
              "    </tr>\n",
              "    <tr>\n",
              "      <th>1950</th>\n",
              "      <td>i as representative of everything thats wrong ...</td>\n",
              "      <td>surprise</td>\n",
              "      <td>sadness</td>\n",
              "      <td>5.182365</td>\n",
              "    </tr>\n",
              "    <tr>\n",
              "      <th>882</th>\n",
              "      <td>i feel badly about reneging on my commitment t...</td>\n",
              "      <td>love</td>\n",
              "      <td>sadness</td>\n",
              "      <td>5.158078</td>\n",
              "    </tr>\n",
              "    <tr>\n",
              "      <th>1801</th>\n",
              "      <td>i feel that he was being overshadowed by the s...</td>\n",
              "      <td>love</td>\n",
              "      <td>sadness</td>\n",
              "      <td>5.141613</td>\n",
              "    </tr>\n",
              "    <tr>\n",
              "      <th>1963</th>\n",
              "      <td>i called myself pro life and voted for perry w...</td>\n",
              "      <td>joy</td>\n",
              "      <td>sadness</td>\n",
              "      <td>4.980229</td>\n",
              "    </tr>\n",
              "    <tr>\n",
              "      <th>465</th>\n",
              "      <td>i would eventually go in to these stores but i...</td>\n",
              "      <td>joy</td>\n",
              "      <td>fear</td>\n",
              "      <td>4.975656</td>\n",
              "    </tr>\n",
              "    <tr>\n",
              "      <th>1509</th>\n",
              "      <td>i guess this is a memoir so it feels like that...</td>\n",
              "      <td>joy</td>\n",
              "      <td>fear</td>\n",
              "      <td>4.807631</td>\n",
              "    </tr>\n",
              "    <tr>\n",
              "      <th>1870</th>\n",
              "      <td>i guess i feel betrayed because i admired him ...</td>\n",
              "      <td>joy</td>\n",
              "      <td>sadness</td>\n",
              "      <td>4.787856</td>\n",
              "    </tr>\n",
              "    <tr>\n",
              "      <th>765</th>\n",
              "      <td>i feel super awkward and out of place right now</td>\n",
              "      <td>joy</td>\n",
              "      <td>sadness</td>\n",
              "      <td>4.731141</td>\n",
              "    </tr>\n",
              "    <tr>\n",
              "      <th>1500</th>\n",
              "      <td>i guess we would naturally feel a sense of lon...</td>\n",
              "      <td>anger</td>\n",
              "      <td>sadness</td>\n",
              "      <td>4.620309</td>\n",
              "    </tr>\n",
              "  </tbody>\n",
              "</table>\n",
              "</div>\n",
              "      <button class=\"colab-df-convert\" onclick=\"convertToInteractive('df-13af4107-a7ea-439b-bf16-383edd6c688f')\"\n",
              "              title=\"Convert this dataframe to an interactive table.\"\n",
              "              style=\"display:none;\">\n",
              "        \n",
              "  <svg xmlns=\"http://www.w3.org/2000/svg\" height=\"24px\"viewBox=\"0 0 24 24\"\n",
              "       width=\"24px\">\n",
              "    <path d=\"M0 0h24v24H0V0z\" fill=\"none\"/>\n",
              "    <path d=\"M18.56 5.44l.94 2.06.94-2.06 2.06-.94-2.06-.94-.94-2.06-.94 2.06-2.06.94zm-11 1L8.5 8.5l.94-2.06 2.06-.94-2.06-.94L8.5 2.5l-.94 2.06-2.06.94zm10 10l.94 2.06.94-2.06 2.06-.94-2.06-.94-.94-2.06-.94 2.06-2.06.94z\"/><path d=\"M17.41 7.96l-1.37-1.37c-.4-.4-.92-.59-1.43-.59-.52 0-1.04.2-1.43.59L10.3 9.45l-7.72 7.72c-.78.78-.78 2.05 0 2.83L4 21.41c.39.39.9.59 1.41.59.51 0 1.02-.2 1.41-.59l7.78-7.78 2.81-2.81c.8-.78.8-2.07 0-2.86zM5.41 20L4 18.59l7.72-7.72 1.47 1.35L5.41 20z\"/>\n",
              "  </svg>\n",
              "      </button>\n",
              "      \n",
              "  <style>\n",
              "    .colab-df-container {\n",
              "      display:flex;\n",
              "      flex-wrap:wrap;\n",
              "      gap: 12px;\n",
              "    }\n",
              "\n",
              "    .colab-df-convert {\n",
              "      background-color: #E8F0FE;\n",
              "      border: none;\n",
              "      border-radius: 50%;\n",
              "      cursor: pointer;\n",
              "      display: none;\n",
              "      fill: #1967D2;\n",
              "      height: 32px;\n",
              "      padding: 0 0 0 0;\n",
              "      width: 32px;\n",
              "    }\n",
              "\n",
              "    .colab-df-convert:hover {\n",
              "      background-color: #E2EBFA;\n",
              "      box-shadow: 0px 1px 2px rgba(60, 64, 67, 0.3), 0px 1px 3px 1px rgba(60, 64, 67, 0.15);\n",
              "      fill: #174EA6;\n",
              "    }\n",
              "\n",
              "    [theme=dark] .colab-df-convert {\n",
              "      background-color: #3B4455;\n",
              "      fill: #D2E3FC;\n",
              "    }\n",
              "\n",
              "    [theme=dark] .colab-df-convert:hover {\n",
              "      background-color: #434B5C;\n",
              "      box-shadow: 0px 1px 3px 1px rgba(0, 0, 0, 0.15);\n",
              "      filter: drop-shadow(0px 1px 2px rgba(0, 0, 0, 0.3));\n",
              "      fill: #FFFFFF;\n",
              "    }\n",
              "  </style>\n",
              "\n",
              "      <script>\n",
              "        const buttonEl =\n",
              "          document.querySelector('#df-13af4107-a7ea-439b-bf16-383edd6c688f button.colab-df-convert');\n",
              "        buttonEl.style.display =\n",
              "          google.colab.kernel.accessAllowed ? 'block' : 'none';\n",
              "\n",
              "        async function convertToInteractive(key) {\n",
              "          const element = document.querySelector('#df-13af4107-a7ea-439b-bf16-383edd6c688f');\n",
              "          const dataTable =\n",
              "            await google.colab.kernel.invokeFunction('convertToInteractive',\n",
              "                                                     [key], {});\n",
              "          if (!dataTable) return;\n",
              "\n",
              "          const docLinkHtml = 'Like what you see? Visit the ' +\n",
              "            '<a target=\"_blank\" href=https://colab.research.google.com/notebooks/data_table.ipynb>data table notebook</a>'\n",
              "            + ' to learn more about interactive tables.';\n",
              "          element.innerHTML = '';\n",
              "          dataTable['output_type'] = 'display_data';\n",
              "          await google.colab.output.renderOutput(dataTable, element);\n",
              "          const docLink = document.createElement('div');\n",
              "          docLink.innerHTML = docLinkHtml;\n",
              "          element.appendChild(docLink);\n",
              "        }\n",
              "      </script>\n",
              "    </div>\n",
              "  </div>\n",
              "  "
            ]
          },
          "metadata": {},
          "execution_count": 189
        }
      ]
    },
    {
      "cell_type": "code",
      "source": [
        "# let's see \n",
        "df_test.sort_values(\"loss\", ascending=True).head(10)"
      ],
      "metadata": {
        "colab": {
          "base_uri": "https://localhost:8080/",
          "height": 363
        },
        "id": "N885AoutRQeX",
        "outputId": "1332230c-979d-4a72-90a3-6018d608c85a"
      },
      "execution_count": 190,
      "outputs": [
        {
          "output_type": "execute_result",
          "data": {
            "text/plain": [
              "                                                   text    label  \\\n",
              "1531  i forgive stanley hes not so quick to forgive ...  sadness   \n",
              "625   i feel unwelcome in this town as if my time he...  sadness   \n",
              "392   i remember feeling disheartened one day when w...  sadness   \n",
              "697   i was missing him desperately and feeling idio...  sadness   \n",
              "244   im kinda relieve but at the same time i feel d...  sadness   \n",
              "1041  i suppose it all goes along with feeling unwel...  sadness   \n",
              "1861  im tired of feeling lethargic hating to work o...  sadness   \n",
              "69    i have no extra money im worried all of the ti...  sadness   \n",
              "323              im starting to feel unwelcome in there  sadness   \n",
              "189   i leave the meeting feeling more than a little...  sadness   \n",
              "\n",
              "     predicted_label      loss  \n",
              "1531         sadness  0.017998  \n",
              "625          sadness  0.018188  \n",
              "392          sadness  0.018280  \n",
              "697          sadness  0.018321  \n",
              "244          sadness  0.018465  \n",
              "1041         sadness  0.018480  \n",
              "1861         sadness  0.018558  \n",
              "69           sadness  0.018611  \n",
              "323          sadness  0.018624  \n",
              "189          sadness  0.018627  "
            ],
            "text/html": [
              "\n",
              "  <div id=\"df-1e1000ce-f005-4cd2-87b7-03dedf230407\">\n",
              "    <div class=\"colab-df-container\">\n",
              "      <div>\n",
              "<style scoped>\n",
              "    .dataframe tbody tr th:only-of-type {\n",
              "        vertical-align: middle;\n",
              "    }\n",
              "\n",
              "    .dataframe tbody tr th {\n",
              "        vertical-align: top;\n",
              "    }\n",
              "\n",
              "    .dataframe thead th {\n",
              "        text-align: right;\n",
              "    }\n",
              "</style>\n",
              "<table border=\"1\" class=\"dataframe\">\n",
              "  <thead>\n",
              "    <tr style=\"text-align: right;\">\n",
              "      <th></th>\n",
              "      <th>text</th>\n",
              "      <th>label</th>\n",
              "      <th>predicted_label</th>\n",
              "      <th>loss</th>\n",
              "    </tr>\n",
              "  </thead>\n",
              "  <tbody>\n",
              "    <tr>\n",
              "      <th>1531</th>\n",
              "      <td>i forgive stanley hes not so quick to forgive ...</td>\n",
              "      <td>sadness</td>\n",
              "      <td>sadness</td>\n",
              "      <td>0.017998</td>\n",
              "    </tr>\n",
              "    <tr>\n",
              "      <th>625</th>\n",
              "      <td>i feel unwelcome in this town as if my time he...</td>\n",
              "      <td>sadness</td>\n",
              "      <td>sadness</td>\n",
              "      <td>0.018188</td>\n",
              "    </tr>\n",
              "    <tr>\n",
              "      <th>392</th>\n",
              "      <td>i remember feeling disheartened one day when w...</td>\n",
              "      <td>sadness</td>\n",
              "      <td>sadness</td>\n",
              "      <td>0.018280</td>\n",
              "    </tr>\n",
              "    <tr>\n",
              "      <th>697</th>\n",
              "      <td>i was missing him desperately and feeling idio...</td>\n",
              "      <td>sadness</td>\n",
              "      <td>sadness</td>\n",
              "      <td>0.018321</td>\n",
              "    </tr>\n",
              "    <tr>\n",
              "      <th>244</th>\n",
              "      <td>im kinda relieve but at the same time i feel d...</td>\n",
              "      <td>sadness</td>\n",
              "      <td>sadness</td>\n",
              "      <td>0.018465</td>\n",
              "    </tr>\n",
              "    <tr>\n",
              "      <th>1041</th>\n",
              "      <td>i suppose it all goes along with feeling unwel...</td>\n",
              "      <td>sadness</td>\n",
              "      <td>sadness</td>\n",
              "      <td>0.018480</td>\n",
              "    </tr>\n",
              "    <tr>\n",
              "      <th>1861</th>\n",
              "      <td>im tired of feeling lethargic hating to work o...</td>\n",
              "      <td>sadness</td>\n",
              "      <td>sadness</td>\n",
              "      <td>0.018558</td>\n",
              "    </tr>\n",
              "    <tr>\n",
              "      <th>69</th>\n",
              "      <td>i have no extra money im worried all of the ti...</td>\n",
              "      <td>sadness</td>\n",
              "      <td>sadness</td>\n",
              "      <td>0.018611</td>\n",
              "    </tr>\n",
              "    <tr>\n",
              "      <th>323</th>\n",
              "      <td>im starting to feel unwelcome in there</td>\n",
              "      <td>sadness</td>\n",
              "      <td>sadness</td>\n",
              "      <td>0.018624</td>\n",
              "    </tr>\n",
              "    <tr>\n",
              "      <th>189</th>\n",
              "      <td>i leave the meeting feeling more than a little...</td>\n",
              "      <td>sadness</td>\n",
              "      <td>sadness</td>\n",
              "      <td>0.018627</td>\n",
              "    </tr>\n",
              "  </tbody>\n",
              "</table>\n",
              "</div>\n",
              "      <button class=\"colab-df-convert\" onclick=\"convertToInteractive('df-1e1000ce-f005-4cd2-87b7-03dedf230407')\"\n",
              "              title=\"Convert this dataframe to an interactive table.\"\n",
              "              style=\"display:none;\">\n",
              "        \n",
              "  <svg xmlns=\"http://www.w3.org/2000/svg\" height=\"24px\"viewBox=\"0 0 24 24\"\n",
              "       width=\"24px\">\n",
              "    <path d=\"M0 0h24v24H0V0z\" fill=\"none\"/>\n",
              "    <path d=\"M18.56 5.44l.94 2.06.94-2.06 2.06-.94-2.06-.94-.94-2.06-.94 2.06-2.06.94zm-11 1L8.5 8.5l.94-2.06 2.06-.94-2.06-.94L8.5 2.5l-.94 2.06-2.06.94zm10 10l.94 2.06.94-2.06 2.06-.94-2.06-.94-.94-2.06-.94 2.06-2.06.94z\"/><path d=\"M17.41 7.96l-1.37-1.37c-.4-.4-.92-.59-1.43-.59-.52 0-1.04.2-1.43.59L10.3 9.45l-7.72 7.72c-.78.78-.78 2.05 0 2.83L4 21.41c.39.39.9.59 1.41.59.51 0 1.02-.2 1.41-.59l7.78-7.78 2.81-2.81c.8-.78.8-2.07 0-2.86zM5.41 20L4 18.59l7.72-7.72 1.47 1.35L5.41 20z\"/>\n",
              "  </svg>\n",
              "      </button>\n",
              "      \n",
              "  <style>\n",
              "    .colab-df-container {\n",
              "      display:flex;\n",
              "      flex-wrap:wrap;\n",
              "      gap: 12px;\n",
              "    }\n",
              "\n",
              "    .colab-df-convert {\n",
              "      background-color: #E8F0FE;\n",
              "      border: none;\n",
              "      border-radius: 50%;\n",
              "      cursor: pointer;\n",
              "      display: none;\n",
              "      fill: #1967D2;\n",
              "      height: 32px;\n",
              "      padding: 0 0 0 0;\n",
              "      width: 32px;\n",
              "    }\n",
              "\n",
              "    .colab-df-convert:hover {\n",
              "      background-color: #E2EBFA;\n",
              "      box-shadow: 0px 1px 2px rgba(60, 64, 67, 0.3), 0px 1px 3px 1px rgba(60, 64, 67, 0.15);\n",
              "      fill: #174EA6;\n",
              "    }\n",
              "\n",
              "    [theme=dark] .colab-df-convert {\n",
              "      background-color: #3B4455;\n",
              "      fill: #D2E3FC;\n",
              "    }\n",
              "\n",
              "    [theme=dark] .colab-df-convert:hover {\n",
              "      background-color: #434B5C;\n",
              "      box-shadow: 0px 1px 3px 1px rgba(0, 0, 0, 0.15);\n",
              "      filter: drop-shadow(0px 1px 2px rgba(0, 0, 0, 0.3));\n",
              "      fill: #FFFFFF;\n",
              "    }\n",
              "  </style>\n",
              "\n",
              "      <script>\n",
              "        const buttonEl =\n",
              "          document.querySelector('#df-1e1000ce-f005-4cd2-87b7-03dedf230407 button.colab-df-convert');\n",
              "        buttonEl.style.display =\n",
              "          google.colab.kernel.accessAllowed ? 'block' : 'none';\n",
              "\n",
              "        async function convertToInteractive(key) {\n",
              "          const element = document.querySelector('#df-1e1000ce-f005-4cd2-87b7-03dedf230407');\n",
              "          const dataTable =\n",
              "            await google.colab.kernel.invokeFunction('convertToInteractive',\n",
              "                                                     [key], {});\n",
              "          if (!dataTable) return;\n",
              "\n",
              "          const docLinkHtml = 'Like what you see? Visit the ' +\n",
              "            '<a target=\"_blank\" href=https://colab.research.google.com/notebooks/data_table.ipynb>data table notebook</a>'\n",
              "            + ' to learn more about interactive tables.';\n",
              "          element.innerHTML = '';\n",
              "          dataTable['output_type'] = 'display_data';\n",
              "          await google.colab.output.renderOutput(dataTable, element);\n",
              "          const docLink = document.createElement('div');\n",
              "          docLink.innerHTML = docLinkHtml;\n",
              "          element.appendChild(docLink);\n",
              "        }\n",
              "      </script>\n",
              "    </div>\n",
              "  </div>\n",
              "  "
            ]
          },
          "metadata": {},
          "execution_count": 190
        }
      ]
    },
    {
      "cell_type": "code",
      "source": [
        "# Saving and sharing the model\n",
        "# my first time  \n",
        "trainer.push_to_hub(commit_message=\"Training completed!\")"
      ],
      "metadata": {
        "colab": {
          "base_uri": "https://localhost:8080/",
          "height": 246,
          "referenced_widgets": [
            "299229b6c7bd4533aed63b69c2c9d525",
            "e97a9d17baab44a383ce28e319cb185b",
            "25eb6185ab3d4771949b4b84aab29266",
            "cda08b959d6e49e2aacf16c08f2ae5c0",
            "360cadf6ad6f408585e4de7a8cf83e0a",
            "a8db3b69035946679d34183fcb39cdb2",
            "47eebc8bc5fc4bd9b1ef7678509ad686",
            "7f416375d2df4074a12a02b5edfaa186",
            "efc4b26feb10450da395a49f66b2928e",
            "9bf0a63db7134a33a1f56b021efbde02",
            "2ce2e5c55d354692b151670f20ea7ef9",
            "4782c6f52a384eddbac7ce170ec55c94",
            "f273836cdb174e12922e83255ec66a50",
            "0a1fd44326f049a2857dfaac0b9640ad",
            "ef50e674f2684219bf694b21ff2d3c77",
            "48c03b7d3bc94c6886d41561ae7f21fc",
            "7f7ce8fb85c246f68207b43003bb92f2",
            "bdf89382b6a94e7ba8199892df8c214e",
            "cff0ebf53264422b8c6808382b1eba4d",
            "fee8962ec99b4f4398ece440524d5a7d",
            "c72971e4cba54858951c674a426d0be9",
            "fb645e833f3a4a7eb26f480d39670a2a"
          ]
        },
        "id": "vVgzqljnRaPL",
        "outputId": "4e06d548-8338-4e45-b83b-d82694ef9dca"
      },
      "execution_count": 191,
      "outputs": [
        {
          "output_type": "stream",
          "name": "stderr",
          "text": [
            "Several commits (2) will be pushed upstream.\n",
            "The progress bars may be unreliable.\n"
          ]
        },
        {
          "output_type": "display_data",
          "data": {
            "text/plain": [
              "Upload file pytorch_model.bin:   0%|          | 3.34k/255M [00:00<?, ?B/s]"
            ],
            "application/vnd.jupyter.widget-view+json": {
              "version_major": 2,
              "version_minor": 0,
              "model_id": "299229b6c7bd4533aed63b69c2c9d525"
            }
          },
          "metadata": {}
        },
        {
          "output_type": "display_data",
          "data": {
            "text/plain": [
              "Upload file runs/Jul11_22-11-03_7fed312e62b7/events.out.tfevents.1657577466.7fed312e62b7.72.2:  50%|#####     …"
            ],
            "application/vnd.jupyter.widget-view+json": {
              "version_major": 2,
              "version_minor": 0,
              "model_id": "4782c6f52a384eddbac7ce170ec55c94"
            }
          },
          "metadata": {}
        },
        {
          "output_type": "stream",
          "name": "stderr",
          "text": [
            "To https://huggingface.co/Ahmed007/distilbert-base-uncased-finetuned-emotion\n",
            "   7e26aef..ba24695  main -> main\n",
            "\n",
            "To https://huggingface.co/Ahmed007/distilbert-base-uncased-finetuned-emotion\n",
            "   ba24695..f1eafa4  main -> main\n",
            "\n"
          ]
        },
        {
          "output_type": "execute_result",
          "data": {
            "text/plain": [
              "'https://huggingface.co/Ahmed007/distilbert-base-uncased-finetuned-emotion/commit/ba246957cbf0c6b41523720079717630f22e6126'"
            ],
            "application/vnd.google.colaboratory.intrinsic+json": {
              "type": "string"
            }
          },
          "metadata": {},
          "execution_count": 191
        }
      ]
    },
    {
      "cell_type": "code",
      "source": [
        "from transformers import pipeline\n",
        "# Change `transformersbook` to your Hub username\n",
        "model_id = \"transformersbook/distilbert-base-uncased-finetuned-emotion\"\n",
        "classifier = pipeline(\"text-classification\", model=model_id)"
      ],
      "metadata": {
        "id": "VaUDnqZcSAMh"
      },
      "execution_count": 192,
      "outputs": []
    },
    {
      "cell_type": "code",
      "source": [
        ""
      ],
      "metadata": {
        "id": "Y6e7DF9oSWkc"
      },
      "execution_count": 192,
      "outputs": []
    }
  ]
}